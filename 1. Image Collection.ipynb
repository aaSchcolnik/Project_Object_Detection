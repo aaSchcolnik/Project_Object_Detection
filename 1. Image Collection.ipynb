{
 "cells": [
  {
   "cell_type": "markdown",
   "metadata": {},
   "source": [
    "# 1. Import Dependencies"
   ]
  },
  {
   "cell_type": "code",
   "execution_count": 1,
   "metadata": {},
   "outputs": [
    {
     "name": "stdout",
     "output_type": "stream",
     "text": [
      "Requirement already satisfied: opencv-python in ./tfod/lib/python3.10/site-packages (4.5.5.64)\r\n",
      "Requirement already satisfied: numpy>=1.21.2 in ./tfod/lib/python3.10/site-packages (from opencv-python) (1.22.4)\r\n"
     ]
    }
   ],
   "source": [
    "!pip install opencv-python #open-computer vision"
   ]
  },
  {
   "cell_type": "code",
   "execution_count": 1,
   "metadata": {},
   "outputs": [],
   "source": [
    "# Import opencv\n",
    "import cv2 \n",
    "\n",
    "# Import uuid\n",
    "import uuid #Unique identifier, it lets us name our images uniquely so there's no overlap\n",
    "\n",
    "# Import Operating System\n",
    "import os #imports our operating system to ensure that we have filepaths that are compatible\n",
    "#between diferent OS's, it's very important to use this\n",
    "\n",
    "# Import time\n",
    "import time #we will use this for when we collect our images give it a 2 second break"
   ]
  },
  {
   "cell_type": "markdown",
   "metadata": {},
   "source": [
    "# 2. Define Images to Collect"
   ]
  },
  {
   "cell_type": "code",
   "execution_count": 2,
   "metadata": {},
   "outputs": [
    {
     "data": {
      "text/plain": [
       "list"
      ]
     },
     "execution_count": 2,
     "metadata": {},
     "output_type": "execute_result"
    }
   ],
   "source": [
    "labels = ['thumbsup', 'thumbsdown', 'thankyou', 'livelong']\n",
    "number_imgs = 5 #this just represents how many images we're going to collect\n",
    "#so 5 images per class (5 thumbsup, thumbsdown etc.), this is just for the prototype\n",
    "type(labels)"
   ]
  },
  {
   "cell_type": "markdown",
   "metadata": {},
   "source": [
    "# 3. Setup Folders "
   ]
  },
  {
   "cell_type": "code",
   "execution_count": 3,
   "metadata": {},
   "outputs": [],
   "source": [
    "IMAGES_PATH = os.path.join('Tensorflow', 'workspace', 'images', 'collectedimages')\n",
    "# we're creating a new path called 'Tensorflow', and inside of that there's a folder called\n",
    "# workspace, inside of workspace a folder called images and inside of that a folder called\n",
    "# collected images"
   ]
  },
  {
   "cell_type": "code",
   "execution_count": 5,
   "metadata": {},
   "outputs": [
    {
     "name": "stdout",
     "output_type": "stream",
     "text": [
      "Tensorflow/workspace/images/collectedimages\n"
     ]
    }
   ],
   "source": [
    "print(IMAGES_PATH) #navigating to a filepath"
   ]
  },
  {
   "cell_type": "code",
   "execution_count": 6,
   "metadata": {},
   "outputs": [
    {
     "data": {
      "text/plain": [
       "'posix'"
      ]
     },
     "execution_count": 6,
     "metadata": {},
     "output_type": "execute_result"
    }
   ],
   "source": [
    "os.name #posix for linux, nt for windows"
   ]
  },
  {
   "cell_type": "code",
   "execution_count": 4,
   "metadata": {},
   "outputs": [],
   "source": [
    "# This creates the whole filepath, after running this you'll create the folders mentioned above\n",
    "if not os.path.exists(IMAGES_PATH):\n",
    "    if os.name == 'posix':\n",
    "        !mkdir -p {IMAGES_PATH}\n",
    "    if os.name == 'nt':\n",
    "         !mkdir {IMAGES_PATH}\n",
    "for label in labels:\n",
    "    path = os.path.join(IMAGES_PATH, label)\n",
    "    if not os.path.exists(path):\n",
    "        !mkdir {path}\n",
    "# In collected images a folder is created for each label (thumbsup, thumbsdown etc.)"
   ]
  },
  {
   "cell_type": "markdown",
   "metadata": {},
   "source": [
    "# 4. Capture Images"
   ]
  },
  {
   "cell_type": "code",
   "execution_count": 18,
   "metadata": {},
   "outputs": [
    {
     "name": "stdout",
     "output_type": "stream",
     "text": [
      "Collecting images for thumbsup\n",
      "Collecting image 0\n",
      "Collecting image 1\n",
      "Collecting image 2\n",
      "Collecting image 3\n",
      "Collecting image 4\n"
     ]
    }
   ],
   "source": [
    "for label in labels:\n",
    "    cap = cv2.VideoCapture(0) # Connects to our webcam or capture device (microscopes\n",
    "    # extra camera, etc)\n",
    "    print('Collecting images for {}'.format(label)) #print out which label we're collecting\n",
    "    #images for [for example, \"Collecting images for thumbsup\"]\n",
    "    time.sleep(5)# Gives us a 5 second break to change position\n",
    "    for imgnum in range(number_imgs): #loop through the number of images we need, so 5 per label\n",
    "        print('Collecting image {}'.format(imgnum))\n",
    "        ret, frame = cap.read() #capture the frame using webcam\n",
    "        imgname = os.path.join(IMAGES_PATH,label,label+'.'+'{}.jpg'.format(str(uuid.uuid1())))\n",
    "        #create a new image and place it inside the particular folder\n",
    "        #it'll name the file label + {their respective identifier} (uuid)\n",
    "        cv2.imwrite(imgname, frame) # to write it down into file\n",
    "        cv2.imshow('frame', frame) # show to a screen\n",
    "        time.sleep(2) # 2 second break\n",
    "\n",
    "        if cv2.waitKey(1) & 0xFF == ord('q'): #if we need to exit the process we can press q\n",
    "            #on our keyboard and it'll close everything\n",
    "            break\n",
    "cap.release()\n",
    "cv2.destroyAllWindows()\n",
    "# Couldn't use since i dont own a webcam"
   ]
  },
  {
   "cell_type": "markdown",
   "metadata": {},
   "source": [
    "# 5. Image Labelling"
   ]
  },
  {
   "cell_type": "code",
   "execution_count": 3,
   "metadata": {
    "scrolled": true
   },
   "outputs": [
    {
     "name": "stdout",
     "output_type": "stream",
     "text": [
      "Collecting package metadata (current_repodata.json): done\n",
      "Solving environment: done\n",
      "\n",
      "## Package Plan ##\n",
      "\n",
      "  environment location: /Users/aaronschcolnik/Documents/TFODCourse_copy/tfod\n",
      "\n",
      "  added / updated specs:\n",
      "    - lxml\n",
      "\n",
      "\n",
      "The following packages will be downloaded:\n",
      "\n",
      "    package                    |            build\n",
      "    ---------------------------|-----------------\n",
      "    ca-certificates-2022.4.26  |       hca03da5_0         127 KB  anaconda\n",
      "    certifi-2021.10.8          |  py310hca03da5_2         145 KB  anaconda\n",
      "    libiconv-1.16              |       h1a28f6b_2         1.3 MB  anaconda\n",
      "    libxml2-2.9.14             |       h035c1df_0         655 KB  conda-forge\n",
      "    libxslt-1.1.33             |       h29d35be_4         544 KB  conda-forge\n",
      "    lxml-4.8.0                 |  py310hf8d0d8f_3         1.3 MB  conda-forge\n",
      "    ------------------------------------------------------------\n",
      "                                           Total:         4.1 MB\n",
      "\n",
      "The following NEW packages will be INSTALLED:\n",
      "\n",
      "  libiconv           anaconda/osx-arm64::libiconv-1.16-h1a28f6b_2\n",
      "  libxml2            conda-forge/osx-arm64::libxml2-2.9.14-h035c1df_0\n",
      "  libxslt            conda-forge/osx-arm64::libxslt-1.1.33-h29d35be_4\n",
      "  lxml               conda-forge/osx-arm64::lxml-4.8.0-py310hf8d0d8f_3\n",
      "\n",
      "The following packages will be SUPERSEDED by a higher-priority channel:\n",
      "\n",
      "  ca-certificates    conda-forge::ca-certificates-2022.5.1~ --> anaconda::ca-certificates-2022.4.26-hca03da5_0\n",
      "  certifi            conda-forge::certifi-2022.5.18.1-py31~ --> anaconda::certifi-2021.10.8-py310hca03da5_2\n",
      "\n",
      "\n",
      "\n",
      "Downloading and Extracting Packages\n",
      "ca-certificates-2022 | 127 KB    | ##################################### | 100% \n",
      "lxml-4.8.0           | 1.3 MB    | ##################################### | 100% \n",
      "certifi-2021.10.8    | 145 KB    | ##################################### | 100% \n",
      "libxslt-1.1.33       | 544 KB    | ##################################### | 100% \n",
      "libiconv-1.16        | 1.3 MB    | ##################################### | 100% \n",
      "libxml2-2.9.14       | 655 KB    | ##################################### | 100% \n",
      "Preparing transaction: done\n",
      "Verifying transaction: done\n",
      "Executing transaction: done\n",
      "\n",
      "Note: you may need to restart the kernel to use updated packages.\n"
     ]
    }
   ],
   "source": [
    "conda install -c anaconda lxml "
   ]
  },
  {
   "cell_type": "code",
   "execution_count": null,
   "metadata": {
    "scrolled": true
   },
   "outputs": [
    {
     "name": "stdout",
     "output_type": "stream",
     "text": [
      "Collecting package metadata (current_repodata.json): done\n",
      "Solving environment: done\n",
      "\n",
      "## Package Plan ##\n",
      "\n",
      "  environment location: /Users/aaronschcolnik/Documents/TFODCourse_copy/tfod\n",
      "\n",
      "  added / updated specs:\n",
      "    - pyqt\n",
      "\n",
      "\n",
      "The following packages will be downloaded:\n",
      "\n",
      "    package                    |            build\n",
      "    ---------------------------|-----------------\n",
      "    gettext-0.19.8.1           |    h049c9fb_1008         3.3 MB  conda-forge\n",
      "    gst-plugins-base-1.20.2    |       hbf05cfb_1         2.0 MB  conda-forge\n",
      "    gstreamer-1.20.2           |       h3d5cedb_1         1.4 MB  conda-forge\n",
      "    libclang-14.0.4            |default_h81a5282_0         127 KB  conda-forge\n",
      "    libclang13-14.0.4          |default_he70ec0d_0         7.4 MB  conda-forge\n",
      "    libglib-2.70.2             |       h67e64d8_4         2.8 MB  conda-forge\n",
      "    libllvm14-14.0.4           |       h37c5ba8_0        25.0 MB  conda-forge\n",
      "    libogg-1.3.4               |       h27ca646_1         203 KB  conda-forge\n",
      "    libopus-1.3.1              |       h27ca646_1         247 KB  conda-forge\n",
      "    libpq-14.3                 |       h8ab49ba_0         2.9 MB  conda-forge\n",
      "    libvorbis-1.3.7            |       h9f76cd9_0         249 KB  conda-forge\n",
      "    lz4-c-1.9.3                |       hbdafb3b_1         147 KB  conda-forge\n",
      "    mysql-common-8.0.29        |       haa90c7b_1         1.8 MB  conda-forge\n",
      "    mysql-libs-8.0.29          |       h0a1dba2_1         1.9 MB  conda-forge\n",
      "    nspr-4.32                  |       hbdafb3b_1         238 KB  conda-forge\n",
      "    nss-3.78                   |       h1483a63_0         1.9 MB  conda-forge\n",
      "    pcre-8.45                  |       hbdafb3b_0         230 KB  conda-forge\n",
      "    pyqt-5.15.4                |  py310h1105856_0         4.7 MB  conda-forge\n",
      "    pyqt5-sip-12.9.0           |  py310h1105856_0          71 KB  conda-forge\n",
      "    qt-main-5.15.3             |       haf604a7_1        64.9 MB  conda-forge\n",
      "    sip-6.5.1                  |  py310h1b49c16_2         363 KB  conda-forge\n",
      "    toml-0.10.2                |     pyhd8ed1ab_0          18 KB  conda-forge\n",
      "    zstd-1.5.2                 |       hd705a24_1         374 KB  conda-forge\n",
      "    ------------------------------------------------------------\n",
      "                                           Total:       122.4 MB\n",
      "\n",
      "The following NEW packages will be INSTALLED:\n",
      "\n",
      "  gettext            conda-forge/osx-arm64::gettext-0.19.8.1-h049c9fb_1008\n",
      "  gst-plugins-base   conda-forge/osx-arm64::gst-plugins-base-1.20.2-hbf05cfb_1\n",
      "  gstreamer          conda-forge/osx-arm64::gstreamer-1.20.2-h3d5cedb_1\n",
      "  libclang           conda-forge/osx-arm64::libclang-14.0.4-default_h81a5282_0\n",
      "  libclang13         conda-forge/osx-arm64::libclang13-14.0.4-default_he70ec0d_0\n",
      "  libglib            conda-forge/osx-arm64::libglib-2.70.2-h67e64d8_4\n",
      "  libllvm14          conda-forge/osx-arm64::libllvm14-14.0.4-h37c5ba8_0\n",
      "  libogg             conda-forge/osx-arm64::libogg-1.3.4-h27ca646_1\n",
      "  libopus            conda-forge/osx-arm64::libopus-1.3.1-h27ca646_1\n",
      "  libpq              conda-forge/osx-arm64::libpq-14.3-h8ab49ba_0\n",
      "  libvorbis          conda-forge/osx-arm64::libvorbis-1.3.7-h9f76cd9_0\n",
      "  lz4-c              conda-forge/osx-arm64::lz4-c-1.9.3-hbdafb3b_1\n",
      "  mysql-common       conda-forge/osx-arm64::mysql-common-8.0.29-haa90c7b_1\n",
      "  mysql-libs         conda-forge/osx-arm64::mysql-libs-8.0.29-h0a1dba2_1\n",
      "  nspr               conda-forge/osx-arm64::nspr-4.32-hbdafb3b_1\n",
      "  nss                conda-forge/osx-arm64::nss-3.78-h1483a63_0\n",
      "  packaging          conda-forge/noarch::packaging-21.3-pyhd8ed1ab_0\n",
      "  pcre               conda-forge/osx-arm64::pcre-8.45-hbdafb3b_0\n",
      "  pyparsing          conda-forge/noarch::pyparsing-3.0.9-pyhd8ed1ab_0\n",
      "  pyqt               conda-forge/osx-arm64::pyqt-5.15.4-py310h1105856_0\n",
      "  pyqt5-sip          conda-forge/osx-arm64::pyqt5-sip-12.9.0-py310h1105856_0\n",
      "  qt-main            conda-forge/osx-arm64::qt-main-5.15.3-haf604a7_1\n",
      "  sip                conda-forge/osx-arm64::sip-6.5.1-py310h1b49c16_2\n",
      "  toml               conda-forge/noarch::toml-0.10.2-pyhd8ed1ab_0\n",
      "  zstd               conda-forge/osx-arm64::zstd-1.5.2-hd705a24_1\n",
      "\n",
      "The following packages will be UPDATED:\n",
      "\n",
      "  ca-certificates    anaconda::ca-certificates-2022.4.26-h~ --> conda-forge::ca-certificates-2022.5.18.1-h4653dfc_0\n",
      "  certifi            anaconda::certifi-2021.10.8-py310hca0~ --> conda-forge::certifi-2022.5.18.1-py310hbe9552e_0\n",
      "\n",
      "\n",
      "\n",
      "Downloading and Extracting Packages\n",
      "pyqt5-sip-12.9.0     | 71 KB     | ##################################### | 100% \n",
      "libogg-1.3.4         | 203 KB    | ##################################### | 100% \n",
      "gstreamer-1.20.2     | 1.4 MB    | ##################################### | 100% \n",
      "libclang-14.0.4      | 127 KB    | ##################################### | 100% \n",
      "pyqt-5.15.4          | 4.7 MB    | ##################################### | 100% \n",
      "toml-0.10.2          | 18 KB     | ##################################### | 100% \n",
      "lz4-c-1.9.3          | 147 KB    | ##################################### | 100% \n",
      "mysql-libs-8.0.29    | 1.9 MB    | ##################################### | 100% \n",
      "nss-3.78             | 1.9 MB    | ##################################### | 100% \n",
      "libopus-1.3.1        | 247 KB    | ##################################### | 100% \n",
      "libvorbis-1.3.7      | 249 KB    | ##################################### | 100% \n",
      "gettext-0.19.8.1     | 3.3 MB    | ##################################### | 100% \n",
      "gst-plugins-base-1.2 | 2.0 MB    | ##################################### | 100% \n",
      "libpq-14.3           | 2.9 MB    | ##################################### | 100% \n",
      "nspr-4.32            | 238 KB    | ##################################### | 100% \n",
      "zstd-1.5.2           | 374 KB    | ##################################### | 100% \n",
      "libglib-2.70.2       | 2.8 MB    | ##################################### | 100% \n",
      "qt-main-5.15.3       | 64.9 MB   | ##################################### | 100% \n",
      "libclang13-14.0.4    | 7.4 MB    | ##################################### | 100% \n",
      "sip-6.5.1            | 363 KB    | ##################################### | 100% \n",
      "libllvm14-14.0.4     | 25.0 MB   | ##################################### | 100% \n",
      "pcre-8.45            | 230 KB    | ##################################### | 100% \n",
      "mysql-common-8.0.29  | 1.8 MB    | ##################################### | 100% \n",
      "Preparing transaction: done\n",
      "Verifying transaction: done\n",
      "Executing transaction: | "
     ]
    }
   ],
   "source": [
    "conda install -c conda-forge pyqt"
   ]
  },
  {
   "cell_type": "code",
   "execution_count": 6,
   "metadata": {},
   "outputs": [
    {
     "name": "stdout",
     "output_type": "stream",
     "text": [
      "Package                 Version\r\n",
      "----------------------- -----------\r\n",
      "absl-py                 1.0.0\r\n",
      "aiohttp                 3.8.1\r\n",
      "aiosignal               1.2.0\r\n",
      "anyio                   3.6.1\r\n",
      "appnope                 0.1.3\r\n",
      "argon2-cffi             21.3.0\r\n",
      "argon2-cffi-bindings    21.2.0\r\n",
      "asttokens               2.0.5\r\n",
      "astunparse              1.6.3\r\n",
      "async-timeout           4.0.2\r\n",
      "attrs                   21.4.0\r\n",
      "Babel                   2.10.1\r\n",
      "backcall                0.2.0\r\n",
      "beautifulsoup4          4.11.1\r\n",
      "bleach                  5.0.0\r\n",
      "blinker                 1.4\r\n",
      "brotlipy                0.7.0\r\n",
      "cached-property         1.5.2\r\n",
      "cachetools              5.0.0\r\n",
      "certifi                 2022.5.18.1\r\n",
      "cffi                    1.15.0\r\n",
      "charset-normalizer      2.0.12\r\n",
      "click                   8.1.3\r\n",
      "cryptography            37.0.2\r\n",
      "debugpy                 1.6.0\r\n",
      "decorator               5.1.1\r\n",
      "defusedxml              0.7.1\r\n",
      "entrypoints             0.4\r\n",
      "executing               0.8.3\r\n",
      "fastjsonschema          2.15.3\r\n",
      "flatbuffers             2.0\r\n",
      "frozenlist              1.3.0\r\n",
      "gast                    0.5.3\r\n",
      "google-auth             2.6.6\r\n",
      "google-auth-oauthlib    0.4.6\r\n",
      "google-pasta            0.2.0\r\n",
      "grpcio                  1.45.0\r\n",
      "h5py                    3.6.0\r\n",
      "idna                    3.3\r\n",
      "importlib-metadata      4.11.4\r\n",
      "ipykernel               6.13.0\r\n",
      "ipython                 8.4.0\r\n",
      "ipython-genutils        0.2.0\r\n",
      "jedi                    0.18.1\r\n",
      "Jinja2                  3.1.2\r\n",
      "json5                   0.9.8\r\n",
      "jsonschema              4.5.1\r\n",
      "jupyter-client          7.3.1\r\n",
      "jupyter-core            4.10.0\r\n",
      "jupyter-server          1.17.0\r\n",
      "jupyterlab              3.4.2\r\n",
      "jupyterlab-pygments     0.2.2\r\n",
      "jupyterlab-server       2.14.0\r\n",
      "keras                   2.8.0\r\n",
      "Keras-Preprocessing     1.1.2\r\n",
      "lxml                    4.8.0\r\n",
      "Markdown                3.3.7\r\n",
      "MarkupSafe              2.1.1\r\n",
      "matplotlib-inline       0.1.3\r\n",
      "mistune                 0.8.4\r\n",
      "multidict               6.0.2\r\n",
      "nbclassic               0.3.7\r\n",
      "nbclient                0.6.3\r\n",
      "nbconvert               6.5.0\r\n",
      "nbformat                5.4.0\r\n",
      "nest-asyncio            1.5.5\r\n",
      "notebook                6.4.11\r\n",
      "notebook-shim           0.1.0\r\n",
      "numpy                   1.22.4\r\n",
      "oauthlib                3.2.0\r\n",
      "opencv-python           4.5.5.64\r\n",
      "opt-einsum              3.3.0\r\n",
      "packaging               21.3\r\n",
      "pandocfilters           1.5.0\r\n",
      "parso                   0.8.3\r\n",
      "pexpect                 4.8.0\r\n",
      "pickleshare             0.7.5\r\n",
      "pip                     22.1.1\r\n",
      "prometheus-client       0.14.1\r\n",
      "prompt-toolkit          3.0.29\r\n",
      "protobuf                3.20.1\r\n",
      "psutil                  5.9.1\r\n",
      "ptyprocess              0.7.0\r\n",
      "pure-eval               0.2.2\r\n",
      "pyasn1                  0.4.8\r\n",
      "pyasn1-modules          0.2.7\r\n",
      "pycparser               2.21\r\n",
      "Pygments                2.12.0\r\n",
      "PyJWT                   2.4.0\r\n",
      "pyOpenSSL               22.0.0\r\n",
      "pyparsing               3.0.9\r\n",
      "PyQt5-sip               12.9.0\r\n",
      "pyrsistent              0.18.1\r\n",
      "PySocks                 1.7.1\r\n",
      "python-dateutil         2.8.2\r\n",
      "pytz                    2022.1\r\n",
      "pyu2f                   0.1.5\r\n",
      "pyzmq                   23.0.0\r\n",
      "requests                2.27.1\r\n",
      "requests-oauthlib       1.3.1\r\n",
      "rsa                     4.8\r\n",
      "scipy                   1.8.1\r\n",
      "Send2Trash              1.8.0\r\n",
      "setuptools              62.3.2\r\n",
      "sip                     6.5.1\r\n",
      "six                     1.15.0\r\n",
      "sniffio                 1.2.0\r\n",
      "soupsieve               2.3.2.post1\r\n",
      "stack-data              0.2.0\r\n",
      "tensorboard             2.8.0\r\n",
      "tensorboard-data-server 0.6.0\r\n",
      "tensorboard-plugin-wit  1.8.1\r\n",
      "tensorflow              2.8.1\r\n",
      "tensorflow-estimator    2.8.0\r\n",
      "tensorflow-metal        0.5.0\r\n",
      "termcolor               1.1.0\r\n",
      "terminado               0.15.0\r\n",
      "tinycss2                1.1.1\r\n",
      "toml                    0.10.2\r\n",
      "tornado                 6.1\r\n",
      "traitlets               5.2.1.post0\r\n",
      "typing_extensions       4.2.0\r\n",
      "urllib3                 1.26.9\r\n",
      "wcwidth                 0.2.5\r\n",
      "webencodings            0.5.1\r\n",
      "websocket-client        1.3.2\r\n",
      "Werkzeug                2.1.2\r\n",
      "wheel                   0.37.1\r\n",
      "wrapt                   1.14.1\r\n",
      "yarl                    1.7.2\r\n",
      "zipp                    3.8.0\r\n"
     ]
    }
   ],
   "source": [
    "!pip list"
   ]
  },
  {
   "cell_type": "code",
   "execution_count": 5,
   "metadata": {},
   "outputs": [],
   "source": [
    "LABELIMG_PATH = os.path.join('Tensorflow', 'labelimg')"
   ]
  },
  {
   "cell_type": "code",
   "execution_count": 6,
   "metadata": {},
   "outputs": [
    {
     "name": "stdout",
     "output_type": "stream",
     "text": [
      "Cloning into 'Tensorflow/labelimg'...\n",
      "remote: Enumerating objects: 1986, done.\u001b[K\n",
      "remote: Total 1986 (delta 0), reused 0 (delta 0), pack-reused 1986\u001b[K\n",
      "Receiving objects: 100% (1986/1986), 232.85 MiB | 4.84 MiB/s, done.\n",
      "Resolving deltas: 100% (1183/1183), done.\n"
     ]
    }
   ],
   "source": [
    "if not os.path.exists(LABELIMG_PATH): #clone the github repo into this filepath\n",
    "    !mkdir {LABELIMG_PATH}\n",
    "    !git clone https://github.com/tzutalin/labelImg {LABELIMG_PATH}"
   ]
  },
  {
   "cell_type": "code",
   "execution_count": 9,
   "metadata": {},
   "outputs": [
    {
     "name": "stdout",
     "output_type": "stream",
     "text": [
      "pyrcc5 -o libs/resources.py resources.qrc\r\n"
     ]
    }
   ],
   "source": [
    "if os.name == 'posix': \n",
    "    !cd {LABELIMG_PATH} &&make qt5py3\n",
    "if os.name =='nt':\n",
    "    !cd {LABELIMG_PATH} && pyrcc5 -o libs/resources.py resources.qrc"
   ]
  },
  {
   "cell_type": "code",
   "execution_count": 10,
   "metadata": {},
   "outputs": [
    {
     "name": "stdout",
     "output_type": "stream",
     "text": [
      "Loading setting failed\n",
      "Image:/Users/aaronschcolnik/Documents/TFODCourse_copy/Tensorflow/workspace/images/collectedimages/livelong/IMG_5362.HEIC -> Annotation:/Users/aaronschcolnik/Documents/TFODCourse_copy/Tensorflow/workspace/images/collectedimages/livelong/IMG_5362.xml\n",
      "Image:/Users/aaronschcolnik/Documents/TFODCourse_copy/Tensorflow/workspace/images/collectedimages/livelong/IMG_5363.HEIC -> Annotation:/Users/aaronschcolnik/Documents/TFODCourse_copy/Tensorflow/workspace/images/collectedimages/livelong/IMG_5363.xml\n",
      "Image:/Users/aaronschcolnik/Documents/TFODCourse_copy/Tensorflow/workspace/images/collectedimages/livelong/IMG_5364.HEIC -> Annotation:/Users/aaronschcolnik/Documents/TFODCourse_copy/Tensorflow/workspace/images/collectedimages/livelong/IMG_5364.xml\n",
      "Image:/Users/aaronschcolnik/Documents/TFODCourse_copy/Tensorflow/workspace/images/collectedimages/livelong/IMG_5365.HEIC -> Annotation:/Users/aaronschcolnik/Documents/TFODCourse_copy/Tensorflow/workspace/images/collectedimages/livelong/IMG_5365.xml\n",
      "Image:/Users/aaronschcolnik/Documents/TFODCourse_copy/Tensorflow/workspace/images/collectedimages/livelong/IMG_5366.HEIC -> Annotation:/Users/aaronschcolnik/Documents/TFODCourse_copy/Tensorflow/workspace/images/collectedimages/livelong/IMG_5366.xml\n",
      "Image:/Users/aaronschcolnik/Documents/TFODCourse_copy/Tensorflow/workspace/images/collectedimages/thankyou/IMG_5367.HEIC -> Annotation:/Users/aaronschcolnik/Documents/TFODCourse_copy/Tensorflow/workspace/images/collectedimages/thankyou/IMG_5367.xml\n",
      "Image:/Users/aaronschcolnik/Documents/TFODCourse_copy/Tensorflow/workspace/images/collectedimages/thankyou/IMG_5368.HEIC -> Annotation:/Users/aaronschcolnik/Documents/TFODCourse_copy/Tensorflow/workspace/images/collectedimages/thankyou/IMG_5368.xml\n",
      "Image:/Users/aaronschcolnik/Documents/TFODCourse_copy/Tensorflow/workspace/images/collectedimages/thankyou/IMG_5369.HEIC -> Annotation:/Users/aaronschcolnik/Documents/TFODCourse_copy/Tensorflow/workspace/images/collectedimages/thankyou/IMG_5369.xml\n",
      "Image:/Users/aaronschcolnik/Documents/TFODCourse_copy/Tensorflow/workspace/images/collectedimages/thankyou/IMG_5370.HEIC -> Annotation:/Users/aaronschcolnik/Documents/TFODCourse_copy/Tensorflow/workspace/images/collectedimages/thankyou/IMG_5370.xml\n",
      "Image:/Users/aaronschcolnik/Documents/TFODCourse_copy/Tensorflow/workspace/images/collectedimages/thankyou/IMG_5371.HEIC -> Annotation:/Users/aaronschcolnik/Documents/TFODCourse_copy/Tensorflow/workspace/images/collectedimages/thankyou/IMG_5371.xml\n",
      "Image:/Users/aaronschcolnik/Documents/TFODCourse_copy/Tensorflow/workspace/images/collectedimages/thumbsdown/IMG_5357.HEIC -> Annotation:/Users/aaronschcolnik/Documents/TFODCourse_copy/Tensorflow/workspace/images/collectedimages/thumbsdown/IMG_5357.xml\n",
      "Image:/Users/aaronschcolnik/Documents/TFODCourse_copy/Tensorflow/workspace/images/collectedimages/thumbsdown/IMG_5358.HEIC -> Annotation:/Users/aaronschcolnik/Documents/TFODCourse_copy/Tensorflow/workspace/images/collectedimages/thumbsdown/IMG_5358.xml\n",
      "Image:/Users/aaronschcolnik/Documents/TFODCourse_copy/Tensorflow/workspace/images/collectedimages/thumbsdown/IMG_5359.HEIC -> Annotation:/Users/aaronschcolnik/Documents/TFODCourse_copy/Tensorflow/workspace/images/collectedimages/thumbsdown/IMG_5359.xml\n",
      "Image:/Users/aaronschcolnik/Documents/TFODCourse_copy/Tensorflow/workspace/images/collectedimages/thumbsdown/IMG_5360.HEIC -> Annotation:/Users/aaronschcolnik/Documents/TFODCourse_copy/Tensorflow/workspace/images/collectedimages/thumbsdown/IMG_5360.xml\n",
      "Image:/Users/aaronschcolnik/Documents/TFODCourse_copy/Tensorflow/workspace/images/collectedimages/thumbsdown/IMG_5361.HEIC -> Annotation:/Users/aaronschcolnik/Documents/TFODCourse_copy/Tensorflow/workspace/images/collectedimages/thumbsdown/IMG_5361.xml\n",
      "Image:/Users/aaronschcolnik/Documents/TFODCourse_copy/Tensorflow/workspace/images/collectedimages/thumbsup/IMG_5352.HEIC -> Annotation:/Users/aaronschcolnik/Documents/TFODCourse_copy/Tensorflow/workspace/images/collectedimages/thumbsup/IMG_5352.xml\n",
      "Image:/Users/aaronschcolnik/Documents/TFODCourse_copy/Tensorflow/workspace/images/collectedimages/thumbsup/IMG_5353.HEIC -> Annotation:/Users/aaronschcolnik/Documents/TFODCourse_copy/Tensorflow/workspace/images/collectedimages/thumbsup/IMG_5353.xml\n",
      "Image:/Users/aaronschcolnik/Documents/TFODCourse_copy/Tensorflow/workspace/images/collectedimages/thumbsup/IMG_5354.HEIC -> Annotation:/Users/aaronschcolnik/Documents/TFODCourse_copy/Tensorflow/workspace/images/collectedimages/thumbsup/IMG_5354.xml\n",
      "Image:/Users/aaronschcolnik/Documents/TFODCourse_copy/Tensorflow/workspace/images/collectedimages/thumbsup/IMG_5355.HEIC -> Annotation:/Users/aaronschcolnik/Documents/TFODCourse_copy/Tensorflow/workspace/images/collectedimages/thumbsup/IMG_5355.xml\n",
      "Image:/Users/aaronschcolnik/Documents/TFODCourse_copy/Tensorflow/workspace/images/collectedimages/thumbsup/IMG_5356.HEIC -> Annotation:/Users/aaronschcolnik/Documents/TFODCourse_copy/Tensorflow/workspace/images/collectedimages/thumbsup/IMG_5356.xml\n",
      "Traceback (most recent call last):\n",
      "  File \"/Users/aaronschcolnik/Documents/TFODCourse_copy/Tensorflow/labelimg/labelImg.py\", line 1232, in closeEvent\n",
      "    settings.save()\n",
      "  File \"/Users/aaronschcolnik/Documents/TFODCourse_copy/Tensorflow/labelimg/libs/settings.py\", line 26, in save\n",
      "    pickle.dump(self.data, f, pickle.HIGHEST_PROTOCOL)\n",
      "SystemError: PY_SSIZE_T_CLEAN macro must be defined for '#' formats\n"
     ]
    }
   ],
   "source": [
    "!cd {LABELIMG_PATH} && python labelImg.py #this launches labelimg"
   ]
  },
  {
   "cell_type": "markdown",
   "metadata": {},
   "source": [
    "# 6. Move them into a Training and Testing Partition"
   ]
  },
  {
   "cell_type": "markdown",
   "metadata": {},
   "source": [
    "# OPTIONAL - 7. Compress them for Colab Training"
   ]
  },
  {
   "cell_type": "code",
   "execution_count": 20,
   "metadata": {},
   "outputs": [],
   "source": [
    "TRAIN_PATH = os.path.join('Tensorflow', 'workspace', 'images', 'train')\n",
    "TEST_PATH = os.path.join('Tensorflow', 'workspace', 'images', 'test')\n",
    "ARCHIVE_PATH = os.path.join('Tensorflow', 'workspace', 'images', 'archive.tar.gz')"
   ]
  },
  {
   "cell_type": "code",
   "execution_count": 21,
   "metadata": {},
   "outputs": [],
   "source": [
    "!tar -czf {ARCHIVE_PATH} {TRAIN_PATH} {TEST_PATH}"
   ]
  },
  {
   "cell_type": "code",
   "execution_count": null,
   "metadata": {},
   "outputs": [],
   "source": []
  }
 ],
 "metadata": {
  "kernelspec": {
   "display_name": "tfod",
   "language": "python",
   "name": "tfod"
  },
  "language_info": {
   "codemirror_mode": {
    "name": "ipython",
    "version": 3
   },
   "file_extension": ".py",
   "mimetype": "text/x-python",
   "name": "python",
   "nbconvert_exporter": "python",
   "pygments_lexer": "ipython3",
   "version": "3.10.4"
  }
 },
 "nbformat": 4,
 "nbformat_minor": 2
}
