{
 "cells": [
  {
   "cell_type": "markdown",
   "metadata": {
    "id": "QUANWN3rpfC9",
    "pycharm": {
     "name": "#%% md\n"
    }
   },
   "source": [
    "# 0. Setup Paths"
   ]
  },
  {
   "cell_type": "code",
   "execution_count": 10,
   "metadata": {
    "id": "146BB11JpfDA",
    "pycharm": {
     "name": "#%%\n"
    }
   },
   "outputs": [],
   "source": [
    "import os"
   ]
  },
  {
   "cell_type": "code",
   "execution_count": 11,
   "metadata": {
    "id": "42hJEdo_pfDB",
    "pycharm": {
     "name": "#%%\n"
    }
   },
   "outputs": [],
   "source": [
    "CUSTOM_MODEL_NAME = 'my_ssd_mobnet' #modelo preentrenado de tensorflow zoo\n",
    "PRETRAINED_MODEL_NAME = 'ssd_mobilenet_v2_fpnlite_320x320_coco17_tpu-8' # nombre del modelo\n",
    "PRETRAINED_MODEL_URL = 'http://download.tensorflow.org/models/object_detection/tf2/20200711/ssd_mobilenet_v2_fpnlite_320x320_coco17_tpu-8.tar.gz'\n",
    "#url para la descarga del modelo\n",
    "TF_RECORD_SCRIPT_NAME = 'generate_tfrecord.py' #nombre del script\n",
    "LABEL_MAP_NAME = 'label_map.pbtxt' "
   ]
  },
  {
   "cell_type": "code",
   "execution_count": 12,
   "metadata": {
    "id": "hbPhYVy_pfDB",
    "pycharm": {
     "name": "#%%\n"
    }
   },
   "outputs": [],
   "source": [
    "paths = { #utilizaremos este diccionario para la creacion de multiples folders con la finalidad de tener todo bien ordenado.\n",
    "    'WORKSPACE_PATH': os.path.join('Tensorflow', 'work'), #area de trabajo\n",
    "    'SCRIPTS_PATH': os.path.join('Tensorflow','scripts'), #folder de scripts\n",
    "    'APIMODEL_PATH': os.path.join('Tensorflow','api_models'), #modelos del api\n",
    "    'ANNOTATION_PATH': os.path.join('Tensorflow', 'work','annotations'), #anotaciones\n",
    "    'IMAGE_PATH': os.path.join('Tensorflow', 'work','imagenes'), #imagenes\n",
    "    'MODEL_PATH': os.path.join('Tensorflow', 'work','models'), #modelos \n",
    "    'PRETRAINED_MODEL_PATH': os.path.join('Tensorflow', 'work','pre-trained-models'), #modelos preentrenados\n",
    "    'CHECKPOINT_PATH': os.path.join('Tensorflow', 'work','models',CUSTOM_MODEL_NAME), #checkpoints o puntos de parada\n",
    "    'OUTPUT_PATH': os.path.join('Tensorflow', 'work','models',CUSTOM_MODEL_NAME, 'export'), \n",
    "    'TFJS_PATH':os.path.join('Tensorflow', 'work','models',CUSTOM_MODEL_NAME, 'tfjsexport'), \n",
    "    'TFLITE_PATH':os.path.join('Tensorflow', 'work','models',CUSTOM_MODEL_NAME, 'tfliteexport'), #estos ultimos 3 son para implementacion web\n",
    "    'PROTOC_PATH':os.path.join('Tensorflow','protoc')\n",
    " }"
   ]
  },
  {
   "cell_type": "code",
   "execution_count": 13,
   "metadata": {
    "id": "LwhWZMI0pfDC",
    "pycharm": {
     "name": "#%%\n"
    }
   },
   "outputs": [],
   "source": [
    "files = {\n",
    "    'PIPELINE_CONFIG':os.path.join('Tensorflow', 'work','models', CUSTOM_MODEL_NAME, 'pipeline.config'),\n",
    "    'TF_RECORD_SCRIPT': os.path.join(paths['SCRIPTS_PATH'], TF_RECORD_SCRIPT_NAME), \n",
    "    'LABELMAP': os.path.join(paths['ANNOTATION_PATH'], LABEL_MAP_NAME)\n",
    "}"
   ]
  },
  {
   "cell_type": "code",
   "execution_count": 14,
   "metadata": {
    "id": "HR-TfDGrpfDC",
    "pycharm": {
     "name": "#%%\n"
    }
   },
   "outputs": [],
   "source": [
    "for path in paths.values(): # we create a folder for each path.value\n",
    "    if not os.path.exists(path):\n",
    "        if os.name == 'posix':\n",
    "            !mkdir -p {path}\n",
    "        if os.name == 'nt':\n",
    "            !mkdir {path}"
   ]
  },
  {
   "cell_type": "code",
   "execution_count": 15,
   "metadata": {
    "id": "eCxnl066CFx_",
    "outputId": "55ad0e82-8a3a-40db-c7ce-c7b25541a2b4",
    "pycharm": {
     "name": "#%%\n"
    }
   },
   "outputs": [
    {
     "data": {
      "text/plain": [
       "'Tensorflow/work/models/my_ssd_mobnet/export'"
      ]
     },
     "execution_count": 15,
     "metadata": {},
     "output_type": "execute_result"
    }
   ],
   "source": [
    "paths['OUTPUT_PATH'] #just to check how it's working"
   ]
  },
  {
   "cell_type": "markdown",
   "metadata": {
    "id": "OLU-rs_ipfDE",
    "pycharm": {
     "name": "#%% md\n"
    }
   },
   "source": [
    "# 1. Download TF Models Pretrained Models from Tensorflow Model Zoo and Install TFOD"
   ]
  },
  {
   "cell_type": "code",
   "execution_count": null,
   "metadata": {
    "id": "XVdVNO_qCFyA",
    "pycharm": {
     "name": "#%%\n"
    }
   },
   "outputs": [],
   "source": [
    "# https://www.tensorflow.org/install/source_windows"
   ]
  },
  {
   "cell_type": "code",
   "execution_count": 16,
   "metadata": {
    "id": "K-Cmz2edpfDE",
    "scrolled": true,
    "pycharm": {
     "name": "#%%\n"
    }
   },
   "outputs": [],
   "source": [
    "if os.name=='nt':\n",
    "    !pip install wget\n",
    "    import wget"
   ]
  },
  {
   "cell_type": "code",
   "execution_count": 17,
   "metadata": {
    "id": "iA1DIq5OpfDE",
    "pycharm": {
     "name": "#%%\n"
    }
   },
   "outputs": [],
   "source": [
    "if not os.path.exists(os.path.join(paths['APIMODEL_PATH'], 'research', 'object_detection')):\n",
    "    !git clone https://github.com/tensorflow/models {paths['APIMODEL_PATH']}\n",
    "# We will clone everything in TensorFlow Model Garden"
   ]
  },
  {
   "cell_type": "code",
   "execution_count": 18,
   "metadata": {
    "colab": {
     "base_uri": "https://localhost:8080/"
    },
    "id": "rJjMHbnDs3Tv",
    "outputId": "8091d446-9135-4e1a-eba9-b0adab7f26fe",
    "pycharm": {
     "name": "#%%\n"
    }
   },
   "outputs": [
    {
     "name": "stdout",
     "output_type": "stream",
     "text": [
      "E: No se pudo abrir el fichero de bloqueo «/var/lib/dpkg/lock-frontend» - open (13: Permiso denegado)\n",
      "E: Unable to acquire the dpkg frontend lock (/var/lib/dpkg/lock-frontend), are you root?\n",
      "object_detection/protos/calibration.proto:41:3: Expected \"required\", \"optional\", or \"repeated\".\n",
      "object_detection/protos/calibration.proto:41:6: Expected field name.\n",
      "object_detection/protos/calibration.proto:53:3: Expected \"required\", \"optional\", or \"repeated\".\n",
      "object_detection/protos/calibration.proto:53:6: Expected field name.\n"
     ]
    }
   ],
   "source": [
    "# Install Tensorflow Object Detection \n",
    "if os.name=='posix':  #linux, macOS\n",
    "    !apt-get install protobuf-compiler\n",
    "    !cd Tensorflow/api_models/research && protoc object_detection/protos/*.proto --python_out=. && cp object_detection/packages/tf2/setup.py . && python -m pip install . \n",
    "    \n",
    "if os.name=='nt':\n",
    "    url=\"https://github.com/protocolbuffers/protobuf/releases/download/v3.15.6/protoc-3.15.6-win64.zip\"\n",
    "    wget.download(url)\n",
    "    !move protoc-3.15.6-win64.zip {paths['PROTOC_PATH']}\n",
    "    !cd {paths['PROTOC_PATH']} && tar -xf protoc-3.15.6-win64.zip\n",
    "    os.environ['PATH'] += os.pathsep + os.path.abspath(os.path.join(paths['PROTOC_PATH'], 'bin'))   \n",
    "    !cd Tensorflow/models/research && protoc object_detection/protos/*.proto --python_out=. && copy object_detection\\\\packages\\\\tf2\\\\setup.py setup.py && python setup.py build && python setup.py install\n",
    "    !cd Tensorflow/models/research/slim && pip install -e . \n",
    "#There's a lot of stuff here that we won't need but for now we'll just download it all\n",
    "#Tensorflow_io is unavailable for M1 Macs"
   ]
  },
  {
   "cell_type": "code",
   "execution_count": 19,
   "metadata": {
    "colab": {
     "base_uri": "https://localhost:8080/"
    },
    "id": "vUK-2G6uCFyD",
    "outputId": "ce5ff027-f7f0-4133-e5b1-5b01ce2acbc3",
    "scrolled": true,
    "pycharm": {
     "name": "#%%\n"
    }
   },
   "outputs": [
    {
     "name": "stdout",
     "output_type": "stream",
     "text": [
      "2022-05-31 10:37:18.157275: I tensorflow/stream_executor/cuda/cuda_gpu_executor.cc:975] successful NUMA node read from SysFS had negative value (-1), but there must be at least one NUMA node, so returning NUMA node zero\n",
      "2022-05-31 10:37:18.198138: W tensorflow/stream_executor/platform/default/dso_loader.cc:64] Could not load dynamic library 'libcudnn.so.8'; dlerror: libcudnn.so.8: cannot open shared object file: No such file or directory; LD_LIBRARY_PATH: :/usr/local/cuda/extras/CUPTI/lib64\n",
      "2022-05-31 10:37:18.198159: W tensorflow/core/common_runtime/gpu/gpu_device.cc:1850] Cannot dlopen some GPU libraries. Please make sure the missing libraries mentioned above are installed properly if you would like to use GPU. Follow the guide at https://www.tensorflow.org/install/gpu for how to download and setup the required libraries for your platform.\n",
      "Skipping registering GPU devices...\n",
      "Running tests under Python 3.8.13: /home/posgrado/Documentos/Proyecto_Aaron/Pistol_detection/tfod/bin/python\n",
      "[ RUN      ] ModelBuilderTF2Test.test_create_center_net_deepmac\n",
      "2022-05-31 10:37:18.207876: I tensorflow/core/platform/cpu_feature_guard.cc:193] This TensorFlow binary is optimized with oneAPI Deep Neural Network Library (oneDNN) to use the following CPU instructions in performance-critical operations:  AVX2 FMA\n",
      "To enable them in other operations, rebuild TensorFlow with the appropriate compiler flags.\n",
      "/home/posgrado/Documentos/Proyecto_Aaron/Pistol_detection/tfod/lib/python3.8/site-packages/object_detection/builders/model_builder.py:1102: DeprecationWarning: The 'warn' function is deprecated, use 'warning' instead\n",
      "  logging.warn(('Building experimental DeepMAC meta-arch.'\n",
      "W0531 10:37:18.483706 139722502752000 model_builder.py:1102] Building experimental DeepMAC meta-arch. Some features may be omitted.\n",
      "INFO:tensorflow:time(__main__.ModelBuilderTF2Test.test_create_center_net_deepmac): 0.48s\n",
      "I0531 10:37:18.677733 139722502752000 test_util.py:2458] time(__main__.ModelBuilderTF2Test.test_create_center_net_deepmac): 0.48s\n",
      "[       OK ] ModelBuilderTF2Test.test_create_center_net_deepmac\n",
      "[ RUN      ] ModelBuilderTF2Test.test_create_center_net_model0 (customize_head_params=True)\n",
      "INFO:tensorflow:time(__main__.ModelBuilderTF2Test.test_create_center_net_model0 (customize_head_params=True)): 0.43s\n",
      "I0531 10:37:19.110677 139722502752000 test_util.py:2458] time(__main__.ModelBuilderTF2Test.test_create_center_net_model0 (customize_head_params=True)): 0.43s\n",
      "[       OK ] ModelBuilderTF2Test.test_create_center_net_model0 (customize_head_params=True)\n",
      "[ RUN      ] ModelBuilderTF2Test.test_create_center_net_model1 (customize_head_params=False)\n",
      "INFO:tensorflow:time(__main__.ModelBuilderTF2Test.test_create_center_net_model1 (customize_head_params=False)): 0.3s\n",
      "I0531 10:37:19.410838 139722502752000 test_util.py:2458] time(__main__.ModelBuilderTF2Test.test_create_center_net_model1 (customize_head_params=False)): 0.3s\n",
      "[       OK ] ModelBuilderTF2Test.test_create_center_net_model1 (customize_head_params=False)\n",
      "[ RUN      ] ModelBuilderTF2Test.test_create_center_net_model_from_keypoints\n",
      "INFO:tensorflow:time(__main__.ModelBuilderTF2Test.test_create_center_net_model_from_keypoints): 0.22s\n",
      "I0531 10:37:19.627660 139722502752000 test_util.py:2458] time(__main__.ModelBuilderTF2Test.test_create_center_net_model_from_keypoints): 0.22s\n",
      "[       OK ] ModelBuilderTF2Test.test_create_center_net_model_from_keypoints\n",
      "[ RUN      ] ModelBuilderTF2Test.test_create_center_net_model_mobilenet\n",
      "INFO:tensorflow:time(__main__.ModelBuilderTF2Test.test_create_center_net_model_mobilenet): 1.4s\n",
      "I0531 10:37:21.028691 139722502752000 test_util.py:2458] time(__main__.ModelBuilderTF2Test.test_create_center_net_model_mobilenet): 1.4s\n",
      "[       OK ] ModelBuilderTF2Test.test_create_center_net_model_mobilenet\n",
      "[ RUN      ] ModelBuilderTF2Test.test_create_experimental_model\n",
      "INFO:tensorflow:time(__main__.ModelBuilderTF2Test.test_create_experimental_model): 0.0s\n",
      "I0531 10:37:21.029642 139722502752000 test_util.py:2458] time(__main__.ModelBuilderTF2Test.test_create_experimental_model): 0.0s\n",
      "[       OK ] ModelBuilderTF2Test.test_create_experimental_model\n",
      "[ RUN      ] ModelBuilderTF2Test.test_create_faster_rcnn_from_config_with_crop_feature0 (True)\n",
      "INFO:tensorflow:time(__main__.ModelBuilderTF2Test.test_create_faster_rcnn_from_config_with_crop_feature0 (True)): 0.02s\n",
      "I0531 10:37:21.048350 139722502752000 test_util.py:2458] time(__main__.ModelBuilderTF2Test.test_create_faster_rcnn_from_config_with_crop_feature0 (True)): 0.02s\n",
      "[       OK ] ModelBuilderTF2Test.test_create_faster_rcnn_from_config_with_crop_feature0 (True)\n",
      "[ RUN      ] ModelBuilderTF2Test.test_create_faster_rcnn_from_config_with_crop_feature1 (False)\n",
      "INFO:tensorflow:time(__main__.ModelBuilderTF2Test.test_create_faster_rcnn_from_config_with_crop_feature1 (False)): 0.01s\n",
      "I0531 10:37:21.060713 139722502752000 test_util.py:2458] time(__main__.ModelBuilderTF2Test.test_create_faster_rcnn_from_config_with_crop_feature1 (False)): 0.01s\n",
      "[       OK ] ModelBuilderTF2Test.test_create_faster_rcnn_from_config_with_crop_feature1 (False)\n",
      "[ RUN      ] ModelBuilderTF2Test.test_create_faster_rcnn_model_from_config_with_example_miner\n",
      "INFO:tensorflow:time(__main__.ModelBuilderTF2Test.test_create_faster_rcnn_model_from_config_with_example_miner): 0.01s\n",
      "I0531 10:37:21.072449 139722502752000 test_util.py:2458] time(__main__.ModelBuilderTF2Test.test_create_faster_rcnn_model_from_config_with_example_miner): 0.01s\n",
      "[       OK ] ModelBuilderTF2Test.test_create_faster_rcnn_model_from_config_with_example_miner\n",
      "[ RUN      ] ModelBuilderTF2Test.test_create_faster_rcnn_models_from_config_faster_rcnn_with_matmul\n",
      "INFO:tensorflow:time(__main__.ModelBuilderTF2Test.test_create_faster_rcnn_models_from_config_faster_rcnn_with_matmul): 0.07s\n",
      "I0531 10:37:21.146254 139722502752000 test_util.py:2458] time(__main__.ModelBuilderTF2Test.test_create_faster_rcnn_models_from_config_faster_rcnn_with_matmul): 0.07s\n",
      "[       OK ] ModelBuilderTF2Test.test_create_faster_rcnn_models_from_config_faster_rcnn_with_matmul\n",
      "[ RUN      ] ModelBuilderTF2Test.test_create_faster_rcnn_models_from_config_faster_rcnn_without_matmul\n",
      "INFO:tensorflow:time(__main__.ModelBuilderTF2Test.test_create_faster_rcnn_models_from_config_faster_rcnn_without_matmul): 0.17s\n",
      "I0531 10:37:21.321526 139722502752000 test_util.py:2458] time(__main__.ModelBuilderTF2Test.test_create_faster_rcnn_models_from_config_faster_rcnn_without_matmul): 0.17s\n",
      "[       OK ] ModelBuilderTF2Test.test_create_faster_rcnn_models_from_config_faster_rcnn_without_matmul\n",
      "[ RUN      ] ModelBuilderTF2Test.test_create_faster_rcnn_models_from_config_mask_rcnn_with_matmul\n",
      "INFO:tensorflow:time(__main__.ModelBuilderTF2Test.test_create_faster_rcnn_models_from_config_mask_rcnn_with_matmul): 0.07s\n",
      "I0531 10:37:21.395037 139722502752000 test_util.py:2458] time(__main__.ModelBuilderTF2Test.test_create_faster_rcnn_models_from_config_mask_rcnn_with_matmul): 0.07s\n",
      "[       OK ] ModelBuilderTF2Test.test_create_faster_rcnn_models_from_config_mask_rcnn_with_matmul\n",
      "[ RUN      ] ModelBuilderTF2Test.test_create_faster_rcnn_models_from_config_mask_rcnn_without_matmul\n",
      "INFO:tensorflow:time(__main__.ModelBuilderTF2Test.test_create_faster_rcnn_models_from_config_mask_rcnn_without_matmul): 0.07s\n",
      "I0531 10:37:21.468873 139722502752000 test_util.py:2458] time(__main__.ModelBuilderTF2Test.test_create_faster_rcnn_models_from_config_mask_rcnn_without_matmul): 0.07s\n",
      "[       OK ] ModelBuilderTF2Test.test_create_faster_rcnn_models_from_config_mask_rcnn_without_matmul\n",
      "[ RUN      ] ModelBuilderTF2Test.test_create_rfcn_model_from_config\n",
      "INFO:tensorflow:time(__main__.ModelBuilderTF2Test.test_create_rfcn_model_from_config): 0.07s\n",
      "I0531 10:37:21.544030 139722502752000 test_util.py:2458] time(__main__.ModelBuilderTF2Test.test_create_rfcn_model_from_config): 0.07s\n",
      "[       OK ] ModelBuilderTF2Test.test_create_rfcn_model_from_config\n",
      "[ RUN      ] ModelBuilderTF2Test.test_create_ssd_fpn_model_from_config\n",
      "INFO:tensorflow:time(__main__.ModelBuilderTF2Test.test_create_ssd_fpn_model_from_config): 0.02s\n",
      "I0531 10:37:21.565844 139722502752000 test_util.py:2458] time(__main__.ModelBuilderTF2Test.test_create_ssd_fpn_model_from_config): 0.02s\n",
      "[       OK ] ModelBuilderTF2Test.test_create_ssd_fpn_model_from_config\n",
      "[ RUN      ] ModelBuilderTF2Test.test_create_ssd_models_from_config\n"
     ]
    },
    {
     "name": "stdout",
     "output_type": "stream",
     "text": [
      "I0531 10:37:21.705843 139722502752000 ssd_efficientnet_bifpn_feature_extractor.py:145] EfficientDet EfficientNet backbone version: efficientnet-b0\n",
      "I0531 10:37:21.705950 139722502752000 ssd_efficientnet_bifpn_feature_extractor.py:147] EfficientDet BiFPN num filters: 64\n",
      "I0531 10:37:21.706005 139722502752000 ssd_efficientnet_bifpn_feature_extractor.py:148] EfficientDet BiFPN num iterations: 3\n",
      "I0531 10:37:21.707805 139722502752000 efficientnet_model.py:143] round_filter input=32 output=32\n",
      "I0531 10:37:21.720511 139722502752000 efficientnet_model.py:143] round_filter input=32 output=32\n",
      "I0531 10:37:21.720587 139722502752000 efficientnet_model.py:143] round_filter input=16 output=16\n",
      "I0531 10:37:21.764566 139722502752000 efficientnet_model.py:143] round_filter input=16 output=16\n",
      "I0531 10:37:21.764672 139722502752000 efficientnet_model.py:143] round_filter input=24 output=24\n",
      "I0531 10:37:21.886651 139722502752000 efficientnet_model.py:143] round_filter input=24 output=24\n",
      "I0531 10:37:21.886775 139722502752000 efficientnet_model.py:143] round_filter input=40 output=40\n",
      "I0531 10:37:22.014440 139722502752000 efficientnet_model.py:143] round_filter input=40 output=40\n",
      "I0531 10:37:22.014567 139722502752000 efficientnet_model.py:143] round_filter input=80 output=80\n",
      "I0531 10:37:22.188548 139722502752000 efficientnet_model.py:143] round_filter input=80 output=80\n",
      "I0531 10:37:22.188663 139722502752000 efficientnet_model.py:143] round_filter input=112 output=112\n",
      "I0531 10:37:22.390988 139722502752000 efficientnet_model.py:143] round_filter input=112 output=112\n",
      "I0531 10:37:22.391096 139722502752000 efficientnet_model.py:143] round_filter input=192 output=192\n",
      "I0531 10:37:22.649914 139722502752000 efficientnet_model.py:143] round_filter input=192 output=192\n",
      "I0531 10:37:22.650030 139722502752000 efficientnet_model.py:143] round_filter input=320 output=320\n",
      "I0531 10:37:22.718590 139722502752000 efficientnet_model.py:143] round_filter input=1280 output=1280\n",
      "I0531 10:37:22.750308 139722502752000 efficientnet_model.py:453] Building model efficientnet with params ModelConfig(width_coefficient=1.0, depth_coefficient=1.0, resolution=224, dropout_rate=0.2, blocks=(BlockConfig(input_filters=32, output_filters=16, kernel_size=3, num_repeat=1, expand_ratio=1, strides=(1, 1), se_ratio=0.25, id_skip=True, fused_conv=False, conv_type='depthwise'), BlockConfig(input_filters=16, output_filters=24, kernel_size=3, num_repeat=2, expand_ratio=6, strides=(2, 2), se_ratio=0.25, id_skip=True, fused_conv=False, conv_type='depthwise'), BlockConfig(input_filters=24, output_filters=40, kernel_size=5, num_repeat=2, expand_ratio=6, strides=(2, 2), se_ratio=0.25, id_skip=True, fused_conv=False, conv_type='depthwise'), BlockConfig(input_filters=40, output_filters=80, kernel_size=3, num_repeat=3, expand_ratio=6, strides=(2, 2), se_ratio=0.25, id_skip=True, fused_conv=False, conv_type='depthwise'), BlockConfig(input_filters=80, output_filters=112, kernel_size=5, num_repeat=3, expand_ratio=6, strides=(1, 1), se_ratio=0.25, id_skip=True, fused_conv=False, conv_type='depthwise'), BlockConfig(input_filters=112, output_filters=192, kernel_size=5, num_repeat=4, expand_ratio=6, strides=(2, 2), se_ratio=0.25, id_skip=True, fused_conv=False, conv_type='depthwise'), BlockConfig(input_filters=192, output_filters=320, kernel_size=3, num_repeat=1, expand_ratio=6, strides=(1, 1), se_ratio=0.25, id_skip=True, fused_conv=False, conv_type='depthwise')), stem_base_filters=32, top_base_filters=1280, activation='simple_swish', batch_norm='default', bn_momentum=0.99, bn_epsilon=0.001, weight_decay=5e-06, drop_connect_rate=0.2, depth_divisor=8, min_depth=None, use_se=True, input_channels=3, num_classes=1000, model_name='efficientnet', rescale_input=False, data_format='channels_last', dtype='float32')\n",
      "I0531 10:37:22.791299 139722502752000 ssd_efficientnet_bifpn_feature_extractor.py:145] EfficientDet EfficientNet backbone version: efficientnet-b1\n",
      "I0531 10:37:22.791412 139722502752000 ssd_efficientnet_bifpn_feature_extractor.py:147] EfficientDet BiFPN num filters: 88\n",
      "I0531 10:37:22.791476 139722502752000 ssd_efficientnet_bifpn_feature_extractor.py:148] EfficientDet BiFPN num iterations: 4\n",
      "I0531 10:37:22.792635 139722502752000 efficientnet_model.py:143] round_filter input=32 output=32\n",
      "I0531 10:37:22.804360 139722502752000 efficientnet_model.py:143] round_filter input=32 output=32\n",
      "I0531 10:37:22.804450 139722502752000 efficientnet_model.py:143] round_filter input=16 output=16\n",
      "I0531 10:37:22.896916 139722502752000 efficientnet_model.py:143] round_filter input=16 output=16\n",
      "I0531 10:37:22.897050 139722502752000 efficientnet_model.py:143] round_filter input=24 output=24\n",
      "I0531 10:37:23.088974 139722502752000 efficientnet_model.py:143] round_filter input=24 output=24\n",
      "I0531 10:37:23.089085 139722502752000 efficientnet_model.py:143] round_filter input=40 output=40\n",
      "I0531 10:37:23.280041 139722502752000 efficientnet_model.py:143] round_filter input=40 output=40\n",
      "I0531 10:37:23.280178 139722502752000 efficientnet_model.py:143] round_filter input=80 output=80\n",
      "I0531 10:37:23.537938 139722502752000 efficientnet_model.py:143] round_filter input=80 output=80\n",
      "I0531 10:37:23.538075 139722502752000 efficientnet_model.py:143] round_filter input=112 output=112\n",
      "I0531 10:37:23.793622 139722502752000 efficientnet_model.py:143] round_filter input=112 output=112\n",
      "I0531 10:37:23.793751 139722502752000 efficientnet_model.py:143] round_filter input=192 output=192\n",
      "I0531 10:37:24.127666 139722502752000 efficientnet_model.py:143] round_filter input=192 output=192\n",
      "I0531 10:37:24.127772 139722502752000 efficientnet_model.py:143] round_filter input=320 output=320\n",
      "I0531 10:37:24.284060 139722502752000 efficientnet_model.py:143] round_filter input=1280 output=1280\n",
      "I0531 10:37:24.320044 139722502752000 efficientnet_model.py:453] Building model efficientnet with params ModelConfig(width_coefficient=1.0, depth_coefficient=1.1, resolution=240, dropout_rate=0.2, blocks=(BlockConfig(input_filters=32, output_filters=16, kernel_size=3, num_repeat=1, expand_ratio=1, strides=(1, 1), se_ratio=0.25, id_skip=True, fused_conv=False, conv_type='depthwise'), BlockConfig(input_filters=16, output_filters=24, kernel_size=3, num_repeat=2, expand_ratio=6, strides=(2, 2), se_ratio=0.25, id_skip=True, fused_conv=False, conv_type='depthwise'), BlockConfig(input_filters=24, output_filters=40, kernel_size=5, num_repeat=2, expand_ratio=6, strides=(2, 2), se_ratio=0.25, id_skip=True, fused_conv=False, conv_type='depthwise'), BlockConfig(input_filters=40, output_filters=80, kernel_size=3, num_repeat=3, expand_ratio=6, strides=(2, 2), se_ratio=0.25, id_skip=True, fused_conv=False, conv_type='depthwise'), BlockConfig(input_filters=80, output_filters=112, kernel_size=5, num_repeat=3, expand_ratio=6, strides=(1, 1), se_ratio=0.25, id_skip=True, fused_conv=False, conv_type='depthwise'), BlockConfig(input_filters=112, output_filters=192, kernel_size=5, num_repeat=4, expand_ratio=6, strides=(2, 2), se_ratio=0.25, id_skip=True, fused_conv=False, conv_type='depthwise'), BlockConfig(input_filters=192, output_filters=320, kernel_size=3, num_repeat=1, expand_ratio=6, strides=(1, 1), se_ratio=0.25, id_skip=True, fused_conv=False, conv_type='depthwise')), stem_base_filters=32, top_base_filters=1280, activation='simple_swish', batch_norm='default', bn_momentum=0.99, bn_epsilon=0.001, weight_decay=5e-06, drop_connect_rate=0.2, depth_divisor=8, min_depth=None, use_se=True, input_channels=3, num_classes=1000, model_name='efficientnet', rescale_input=False, data_format='channels_last', dtype='float32')\n",
      "I0531 10:37:24.367190 139722502752000 ssd_efficientnet_bifpn_feature_extractor.py:145] EfficientDet EfficientNet backbone version: efficientnet-b2\n",
      "I0531 10:37:24.367292 139722502752000 ssd_efficientnet_bifpn_feature_extractor.py:147] EfficientDet BiFPN num filters: 112\n",
      "I0531 10:37:24.367336 139722502752000 ssd_efficientnet_bifpn_feature_extractor.py:148] EfficientDet BiFPN num iterations: 5\n",
      "I0531 10:37:24.368526 139722502752000 efficientnet_model.py:143] round_filter input=32 output=32\n",
      "I0531 10:37:24.379838 139722502752000 efficientnet_model.py:143] round_filter input=32 output=32\n",
      "I0531 10:37:24.379902 139722502752000 efficientnet_model.py:143] round_filter input=16 output=16\n"
     ]
    },
    {
     "name": "stdout",
     "output_type": "stream",
     "text": [
      "I0531 10:37:24.591572 139722502752000 efficientnet_model.py:143] round_filter input=16 output=16\n",
      "I0531 10:37:24.591675 139722502752000 efficientnet_model.py:143] round_filter input=24 output=24\n",
      "I0531 10:37:24.773718 139722502752000 efficientnet_model.py:143] round_filter input=24 output=24\n",
      "I0531 10:37:24.773818 139722502752000 efficientnet_model.py:143] round_filter input=40 output=48\n",
      "I0531 10:37:24.961533 139722502752000 efficientnet_model.py:143] round_filter input=40 output=48\n",
      "I0531 10:37:24.961646 139722502752000 efficientnet_model.py:143] round_filter input=80 output=88\n",
      "I0531 10:37:25.206152 139722502752000 efficientnet_model.py:143] round_filter input=80 output=88\n",
      "I0531 10:37:25.206281 139722502752000 efficientnet_model.py:143] round_filter input=112 output=120\n",
      "I0531 10:37:25.465746 139722502752000 efficientnet_model.py:143] round_filter input=112 output=120\n",
      "I0531 10:37:25.465894 139722502752000 efficientnet_model.py:143] round_filter input=192 output=208\n",
      "I0531 10:37:25.791298 139722502752000 efficientnet_model.py:143] round_filter input=192 output=208\n",
      "I0531 10:37:25.791437 139722502752000 efficientnet_model.py:143] round_filter input=320 output=352\n",
      "I0531 10:37:25.935670 139722502752000 efficientnet_model.py:143] round_filter input=1280 output=1408\n",
      "I0531 10:37:25.966119 139722502752000 efficientnet_model.py:453] Building model efficientnet with params ModelConfig(width_coefficient=1.1, depth_coefficient=1.2, resolution=260, dropout_rate=0.3, blocks=(BlockConfig(input_filters=32, output_filters=16, kernel_size=3, num_repeat=1, expand_ratio=1, strides=(1, 1), se_ratio=0.25, id_skip=True, fused_conv=False, conv_type='depthwise'), BlockConfig(input_filters=16, output_filters=24, kernel_size=3, num_repeat=2, expand_ratio=6, strides=(2, 2), se_ratio=0.25, id_skip=True, fused_conv=False, conv_type='depthwise'), BlockConfig(input_filters=24, output_filters=40, kernel_size=5, num_repeat=2, expand_ratio=6, strides=(2, 2), se_ratio=0.25, id_skip=True, fused_conv=False, conv_type='depthwise'), BlockConfig(input_filters=40, output_filters=80, kernel_size=3, num_repeat=3, expand_ratio=6, strides=(2, 2), se_ratio=0.25, id_skip=True, fused_conv=False, conv_type='depthwise'), BlockConfig(input_filters=80, output_filters=112, kernel_size=5, num_repeat=3, expand_ratio=6, strides=(1, 1), se_ratio=0.25, id_skip=True, fused_conv=False, conv_type='depthwise'), BlockConfig(input_filters=112, output_filters=192, kernel_size=5, num_repeat=4, expand_ratio=6, strides=(2, 2), se_ratio=0.25, id_skip=True, fused_conv=False, conv_type='depthwise'), BlockConfig(input_filters=192, output_filters=320, kernel_size=3, num_repeat=1, expand_ratio=6, strides=(1, 1), se_ratio=0.25, id_skip=True, fused_conv=False, conv_type='depthwise')), stem_base_filters=32, top_base_filters=1280, activation='simple_swish', batch_norm='default', bn_momentum=0.99, bn_epsilon=0.001, weight_decay=5e-06, drop_connect_rate=0.2, depth_divisor=8, min_depth=None, use_se=True, input_channels=3, num_classes=1000, model_name='efficientnet', rescale_input=False, data_format='channels_last', dtype='float32')\n",
      "I0531 10:37:26.011273 139722502752000 ssd_efficientnet_bifpn_feature_extractor.py:145] EfficientDet EfficientNet backbone version: efficientnet-b3\n",
      "I0531 10:37:26.011387 139722502752000 ssd_efficientnet_bifpn_feature_extractor.py:147] EfficientDet BiFPN num filters: 160\n",
      "I0531 10:37:26.011449 139722502752000 ssd_efficientnet_bifpn_feature_extractor.py:148] EfficientDet BiFPN num iterations: 6\n",
      "I0531 10:37:26.012706 139722502752000 efficientnet_model.py:143] round_filter input=32 output=40\n",
      "I0531 10:37:26.026915 139722502752000 efficientnet_model.py:143] round_filter input=32 output=40\n",
      "I0531 10:37:26.027024 139722502752000 efficientnet_model.py:143] round_filter input=16 output=24\n",
      "I0531 10:37:26.127498 139722502752000 efficientnet_model.py:143] round_filter input=16 output=24\n",
      "I0531 10:37:26.127601 139722502752000 efficientnet_model.py:143] round_filter input=24 output=32\n",
      "I0531 10:37:26.320951 139722502752000 efficientnet_model.py:143] round_filter input=24 output=32\n",
      "I0531 10:37:26.321066 139722502752000 efficientnet_model.py:143] round_filter input=40 output=48\n",
      "I0531 10:37:26.509877 139722502752000 efficientnet_model.py:143] round_filter input=40 output=48\n",
      "I0531 10:37:26.509991 139722502752000 efficientnet_model.py:143] round_filter input=80 output=96\n",
      "I0531 10:37:26.822647 139722502752000 efficientnet_model.py:143] round_filter input=80 output=96\n",
      "I0531 10:37:26.822767 139722502752000 efficientnet_model.py:143] round_filter input=112 output=136\n",
      "I0531 10:37:27.138863 139722502752000 efficientnet_model.py:143] round_filter input=112 output=136\n",
      "I0531 10:37:27.138984 139722502752000 efficientnet_model.py:143] round_filter input=192 output=232\n",
      "I0531 10:37:27.563490 139722502752000 efficientnet_model.py:143] round_filter input=192 output=232\n",
      "I0531 10:37:27.563643 139722502752000 efficientnet_model.py:143] round_filter input=320 output=384\n",
      "I0531 10:37:27.713977 139722502752000 efficientnet_model.py:143] round_filter input=1280 output=1536\n",
      "I0531 10:37:27.742447 139722502752000 efficientnet_model.py:453] Building model efficientnet with params ModelConfig(width_coefficient=1.2, depth_coefficient=1.4, resolution=300, dropout_rate=0.3, blocks=(BlockConfig(input_filters=32, output_filters=16, kernel_size=3, num_repeat=1, expand_ratio=1, strides=(1, 1), se_ratio=0.25, id_skip=True, fused_conv=False, conv_type='depthwise'), BlockConfig(input_filters=16, output_filters=24, kernel_size=3, num_repeat=2, expand_ratio=6, strides=(2, 2), se_ratio=0.25, id_skip=True, fused_conv=False, conv_type='depthwise'), BlockConfig(input_filters=24, output_filters=40, kernel_size=5, num_repeat=2, expand_ratio=6, strides=(2, 2), se_ratio=0.25, id_skip=True, fused_conv=False, conv_type='depthwise'), BlockConfig(input_filters=40, output_filters=80, kernel_size=3, num_repeat=3, expand_ratio=6, strides=(2, 2), se_ratio=0.25, id_skip=True, fused_conv=False, conv_type='depthwise'), BlockConfig(input_filters=80, output_filters=112, kernel_size=5, num_repeat=3, expand_ratio=6, strides=(1, 1), se_ratio=0.25, id_skip=True, fused_conv=False, conv_type='depthwise'), BlockConfig(input_filters=112, output_filters=192, kernel_size=5, num_repeat=4, expand_ratio=6, strides=(2, 2), se_ratio=0.25, id_skip=True, fused_conv=False, conv_type='depthwise'), BlockConfig(input_filters=192, output_filters=320, kernel_size=3, num_repeat=1, expand_ratio=6, strides=(1, 1), se_ratio=0.25, id_skip=True, fused_conv=False, conv_type='depthwise')), stem_base_filters=32, top_base_filters=1280, activation='simple_swish', batch_norm='default', bn_momentum=0.99, bn_epsilon=0.001, weight_decay=5e-06, drop_connect_rate=0.2, depth_divisor=8, min_depth=None, use_se=True, input_channels=3, num_classes=1000, model_name='efficientnet', rescale_input=False, data_format='channels_last', dtype='float32')\n",
      "I0531 10:37:27.791396 139722502752000 ssd_efficientnet_bifpn_feature_extractor.py:145] EfficientDet EfficientNet backbone version: efficientnet-b4\n",
      "I0531 10:37:27.791500 139722502752000 ssd_efficientnet_bifpn_feature_extractor.py:147] EfficientDet BiFPN num filters: 224\n",
      "I0531 10:37:27.791547 139722502752000 ssd_efficientnet_bifpn_feature_extractor.py:148] EfficientDet BiFPN num iterations: 7\n",
      "I0531 10:37:27.792686 139722502752000 efficientnet_model.py:143] round_filter input=32 output=48\n",
      "I0531 10:37:27.804987 139722502752000 efficientnet_model.py:143] round_filter input=32 output=48\n",
      "I0531 10:37:27.805104 139722502752000 efficientnet_model.py:143] round_filter input=16 output=24\n",
      "I0531 10:37:27.904337 139722502752000 efficientnet_model.py:143] round_filter input=16 output=24\n",
      "I0531 10:37:27.904463 139722502752000 efficientnet_model.py:143] round_filter input=24 output=32\n",
      "I0531 10:37:28.151035 139722502752000 efficientnet_model.py:143] round_filter input=24 output=32\n",
      "I0531 10:37:28.151150 139722502752000 efficientnet_model.py:143] round_filter input=40 output=56\n",
      "I0531 10:37:28.407712 139722502752000 efficientnet_model.py:143] round_filter input=40 output=56\n",
      "I0531 10:37:28.407844 139722502752000 efficientnet_model.py:143] round_filter input=80 output=112\n",
      "I0531 10:37:28.784655 139722502752000 efficientnet_model.py:143] round_filter input=80 output=112\n",
      "I0531 10:37:28.784780 139722502752000 efficientnet_model.py:143] round_filter input=112 output=160\n"
     ]
    },
    {
     "name": "stdout",
     "output_type": "stream",
     "text": [
      "I0531 10:37:29.331070 139722502752000 efficientnet_model.py:143] round_filter input=112 output=160\n",
      "I0531 10:37:29.331184 139722502752000 efficientnet_model.py:143] round_filter input=192 output=272\n",
      "I0531 10:37:29.883247 139722502752000 efficientnet_model.py:143] round_filter input=192 output=272\n",
      "I0531 10:37:29.883356 139722502752000 efficientnet_model.py:143] round_filter input=320 output=448\n",
      "I0531 10:37:30.023830 139722502752000 efficientnet_model.py:143] round_filter input=1280 output=1792\n",
      "I0531 10:37:30.054122 139722502752000 efficientnet_model.py:453] Building model efficientnet with params ModelConfig(width_coefficient=1.4, depth_coefficient=1.8, resolution=380, dropout_rate=0.4, blocks=(BlockConfig(input_filters=32, output_filters=16, kernel_size=3, num_repeat=1, expand_ratio=1, strides=(1, 1), se_ratio=0.25, id_skip=True, fused_conv=False, conv_type='depthwise'), BlockConfig(input_filters=16, output_filters=24, kernel_size=3, num_repeat=2, expand_ratio=6, strides=(2, 2), se_ratio=0.25, id_skip=True, fused_conv=False, conv_type='depthwise'), BlockConfig(input_filters=24, output_filters=40, kernel_size=5, num_repeat=2, expand_ratio=6, strides=(2, 2), se_ratio=0.25, id_skip=True, fused_conv=False, conv_type='depthwise'), BlockConfig(input_filters=40, output_filters=80, kernel_size=3, num_repeat=3, expand_ratio=6, strides=(2, 2), se_ratio=0.25, id_skip=True, fused_conv=False, conv_type='depthwise'), BlockConfig(input_filters=80, output_filters=112, kernel_size=5, num_repeat=3, expand_ratio=6, strides=(1, 1), se_ratio=0.25, id_skip=True, fused_conv=False, conv_type='depthwise'), BlockConfig(input_filters=112, output_filters=192, kernel_size=5, num_repeat=4, expand_ratio=6, strides=(2, 2), se_ratio=0.25, id_skip=True, fused_conv=False, conv_type='depthwise'), BlockConfig(input_filters=192, output_filters=320, kernel_size=3, num_repeat=1, expand_ratio=6, strides=(1, 1), se_ratio=0.25, id_skip=True, fused_conv=False, conv_type='depthwise')), stem_base_filters=32, top_base_filters=1280, activation='simple_swish', batch_norm='default', bn_momentum=0.99, bn_epsilon=0.001, weight_decay=5e-06, drop_connect_rate=0.2, depth_divisor=8, min_depth=None, use_se=True, input_channels=3, num_classes=1000, model_name='efficientnet', rescale_input=False, data_format='channels_last', dtype='float32')\n",
      "I0531 10:37:30.112590 139722502752000 ssd_efficientnet_bifpn_feature_extractor.py:145] EfficientDet EfficientNet backbone version: efficientnet-b5\n",
      "I0531 10:37:30.112702 139722502752000 ssd_efficientnet_bifpn_feature_extractor.py:147] EfficientDet BiFPN num filters: 288\n",
      "I0531 10:37:30.112749 139722502752000 ssd_efficientnet_bifpn_feature_extractor.py:148] EfficientDet BiFPN num iterations: 7\n",
      "I0531 10:37:30.114015 139722502752000 efficientnet_model.py:143] round_filter input=32 output=48\n",
      "I0531 10:37:30.127020 139722502752000 efficientnet_model.py:143] round_filter input=32 output=48\n",
      "I0531 10:37:30.127131 139722502752000 efficientnet_model.py:143] round_filter input=16 output=24\n",
      "I0531 10:37:30.285802 139722502752000 efficientnet_model.py:143] round_filter input=16 output=24\n",
      "I0531 10:37:30.285934 139722502752000 efficientnet_model.py:143] round_filter input=24 output=40\n",
      "I0531 10:37:30.602680 139722502752000 efficientnet_model.py:143] round_filter input=24 output=40\n",
      "I0531 10:37:30.602799 139722502752000 efficientnet_model.py:143] round_filter input=40 output=64\n",
      "I0531 10:37:30.926343 139722502752000 efficientnet_model.py:143] round_filter input=40 output=64\n",
      "I0531 10:37:30.926456 139722502752000 efficientnet_model.py:143] round_filter input=80 output=128\n",
      "I0531 10:37:31.379340 139722502752000 efficientnet_model.py:143] round_filter input=80 output=128\n",
      "I0531 10:37:31.379453 139722502752000 efficientnet_model.py:143] round_filter input=112 output=176\n",
      "I0531 10:37:31.839043 139722502752000 efficientnet_model.py:143] round_filter input=112 output=176\n",
      "I0531 10:37:31.839149 139722502752000 efficientnet_model.py:143] round_filter input=192 output=304\n",
      "I0531 10:37:32.464495 139722502752000 efficientnet_model.py:143] round_filter input=192 output=304\n",
      "I0531 10:37:32.464613 139722502752000 efficientnet_model.py:143] round_filter input=320 output=512\n",
      "I0531 10:37:32.693235 139722502752000 efficientnet_model.py:143] round_filter input=1280 output=2048\n",
      "I0531 10:37:32.729700 139722502752000 efficientnet_model.py:453] Building model efficientnet with params ModelConfig(width_coefficient=1.6, depth_coefficient=2.2, resolution=456, dropout_rate=0.4, blocks=(BlockConfig(input_filters=32, output_filters=16, kernel_size=3, num_repeat=1, expand_ratio=1, strides=(1, 1), se_ratio=0.25, id_skip=True, fused_conv=False, conv_type='depthwise'), BlockConfig(input_filters=16, output_filters=24, kernel_size=3, num_repeat=2, expand_ratio=6, strides=(2, 2), se_ratio=0.25, id_skip=True, fused_conv=False, conv_type='depthwise'), BlockConfig(input_filters=24, output_filters=40, kernel_size=5, num_repeat=2, expand_ratio=6, strides=(2, 2), se_ratio=0.25, id_skip=True, fused_conv=False, conv_type='depthwise'), BlockConfig(input_filters=40, output_filters=80, kernel_size=3, num_repeat=3, expand_ratio=6, strides=(2, 2), se_ratio=0.25, id_skip=True, fused_conv=False, conv_type='depthwise'), BlockConfig(input_filters=80, output_filters=112, kernel_size=5, num_repeat=3, expand_ratio=6, strides=(1, 1), se_ratio=0.25, id_skip=True, fused_conv=False, conv_type='depthwise'), BlockConfig(input_filters=112, output_filters=192, kernel_size=5, num_repeat=4, expand_ratio=6, strides=(2, 2), se_ratio=0.25, id_skip=True, fused_conv=False, conv_type='depthwise'), BlockConfig(input_filters=192, output_filters=320, kernel_size=3, num_repeat=1, expand_ratio=6, strides=(1, 1), se_ratio=0.25, id_skip=True, fused_conv=False, conv_type='depthwise')), stem_base_filters=32, top_base_filters=1280, activation='simple_swish', batch_norm='default', bn_momentum=0.99, bn_epsilon=0.001, weight_decay=5e-06, drop_connect_rate=0.2, depth_divisor=8, min_depth=None, use_se=True, input_channels=3, num_classes=1000, model_name='efficientnet', rescale_input=False, data_format='channels_last', dtype='float32')\n",
      "I0531 10:37:32.802194 139722502752000 ssd_efficientnet_bifpn_feature_extractor.py:145] EfficientDet EfficientNet backbone version: efficientnet-b6\n",
      "I0531 10:37:32.802328 139722502752000 ssd_efficientnet_bifpn_feature_extractor.py:147] EfficientDet BiFPN num filters: 384\n",
      "I0531 10:37:32.802390 139722502752000 ssd_efficientnet_bifpn_feature_extractor.py:148] EfficientDet BiFPN num iterations: 8\n",
      "I0531 10:37:32.803668 139722502752000 efficientnet_model.py:143] round_filter input=32 output=56\n",
      "I0531 10:37:32.816022 139722502752000 efficientnet_model.py:143] round_filter input=32 output=56\n",
      "I0531 10:37:32.816182 139722502752000 efficientnet_model.py:143] round_filter input=16 output=32\n",
      "I0531 10:37:32.968413 139722502752000 efficientnet_model.py:143] round_filter input=16 output=32\n",
      "I0531 10:37:32.968534 139722502752000 efficientnet_model.py:143] round_filter input=24 output=40\n",
      "I0531 10:37:33.343340 139722502752000 efficientnet_model.py:143] round_filter input=24 output=40\n",
      "I0531 10:37:33.343456 139722502752000 efficientnet_model.py:143] round_filter input=40 output=72\n",
      "I0531 10:37:33.879449 139722502752000 efficientnet_model.py:143] round_filter input=40 output=72\n",
      "I0531 10:37:33.879555 139722502752000 efficientnet_model.py:143] round_filter input=80 output=144\n",
      "I0531 10:37:34.389298 139722502752000 efficientnet_model.py:143] round_filter input=80 output=144\n",
      "I0531 10:37:34.389416 139722502752000 efficientnet_model.py:143] round_filter input=112 output=200\n",
      "I0531 10:37:34.922674 139722502752000 efficientnet_model.py:143] round_filter input=112 output=200\n",
      "I0531 10:37:34.922802 139722502752000 efficientnet_model.py:143] round_filter input=192 output=344\n",
      "I0531 10:37:35.721823 139722502752000 efficientnet_model.py:143] round_filter input=192 output=344\n",
      "I0531 10:37:35.721932 139722502752000 efficientnet_model.py:143] round_filter input=320 output=576\n",
      "I0531 10:37:36.002642 139722502752000 efficientnet_model.py:143] round_filter input=1280 output=2304\n",
      "I0531 10:37:36.039380 139722502752000 efficientnet_model.py:453] Building model efficientnet with params ModelConfig(width_coefficient=1.8, depth_coefficient=2.6, resolution=528, dropout_rate=0.5, blocks=(BlockConfig(input_filters=32, output_filters=16, kernel_size=3, num_repeat=1, expand_ratio=1, strides=(1, 1), se_ratio=0.25, id_skip=True, fused_conv=False, conv_type='depthwise'), BlockConfig(input_filters=16, output_filters=24, kernel_size=3, num_repeat=2, expand_ratio=6, strides=(2, 2), se_ratio=0.25, id_skip=True, fused_conv=False, conv_type='depthwise'), BlockConfig(input_filters=24, output_filters=40, kernel_size=5, num_repeat=2, expand_ratio=6, strides=(2, 2), se_ratio=0.25, id_skip=True, fused_conv=False, conv_type='depthwise'), BlockConfig(input_filters=40, output_filters=80, kernel_size=3, num_repeat=3, expand_ratio=6, strides=(2, 2), se_ratio=0.25, id_skip=True, fused_conv=False, conv_type='depthwise'), BlockConfig(input_filters=80, output_filters=112, kernel_size=5, num_repeat=3, expand_ratio=6, strides=(1, 1), se_ratio=0.25, id_skip=True, fused_conv=False, conv_type='depthwise'), BlockConfig(input_filters=112, output_filters=192, kernel_size=5, num_repeat=4, expand_ratio=6, strides=(2, 2), se_ratio=0.25, id_skip=True, fused_conv=False, conv_type='depthwise'), BlockConfig(input_filters=192, output_filters=320, kernel_size=3, num_repeat=1, expand_ratio=6, strides=(1, 1), se_ratio=0.25, id_skip=True, fused_conv=False, conv_type='depthwise')), stem_base_filters=32, top_base_filters=1280, activation='simple_swish', batch_norm='default', bn_momentum=0.99, bn_epsilon=0.001, weight_decay=5e-06, drop_connect_rate=0.2, depth_divisor=8, min_depth=None, use_se=True, input_channels=3, num_classes=1000, model_name='efficientnet', rescale_input=False, data_format='channels_last', dtype='float32')\n"
     ]
    },
    {
     "name": "stdout",
     "output_type": "stream",
     "text": [
      "I0531 10:37:36.120416 139722502752000 ssd_efficientnet_bifpn_feature_extractor.py:145] EfficientDet EfficientNet backbone version: efficientnet-b7\n",
      "I0531 10:37:36.120536 139722502752000 ssd_efficientnet_bifpn_feature_extractor.py:147] EfficientDet BiFPN num filters: 384\n",
      "I0531 10:37:36.120608 139722502752000 ssd_efficientnet_bifpn_feature_extractor.py:148] EfficientDet BiFPN num iterations: 8\n",
      "I0531 10:37:36.121801 139722502752000 efficientnet_model.py:143] round_filter input=32 output=64\n",
      "I0531 10:37:36.136290 139722502752000 efficientnet_model.py:143] round_filter input=32 output=64\n",
      "I0531 10:37:36.136436 139722502752000 efficientnet_model.py:143] round_filter input=16 output=32\n",
      "I0531 10:37:36.351776 139722502752000 efficientnet_model.py:143] round_filter input=16 output=32\n",
      "I0531 10:37:36.351886 139722502752000 efficientnet_model.py:143] round_filter input=24 output=48\n",
      "I0531 10:37:36.790471 139722502752000 efficientnet_model.py:143] round_filter input=24 output=48\n",
      "I0531 10:37:36.790585 139722502752000 efficientnet_model.py:143] round_filter input=40 output=80\n",
      "I0531 10:37:37.230487 139722502752000 efficientnet_model.py:143] round_filter input=40 output=80\n",
      "I0531 10:37:37.230606 139722502752000 efficientnet_model.py:143] round_filter input=80 output=160\n",
      "I0531 10:37:37.857782 139722502752000 efficientnet_model.py:143] round_filter input=80 output=160\n",
      "I0531 10:37:37.857931 139722502752000 efficientnet_model.py:143] round_filter input=112 output=224\n",
      "I0531 10:37:38.513520 139722502752000 efficientnet_model.py:143] round_filter input=112 output=224\n",
      "I0531 10:37:38.513651 139722502752000 efficientnet_model.py:143] round_filter input=192 output=384\n",
      "I0531 10:37:39.637848 139722502752000 efficientnet_model.py:143] round_filter input=192 output=384\n",
      "I0531 10:37:39.637967 139722502752000 efficientnet_model.py:143] round_filter input=320 output=640\n",
      "I0531 10:37:39.992039 139722502752000 efficientnet_model.py:143] round_filter input=1280 output=2560\n",
      "I0531 10:37:40.030041 139722502752000 efficientnet_model.py:453] Building model efficientnet with params ModelConfig(width_coefficient=2.0, depth_coefficient=3.1, resolution=600, dropout_rate=0.5, blocks=(BlockConfig(input_filters=32, output_filters=16, kernel_size=3, num_repeat=1, expand_ratio=1, strides=(1, 1), se_ratio=0.25, id_skip=True, fused_conv=False, conv_type='depthwise'), BlockConfig(input_filters=16, output_filters=24, kernel_size=3, num_repeat=2, expand_ratio=6, strides=(2, 2), se_ratio=0.25, id_skip=True, fused_conv=False, conv_type='depthwise'), BlockConfig(input_filters=24, output_filters=40, kernel_size=5, num_repeat=2, expand_ratio=6, strides=(2, 2), se_ratio=0.25, id_skip=True, fused_conv=False, conv_type='depthwise'), BlockConfig(input_filters=40, output_filters=80, kernel_size=3, num_repeat=3, expand_ratio=6, strides=(2, 2), se_ratio=0.25, id_skip=True, fused_conv=False, conv_type='depthwise'), BlockConfig(input_filters=80, output_filters=112, kernel_size=5, num_repeat=3, expand_ratio=6, strides=(1, 1), se_ratio=0.25, id_skip=True, fused_conv=False, conv_type='depthwise'), BlockConfig(input_filters=112, output_filters=192, kernel_size=5, num_repeat=4, expand_ratio=6, strides=(2, 2), se_ratio=0.25, id_skip=True, fused_conv=False, conv_type='depthwise'), BlockConfig(input_filters=192, output_filters=320, kernel_size=3, num_repeat=1, expand_ratio=6, strides=(1, 1), se_ratio=0.25, id_skip=True, fused_conv=False, conv_type='depthwise')), stem_base_filters=32, top_base_filters=1280, activation='simple_swish', batch_norm='default', bn_momentum=0.99, bn_epsilon=0.001, weight_decay=5e-06, drop_connect_rate=0.2, depth_divisor=8, min_depth=None, use_se=True, input_channels=3, num_classes=1000, model_name='efficientnet', rescale_input=False, data_format='channels_last', dtype='float32')\n",
      "INFO:tensorflow:time(__main__.ModelBuilderTF2Test.test_create_ssd_models_from_config): 18.55s\n",
      "I0531 10:37:40.116952 139722502752000 test_util.py:2458] time(__main__.ModelBuilderTF2Test.test_create_ssd_models_from_config): 18.55s\n",
      "[       OK ] ModelBuilderTF2Test.test_create_ssd_models_from_config\n",
      "[ RUN      ] ModelBuilderTF2Test.test_invalid_faster_rcnn_batchnorm_update\n",
      "INFO:tensorflow:time(__main__.ModelBuilderTF2Test.test_invalid_faster_rcnn_batchnorm_update): 0.0s\n",
      "I0531 10:37:40.123378 139722502752000 test_util.py:2458] time(__main__.ModelBuilderTF2Test.test_invalid_faster_rcnn_batchnorm_update): 0.0s\n",
      "[       OK ] ModelBuilderTF2Test.test_invalid_faster_rcnn_batchnorm_update\n",
      "[ RUN      ] ModelBuilderTF2Test.test_invalid_first_stage_nms_iou_threshold\n",
      "INFO:tensorflow:time(__main__.ModelBuilderTF2Test.test_invalid_first_stage_nms_iou_threshold): 0.0s\n",
      "I0531 10:37:40.124687 139722502752000 test_util.py:2458] time(__main__.ModelBuilderTF2Test.test_invalid_first_stage_nms_iou_threshold): 0.0s\n",
      "[       OK ] ModelBuilderTF2Test.test_invalid_first_stage_nms_iou_threshold\n",
      "[ RUN      ] ModelBuilderTF2Test.test_invalid_model_config_proto\n",
      "INFO:tensorflow:time(__main__.ModelBuilderTF2Test.test_invalid_model_config_proto): 0.0s\n",
      "I0531 10:37:40.125002 139722502752000 test_util.py:2458] time(__main__.ModelBuilderTF2Test.test_invalid_model_config_proto): 0.0s\n",
      "[       OK ] ModelBuilderTF2Test.test_invalid_model_config_proto\n",
      "[ RUN      ] ModelBuilderTF2Test.test_invalid_second_stage_batch_size\n",
      "INFO:tensorflow:time(__main__.ModelBuilderTF2Test.test_invalid_second_stage_batch_size): 0.0s\n",
      "I0531 10:37:40.126081 139722502752000 test_util.py:2458] time(__main__.ModelBuilderTF2Test.test_invalid_second_stage_batch_size): 0.0s\n",
      "[       OK ] ModelBuilderTF2Test.test_invalid_second_stage_batch_size\n",
      "[ RUN      ] ModelBuilderTF2Test.test_session\n",
      "[  SKIPPED ] ModelBuilderTF2Test.test_session\n",
      "[ RUN      ] ModelBuilderTF2Test.test_unknown_faster_rcnn_feature_extractor\n",
      "INFO:tensorflow:time(__main__.ModelBuilderTF2Test.test_unknown_faster_rcnn_feature_extractor): 0.0s\n",
      "I0531 10:37:40.127089 139722502752000 test_util.py:2458] time(__main__.ModelBuilderTF2Test.test_unknown_faster_rcnn_feature_extractor): 0.0s\n",
      "[       OK ] ModelBuilderTF2Test.test_unknown_faster_rcnn_feature_extractor\n",
      "[ RUN      ] ModelBuilderTF2Test.test_unknown_meta_architecture\n",
      "INFO:tensorflow:time(__main__.ModelBuilderTF2Test.test_unknown_meta_architecture): 0.0s\n",
      "I0531 10:37:40.127376 139722502752000 test_util.py:2458] time(__main__.ModelBuilderTF2Test.test_unknown_meta_architecture): 0.0s\n",
      "[       OK ] ModelBuilderTF2Test.test_unknown_meta_architecture\n",
      "[ RUN      ] ModelBuilderTF2Test.test_unknown_ssd_feature_extractor\n",
      "INFO:tensorflow:time(__main__.ModelBuilderTF2Test.test_unknown_ssd_feature_extractor): 0.0s\n",
      "I0531 10:37:40.128112 139722502752000 test_util.py:2458] time(__main__.ModelBuilderTF2Test.test_unknown_ssd_feature_extractor): 0.0s\n",
      "[       OK ] ModelBuilderTF2Test.test_unknown_ssd_feature_extractor\n",
      "----------------------------------------------------------------------\n",
      "Ran 24 tests in 21.927s\n",
      "\n",
      "OK (skipped=1)\n"
     ]
    }
   ],
   "source": [
    "VERIFICATION_SCRIPT = os.path.join(paths['APIMODEL_PATH'], 'research', 'object_detection', 'builders', 'model_builder_tf2_test.py')\n",
    "# Verify Installation\n",
    "!python {VERIFICATION_SCRIPT}"
   ]
  },
  {
   "cell_type": "code",
   "execution_count": 20,
   "metadata": {
    "id": "bwJaq3thCFyF",
    "pycharm": {
     "name": "#%%\n"
    }
   },
   "outputs": [],
   "source": [
    "import object_detection"
   ]
  },
  {
   "cell_type": "code",
   "execution_count": 13,
   "metadata": {
    "id": "AJ-fO3hcCFyG",
    "scrolled": true,
    "pycharm": {
     "name": "#%%\n"
    }
   },
   "outputs": [
    {
     "name": "stdout",
     "output_type": "stream",
     "text": [
      "Collecting tensorflow-gpu\n",
      "  Using cached tensorflow_gpu-2.9.1-cp38-cp38-manylinux_2_17_x86_64.manylinux2014_x86_64.whl (511.7 MB)\n",
      "Requirement already satisfied: packaging in ./tfod/lib/python3.8/site-packages (from tensorflow-gpu) (21.3)\n",
      "Requirement already satisfied: opt-einsum>=2.3.2 in ./tfod/lib/python3.8/site-packages (from tensorflow-gpu) (3.3.0)\n",
      "Requirement already satisfied: tensorboard<2.10,>=2.9 in ./tfod/lib/python3.8/site-packages (from tensorflow-gpu) (2.9.0)\n",
      "Requirement already satisfied: six>=1.12.0 in ./tfod/lib/python3.8/site-packages (from tensorflow-gpu) (1.16.0)\n",
      "Requirement already satisfied: grpcio<2.0,>=1.24.3 in ./tfod/lib/python3.8/site-packages (from tensorflow-gpu) (1.46.3)\n",
      "Requirement already satisfied: gast<=0.4.0,>=0.2.1 in ./tfod/lib/python3.8/site-packages (from tensorflow-gpu) (0.4.0)\n",
      "Requirement already satisfied: tensorflow-io-gcs-filesystem>=0.23.1 in ./tfod/lib/python3.8/site-packages (from tensorflow-gpu) (0.26.0)\n",
      "Requirement already satisfied: google-pasta>=0.1.1 in ./tfod/lib/python3.8/site-packages (from tensorflow-gpu) (0.2.0)\n",
      "Requirement already satisfied: absl-py>=1.0.0 in ./tfod/lib/python3.8/site-packages (from tensorflow-gpu) (1.0.0)\n",
      "Requirement already satisfied: flatbuffers<2,>=1.12 in ./tfod/lib/python3.8/site-packages (from tensorflow-gpu) (1.12)\n",
      "Requirement already satisfied: libclang>=13.0.0 in ./tfod/lib/python3.8/site-packages (from tensorflow-gpu) (14.0.1)\n",
      "Requirement already satisfied: astunparse>=1.6.0 in ./tfod/lib/python3.8/site-packages (from tensorflow-gpu) (1.6.3)\n",
      "Requirement already satisfied: h5py>=2.9.0 in ./tfod/lib/python3.8/site-packages (from tensorflow-gpu) (3.7.0)\n",
      "Requirement already satisfied: tensorflow-estimator<2.10.0,>=2.9.0rc0 in ./tfod/lib/python3.8/site-packages (from tensorflow-gpu) (2.9.0)\n",
      "Requirement already satisfied: typing-extensions>=3.6.6 in ./tfod/lib/python3.8/site-packages (from tensorflow-gpu) (4.2.0)\n",
      "Requirement already satisfied: setuptools in ./tfod/lib/python3.8/site-packages (from tensorflow-gpu) (61.2.0)\n",
      "Requirement already satisfied: protobuf<3.20,>=3.9.2 in ./tfod/lib/python3.8/site-packages (from tensorflow-gpu) (3.19.4)\n",
      "Requirement already satisfied: termcolor>=1.1.0 in ./tfod/lib/python3.8/site-packages (from tensorflow-gpu) (1.1.0)\n",
      "Requirement already satisfied: wrapt>=1.11.0 in ./tfod/lib/python3.8/site-packages (from tensorflow-gpu) (1.14.1)\n",
      "Requirement already satisfied: numpy>=1.20 in ./tfod/lib/python3.8/site-packages (from tensorflow-gpu) (1.22.4)\n",
      "Requirement already satisfied: keras-preprocessing>=1.1.1 in ./tfod/lib/python3.8/site-packages (from tensorflow-gpu) (1.1.2)\n",
      "Requirement already satisfied: keras<2.10.0,>=2.9.0rc0 in ./tfod/lib/python3.8/site-packages (from tensorflow-gpu) (2.9.0)\n",
      "Requirement already satisfied: wheel<1.0,>=0.23.0 in ./tfod/lib/python3.8/site-packages (from astunparse>=1.6.0->tensorflow-gpu) (0.37.1)\n",
      "Requirement already satisfied: tensorboard-plugin-wit>=1.6.0 in ./tfod/lib/python3.8/site-packages (from tensorboard<2.10,>=2.9->tensorflow-gpu) (1.8.1)\n",
      "Requirement already satisfied: requests<3,>=2.21.0 in ./tfod/lib/python3.8/site-packages (from tensorboard<2.10,>=2.9->tensorflow-gpu) (2.27.1)\n",
      "Requirement already satisfied: google-auth<3,>=1.6.3 in ./tfod/lib/python3.8/site-packages (from tensorboard<2.10,>=2.9->tensorflow-gpu) (2.6.6)\n",
      "Requirement already satisfied: google-auth-oauthlib<0.5,>=0.4.1 in ./tfod/lib/python3.8/site-packages (from tensorboard<2.10,>=2.9->tensorflow-gpu) (0.4.6)\n",
      "Requirement already satisfied: markdown>=2.6.8 in ./tfod/lib/python3.8/site-packages (from tensorboard<2.10,>=2.9->tensorflow-gpu) (3.3.7)\n",
      "Requirement already satisfied: tensorboard-data-server<0.7.0,>=0.6.0 in ./tfod/lib/python3.8/site-packages (from tensorboard<2.10,>=2.9->tensorflow-gpu) (0.6.1)\n",
      "Requirement already satisfied: werkzeug>=1.0.1 in ./tfod/lib/python3.8/site-packages (from tensorboard<2.10,>=2.9->tensorflow-gpu) (2.1.2)\n",
      "Requirement already satisfied: pyparsing!=3.0.5,>=2.0.2 in ./tfod/lib/python3.8/site-packages (from packaging->tensorflow-gpu) (2.4.7)\n",
      "Requirement already satisfied: cachetools<6.0,>=2.0.0 in ./tfod/lib/python3.8/site-packages (from google-auth<3,>=1.6.3->tensorboard<2.10,>=2.9->tensorflow-gpu) (5.2.0)\n",
      "Requirement already satisfied: pyasn1-modules>=0.2.1 in ./tfod/lib/python3.8/site-packages (from google-auth<3,>=1.6.3->tensorboard<2.10,>=2.9->tensorflow-gpu) (0.2.8)\n",
      "Requirement already satisfied: rsa<5,>=3.1.4 in ./tfod/lib/python3.8/site-packages (from google-auth<3,>=1.6.3->tensorboard<2.10,>=2.9->tensorflow-gpu) (4.8)\n",
      "Requirement already satisfied: requests-oauthlib>=0.7.0 in ./tfod/lib/python3.8/site-packages (from google-auth-oauthlib<0.5,>=0.4.1->tensorboard<2.10,>=2.9->tensorflow-gpu) (1.3.1)\n",
      "Requirement already satisfied: importlib-metadata>=4.4 in ./tfod/lib/python3.8/site-packages (from markdown>=2.6.8->tensorboard<2.10,>=2.9->tensorflow-gpu) (4.11.4)\n",
      "Requirement already satisfied: certifi>=2017.4.17 in ./tfod/lib/python3.8/site-packages (from requests<3,>=2.21.0->tensorboard<2.10,>=2.9->tensorflow-gpu) (2022.5.18.1)\n",
      "Requirement already satisfied: charset-normalizer~=2.0.0 in ./tfod/lib/python3.8/site-packages (from requests<3,>=2.21.0->tensorboard<2.10,>=2.9->tensorflow-gpu) (2.0.12)\n",
      "Requirement already satisfied: idna<4,>=2.5 in ./tfod/lib/python3.8/site-packages (from requests<3,>=2.21.0->tensorboard<2.10,>=2.9->tensorflow-gpu) (3.3)\n",
      "Requirement already satisfied: urllib3<1.27,>=1.21.1 in ./tfod/lib/python3.8/site-packages (from requests<3,>=2.21.0->tensorboard<2.10,>=2.9->tensorflow-gpu) (1.26.9)\n",
      "Requirement already satisfied: zipp>=0.5 in ./tfod/lib/python3.8/site-packages (from importlib-metadata>=4.4->markdown>=2.6.8->tensorboard<2.10,>=2.9->tensorflow-gpu) (3.8.0)\n",
      "Requirement already satisfied: pyasn1<0.5.0,>=0.4.6 in ./tfod/lib/python3.8/site-packages (from pyasn1-modules>=0.2.1->google-auth<3,>=1.6.3->tensorboard<2.10,>=2.9->tensorflow-gpu) (0.4.8)\n",
      "Requirement already satisfied: oauthlib>=3.0.0 in ./tfod/lib/python3.8/site-packages (from requests-oauthlib>=0.7.0->google-auth-oauthlib<0.5,>=0.4.1->tensorboard<2.10,>=2.9->tensorflow-gpu) (3.2.0)\n",
      "Installing collected packages: tensorflow-gpu\n",
      "Successfully installed tensorflow-gpu-2.9.1\n",
      "Package                       Version\n",
      "----------------------------- -----------\n",
      "absl-py                       1.0.0\n",
      "apache-beam                   2.39.0\n",
      "argon2-cffi                   21.3.0\n",
      "argon2-cffi-bindings          21.2.0\n",
      "asttokens                     2.0.5\n",
      "astunparse                    1.6.3\n",
      "attrs                         21.4.0\n",
      "avro-python3                  1.10.2\n",
      "backcall                      0.2.0\n",
      "beautifulsoup4                4.11.1\n",
      "bleach                        5.0.0\n",
      "cachetools                    5.2.0\n",
      "certifi                       2022.5.18.1\n",
      "cffi                          1.15.0\n",
      "charset-normalizer            2.0.12\n",
      "cloudpickle                   2.1.0\n",
      "colorama                      0.4.4\n",
      "contextlib2                   21.6.0\n",
      "crcmod                        1.7\n",
      "cycler                        0.11.0\n",
      "Cython                        0.29.30\n",
      "debugpy                       1.6.0\n",
      "decorator                     5.1.1\n",
      "defusedxml                    0.7.1\n",
      "dill                          0.3.1.1\n",
      "dm-tree                       0.1.7\n",
      "docopt                        0.6.2\n",
      "entrypoints                   0.4\n",
      "executing                     0.8.3\n",
      "fastavro                      1.4.12\n",
      "fastjsonschema                2.15.3\n",
      "flatbuffers                   1.12\n",
      "fonttools                     4.33.3\n",
      "gast                          0.4.0\n",
      "gin-config                    0.5.0\n",
      "google-api-core               2.8.1\n",
      "google-api-python-client      2.49.0\n",
      "google-auth                   2.6.6\n",
      "google-auth-httplib2          0.1.0\n",
      "google-auth-oauthlib          0.4.6\n",
      "google-pasta                  0.2.0\n",
      "googleapis-common-protos      1.56.2\n",
      "grpcio                        1.46.3\n",
      "h5py                          3.7.0\n",
      "hdfs                          2.7.0\n",
      "httplib2                      0.19.1\n",
      "idna                          3.3\n",
      "importlib-metadata            4.11.4\n",
      "importlib-resources           5.7.1\n",
      "ipykernel                     6.13.0\n",
      "ipython                       8.4.0\n",
      "ipython-genutils              0.2.0\n",
      "ipywidgets                    7.7.0\n",
      "jedi                          0.18.1\n",
      "Jinja2                        3.1.2\n",
      "joblib                        1.1.0\n",
      "jsonschema                    4.5.1\n",
      "jupyter                       1.0.0\n",
      "jupyter-client                7.3.1\n",
      "jupyter-console               6.4.3\n",
      "jupyter-core                  4.10.0\n",
      "jupyterlab-pygments           0.2.2\n",
      "jupyterlab-widgets            1.1.0\n",
      "kaggle                        1.5.12\n",
      "keras                         2.9.0\n",
      "Keras-Preprocessing           1.1.2\n",
      "kiwisolver                    1.4.2\n",
      "libclang                      14.0.1\n",
      "lvis                          0.5.3\n",
      "lxml                          4.8.0\n",
      "Markdown                      3.3.7\n",
      "MarkupSafe                    2.1.1\n",
      "matplotlib                    3.5.2\n",
      "matplotlib-inline             0.1.3\n",
      "mistune                       0.8.4\n",
      "nbclient                      0.6.3\n",
      "nbconvert                     6.5.0\n",
      "nbformat                      5.4.0\n",
      "nest-asyncio                  1.5.5\n",
      "notebook                      6.4.11\n",
      "numpy                         1.22.4\n",
      "oauth2client                  4.1.3\n",
      "oauthlib                      3.2.0\n",
      "object-detection              0.1\n",
      "opencv-python                 4.5.5.64\n",
      "opencv-python-headless        4.5.5.64\n",
      "opt-einsum                    3.3.0\n",
      "orjson                        3.6.8\n",
      "packaging                     21.3\n",
      "pandas                        1.4.2\n",
      "pandocfilters                 1.5.0\n",
      "parso                         0.8.3\n",
      "pexpect                       4.8.0\n",
      "pickleshare                   0.7.5\n",
      "Pillow                        9.1.1\n",
      "pip                           22.1.2\n",
      "portalocker                   2.4.0\n",
      "prometheus-client             0.14.1\n",
      "promise                       2.3\n",
      "prompt-toolkit                3.0.29\n",
      "proto-plus                    1.20.5\n",
      "protobuf                      3.19.4\n",
      "psutil                        5.9.1\n",
      "ptyprocess                    0.7.0\n",
      "pure-eval                     0.2.2\n",
      "py-cpuinfo                    8.0.0\n",
      "pyarrow                       7.0.0\n",
      "pyasn1                        0.4.8\n",
      "pyasn1-modules                0.2.8\n",
      "pycocotools                   2.0.4\n",
      "pycparser                     2.21\n",
      "pydot                         1.4.2\n",
      "Pygments                      2.12.0\n",
      "pymongo                       3.12.3\n",
      "pyparsing                     2.4.7\n",
      "pyrsistent                    0.18.1\n",
      "python-dateutil               2.8.2\n",
      "python-slugify                6.1.2\n",
      "pytz                          2022.1\n",
      "PyYAML                        5.4.1\n",
      "pyzmq                         23.0.0\n",
      "qtconsole                     5.3.0\n",
      "QtPy                          2.1.0\n",
      "regex                         2022.4.24\n",
      "requests                      2.27.1\n",
      "requests-oauthlib             1.3.1\n",
      "rsa                           4.8\n",
      "sacrebleu                     2.1.0\n",
      "scikit-learn                  1.1.1\n",
      "scipy                         1.8.1\n",
      "Send2Trash                    1.8.0\n",
      "sentencepiece                 0.1.96\n",
      "seqeval                       1.2.2\n",
      "setuptools                    61.2.0\n",
      "six                           1.16.0\n",
      "soupsieve                     2.3.2.post1\n",
      "stack-data                    0.2.0\n",
      "tabulate                      0.8.9\n",
      "tensorboard                   2.9.0\n",
      "tensorboard-data-server       0.6.1\n",
      "tensorboard-plugin-wit        1.8.1\n",
      "tensorflow                    2.9.1\n",
      "tensorflow-addons             0.17.0\n",
      "tensorflow-datasets           4.5.2\n",
      "tensorflow-estimator          2.9.0\n",
      "tensorflow-gpu                2.9.1\n",
      "tensorflow-hub                0.12.0\n",
      "tensorflow-io                 0.26.0\n",
      "tensorflow-io-gcs-filesystem  0.26.0\n",
      "tensorflow-metadata           1.8.0\n",
      "tensorflow-model-optimization 0.7.2\n",
      "tensorflow-text               2.9.0\n",
      "termcolor                     1.1.0\n",
      "terminado                     0.15.0\n",
      "text-unidecode                1.3\n",
      "tf-models-official            2.9.2\n",
      "tf-slim                       1.1.0\n",
      "threadpoolctl                 3.1.0\n",
      "tinycss2                      1.1.1\n",
      "tornado                       6.1\n",
      "tqdm                          4.64.0\n",
      "traitlets                     5.2.1.post0\n",
      "typeguard                     2.13.3\n",
      "typing_extensions             4.2.0\n",
      "uritemplate                   4.1.1\n",
      "urllib3                       1.26.9\n",
      "wcwidth                       0.2.5\n",
      "webencodings                  0.5.1\n",
      "Werkzeug                      2.1.2\n",
      "wheel                         0.37.1\n",
      "widgetsnbextension            3.6.0\n",
      "wrapt                         1.14.1\n",
      "zipp                          3.8.0\n"
     ]
    }
   ],
   "source": [
    "!pip install tensorflow-gpu\n",
    "!pip list"
   ]
  },
  {
   "cell_type": "markdown",
   "metadata": {
    "id": "3SVj_ClUKDc6",
    "pycharm": {
     "name": "#%% md\n"
    }
   },
   "source": [
    "### Descargar nuestro modelo desde Tensorflow Model Zoo\n",
    "Esto es con la finalidad de utilizar una arquitectura del estado del arte y utilizar la tecnica \"transfer learning\".\n",
    "Vamos a utilizar la informacion que ya tiene este modelo (deteccion de personas, telefonos etc) y detectar objetos personalizados, en este caso: pistolas"
   ]
  },
  {
   "cell_type": "code",
   "execution_count": 21,
   "metadata": {
    "colab": {
     "base_uri": "https://localhost:8080/"
    },
    "id": "csofht2npfDE",
    "outputId": "4c14b495-9642-4c05-8ae0-f46caafdea94",
    "pycharm": {
     "name": "#%%\n"
    }
   },
   "outputs": [
    {
     "name": "stdout",
     "output_type": "stream",
     "text": [
      "--2022-05-31 10:37:51--  http://download.tensorflow.org/models/object_detection/tf2/20200711/ssd_mobilenet_v2_fpnlite_320x320_coco17_tpu-8.tar.gz\n",
      "Resolviendo download.tensorflow.org (download.tensorflow.org)... 142.250.68.80, 2607:f8b0:4007:811::2010\n",
      "Conectando con download.tensorflow.org (download.tensorflow.org)[142.250.68.80]:80... conectado.\n",
      "Petición HTTP enviada, esperando respuesta... 200 OK\n",
      "Longitud: 20515344 (20M) [application/x-tar]\n",
      "Grabando a: “ssd_mobilenet_v2_fpnlite_320x320_coco17_tpu-8.tar.gz”\n",
      "\n",
      "ssd_mobilenet_v2_fp 100%[===================>]  19.56M  7.05MB/s    in 2.8s    \n",
      "\n",
      "2022-05-31 10:37:54 (7.05 MB/s) - “ssd_mobilenet_v2_fpnlite_320x320_coco17_tpu-8.tar.gz” guardado [20515344/20515344]\n",
      "\n",
      "ssd_mobilenet_v2_fpnlite_320x320_coco17_tpu-8/\n",
      "ssd_mobilenet_v2_fpnlite_320x320_coco17_tpu-8/checkpoint/\n",
      "ssd_mobilenet_v2_fpnlite_320x320_coco17_tpu-8/checkpoint/ckpt-0.data-00000-of-00001\n",
      "ssd_mobilenet_v2_fpnlite_320x320_coco17_tpu-8/checkpoint/checkpoint\n",
      "ssd_mobilenet_v2_fpnlite_320x320_coco17_tpu-8/checkpoint/ckpt-0.index\n",
      "ssd_mobilenet_v2_fpnlite_320x320_coco17_tpu-8/pipeline.config\n",
      "ssd_mobilenet_v2_fpnlite_320x320_coco17_tpu-8/saved_model/\n",
      "ssd_mobilenet_v2_fpnlite_320x320_coco17_tpu-8/saved_model/saved_model.pb\n",
      "ssd_mobilenet_v2_fpnlite_320x320_coco17_tpu-8/saved_model/variables/\n",
      "ssd_mobilenet_v2_fpnlite_320x320_coco17_tpu-8/saved_model/variables/variables.data-00000-of-00001\n",
      "ssd_mobilenet_v2_fpnlite_320x320_coco17_tpu-8/saved_model/variables/variables.index\n"
     ]
    }
   ],
   "source": [
    "if os.name =='posix':\n",
    "    !wget {PRETRAINED_MODEL_URL}\n",
    "    !mv {PRETRAINED_MODEL_NAME+'.tar.gz'} {paths['PRETRAINED_MODEL_PATH']}\n",
    "    !cd {paths['PRETRAINED_MODEL_PATH']} && tar -zxvf {PRETRAINED_MODEL_NAME+'.tar.gz'}\n",
    "if os.name == 'nt':\n",
    "    wget.download(PRETRAINED_MODEL_URL)\n",
    "    !move {PRETRAINED_MODEL_NAME+'.tar.gz'} {paths['PRETRAINED_MODEL_PATH']}\n",
    "    !cd {paths['PRETRAINED_MODEL_PATH']} && tar -zxvf {PRETRAINED_MODEL_NAME+'.tar.gz'}\n",
    "\n",
    "#toda la informacion de este modelo preentrenado se encuentra en el folder pre-trained-models\n",
    "# este modelo tiene como finalidad el ser rapido por lo que su presicion puede no ser muy buena"
   ]
  },
  {
   "cell_type": "markdown",
   "metadata": {
    "id": "M5KJTnkfpfDC",
    "pycharm": {
     "name": "#%% md\n"
    }
   },
   "source": [
    "# 2. Create Label Map"
   ]
  },
  {
   "cell_type": "code",
   "execution_count": 22,
   "metadata": {
    "id": "p1BVDWo7pfDC",
    "pycharm": {
     "name": "#%%\n"
    }
   },
   "outputs": [],
   "source": [
    "labels = [{'name':'pistol', 'id':1}]\n",
    "\n",
    "with open(files['LABELMAP'], 'w') as f:\n",
    "    for label in labels:\n",
    "        f.write('item { \\n')\n",
    "        f.write('\\tname:\\'{}\\'\\n'.format(label['name']))\n",
    "        f.write('\\tid:{}\\n'.format(label['id']))\n",
    "        f.write('}\\n')"
   ]
  },
  {
   "cell_type": "markdown",
   "metadata": {
    "id": "C88zyVELpfDC",
    "pycharm": {
     "name": "#%% md\n"
    }
   },
   "source": [
    "# 3. Create TF records"
   ]
  },
  {
   "cell_type": "code",
   "execution_count": 23,
   "metadata": {
    "colab": {
     "base_uri": "https://localhost:8080/"
    },
    "id": "kvf5WccwrFGq",
    "outputId": "84465e8a-9ba9-4c5a-8fef-118992d13bbe",
    "pycharm": {
     "name": "#%%\n"
    }
   },
   "outputs": [
    {
     "name": "stdout",
     "output_type": "stream",
     "text": [
      "Pistol_detection/Tensorflow/work/imagenes/dataset_pistolas/pistol/train/\n",
      "Pistol_detection/Tensorflow/work/imagenes/dataset_pistolas/pistol/train/armas (2).xml\n",
      "Pistol_detection/Tensorflow/work/imagenes/dataset_pistolas/pistol/train/armas (34).jpg\n",
      "Pistol_detection/Tensorflow/work/imagenes/dataset_pistolas/pistol/train/armas (34).xml\n",
      "Pistol_detection/Tensorflow/work/imagenes/dataset_pistolas/pistol/train/armas (2).jpg\n",
      "Pistol_detection/Tensorflow/work/imagenes/dataset_pistolas/pistol/train/armas (63).jpg\n",
      "Pistol_detection/Tensorflow/work/imagenes/dataset_pistolas/pistol/train/armas (63).xml\n",
      "Pistol_detection/Tensorflow/work/imagenes/dataset_pistolas/pistol/train/armas (75).jpg\n",
      "Pistol_detection/Tensorflow/work/imagenes/dataset_pistolas/pistol/train/armas (75).xml\n",
      "Pistol_detection/Tensorflow/work/imagenes/dataset_pistolas/pistol/train/armas (22).jpg\n",
      "Pistol_detection/Tensorflow/work/imagenes/dataset_pistolas/pistol/train/armas (22).xml\n",
      "Pistol_detection/Tensorflow/work/imagenes/dataset_pistolas/pistol/train/armas (59).jpg\n",
      "Pistol_detection/Tensorflow/work/imagenes/dataset_pistolas/pistol/train/armas (59).xml\n",
      "Pistol_detection/Tensorflow/work/imagenes/dataset_pistolas/pistol/train/armas (18).jpg\n",
      "Pistol_detection/Tensorflow/work/imagenes/dataset_pistolas/pistol/train/armas (18).xml\n",
      "Pistol_detection/Tensorflow/work/imagenes/dataset_pistolas/pistol/train/armas (38).xml\n",
      "Pistol_detection/Tensorflow/work/imagenes/dataset_pistolas/pistol/train/armas (38).jpg\n",
      "Pistol_detection/Tensorflow/work/imagenes/dataset_pistolas/pistol/train/armas (80).xml\n",
      "Pistol_detection/Tensorflow/work/imagenes/dataset_pistolas/pistol/train/armas (80).jpg\n",
      "Pistol_detection/Tensorflow/work/imagenes/dataset_pistolas/pistol/train/armas (79).xml\n",
      "Pistol_detection/Tensorflow/work/imagenes/dataset_pistolas/pistol/train/armas (79).jpg\n",
      "Pistol_detection/Tensorflow/work/imagenes/dataset_pistolas/pistol/train/armas (55).xml\n",
      "Pistol_detection/Tensorflow/work/imagenes/dataset_pistolas/pistol/train/armas (55).jpg\n",
      "Pistol_detection/Tensorflow/work/imagenes/dataset_pistolas/pistol/train/armas (14).xml\n",
      "Pistol_detection/Tensorflow/work/imagenes/dataset_pistolas/pistol/train/armas (14).jpg\n",
      "Pistol_detection/Tensorflow/work/imagenes/dataset_pistolas/pistol/train/armas (43).xml\n",
      "Pistol_detection/Tensorflow/work/imagenes/dataset_pistolas/pistol/train/armas (43).jpg\n",
      "Pistol_detection/Tensorflow/work/imagenes/dataset_pistolas/pistol/train/armas (42).jpg\n",
      "Pistol_detection/Tensorflow/work/imagenes/dataset_pistolas/pistol/train/armas (42).xml\n",
      "Pistol_detection/Tensorflow/work/imagenes/dataset_pistolas/pistol/train/armas (15).jpg\n",
      "Pistol_detection/Tensorflow/work/imagenes/dataset_pistolas/pistol/train/armas (15).xml\n",
      "Pistol_detection/Tensorflow/work/imagenes/dataset_pistolas/pistol/train/.DS_Store\n",
      "Pistol_detection/Tensorflow/work/imagenes/dataset_pistolas/pistol/train/armas (54).jpg\n",
      "Pistol_detection/Tensorflow/work/imagenes/dataset_pistolas/pistol/train/armas (54).xml\n",
      "Pistol_detection/Tensorflow/work/imagenes/dataset_pistolas/pistol/train/armas (78).jpg\n",
      "Pistol_detection/Tensorflow/work/imagenes/dataset_pistolas/pistol/train/armas (78).xml\n",
      "Pistol_detection/Tensorflow/work/imagenes/dataset_pistolas/pistol/train/armas (81).jpg\n",
      "Pistol_detection/Tensorflow/work/imagenes/dataset_pistolas/pistol/train/armas (81).xml\n",
      "Pistol_detection/Tensorflow/work/imagenes/dataset_pistolas/pistol/train/armas (39).jpg\n",
      "Pistol_detection/Tensorflow/work/imagenes/dataset_pistolas/pistol/train/armas (39).xml\n",
      "Pistol_detection/Tensorflow/work/imagenes/dataset_pistolas/pistol/train/armas (19).xml\n",
      "Pistol_detection/Tensorflow/work/imagenes/dataset_pistolas/pistol/train/armas (19).jpg\n",
      "Pistol_detection/Tensorflow/work/imagenes/dataset_pistolas/pistol/train/armas (58).xml\n",
      "Pistol_detection/Tensorflow/work/imagenes/dataset_pistolas/pistol/train/armas (58).jpg\n",
      "Pistol_detection/Tensorflow/work/imagenes/dataset_pistolas/pistol/train/armas (23).xml\n",
      "Pistol_detection/Tensorflow/work/imagenes/dataset_pistolas/pistol/train/armas (23).jpg\n",
      "Pistol_detection/Tensorflow/work/imagenes/dataset_pistolas/pistol/train/armas (74).xml\n",
      "Pistol_detection/Tensorflow/work/imagenes/dataset_pistolas/pistol/train/armas (74).jpg\n",
      "Pistol_detection/Tensorflow/work/imagenes/dataset_pistolas/pistol/train/armas (62).xml\n",
      "Pistol_detection/Tensorflow/work/imagenes/dataset_pistolas/pistol/train/armas (62).jpg\n",
      "Pistol_detection/Tensorflow/work/imagenes/dataset_pistolas/pistol/train/armas (35).xml\n",
      "Pistol_detection/Tensorflow/work/imagenes/dataset_pistolas/pistol/train/armas (3).jpg\n",
      "Pistol_detection/Tensorflow/work/imagenes/dataset_pistolas/pistol/train/armas (3).xml\n",
      "Pistol_detection/Tensorflow/work/imagenes/dataset_pistolas/pistol/train/armas (35).jpg\n",
      "Pistol_detection/Tensorflow/work/imagenes/dataset_pistolas/pistol/train/armas (8).jpg\n",
      "Pistol_detection/Tensorflow/work/imagenes/dataset_pistolas/pistol/train/armas (8).xml\n",
      "Pistol_detection/Tensorflow/work/imagenes/dataset_pistolas/pistol/train/armas (69).xml\n",
      "Pistol_detection/Tensorflow/work/imagenes/dataset_pistolas/pistol/train/armas (86).xml\n",
      "Pistol_detection/Tensorflow/work/imagenes/dataset_pistolas/pistol/train/armas (86).jpg\n",
      "Pistol_detection/Tensorflow/work/imagenes/dataset_pistolas/pistol/train/armas (69).jpg\n",
      "Pistol_detection/Tensorflow/work/imagenes/dataset_pistolas/pistol/train/armas (90).xml\n",
      "Pistol_detection/Tensorflow/work/imagenes/dataset_pistolas/pistol/train/armas (90).jpg\n",
      "Pistol_detection/Tensorflow/work/imagenes/dataset_pistolas/pistol/train/armas (28).xml\n",
      "Pistol_detection/Tensorflow/work/imagenes/dataset_pistolas/pistol/train/armas (28).jpg\n",
      "Pistol_detection/Tensorflow/work/imagenes/dataset_pistolas/pistol/train/armas (53).xml\n",
      "Pistol_detection/Tensorflow/work/imagenes/dataset_pistolas/pistol/train/armas (53).jpg\n",
      "Pistol_detection/Tensorflow/work/imagenes/dataset_pistolas/pistol/train/armas (12).xml\n",
      "Pistol_detection/Tensorflow/work/imagenes/dataset_pistolas/pistol/train/armas (12).jpg\n",
      "Pistol_detection/Tensorflow/work/imagenes/dataset_pistolas/pistol/train/armas (45).xml\n",
      "Pistol_detection/Tensorflow/work/imagenes/dataset_pistolas/pistol/train/armas (45).jpg\n",
      "Pistol_detection/Tensorflow/work/imagenes/dataset_pistolas/pistol/train/armas (4).xml\n",
      "Pistol_detection/Tensorflow/work/imagenes/dataset_pistolas/pistol/train/armas (32).jpg\n",
      "Pistol_detection/Tensorflow/work/imagenes/dataset_pistolas/pistol/train/armas (32).xml\n",
      "Pistol_detection/Tensorflow/work/imagenes/dataset_pistolas/pistol/train/armas (4).jpg\n",
      "Pistol_detection/Tensorflow/work/imagenes/dataset_pistolas/pistol/train/armas (65).jpg\n",
      "Pistol_detection/Tensorflow/work/imagenes/dataset_pistolas/pistol/train/armas (65).xml\n",
      "Pistol_detection/Tensorflow/work/imagenes/dataset_pistolas/pistol/train/armas (73).jpg\n",
      "Pistol_detection/Tensorflow/work/imagenes/dataset_pistolas/pistol/train/armas (73).xml\n",
      "Pistol_detection/Tensorflow/work/imagenes/dataset_pistolas/pistol/train/armas (24).jpg\n",
      "Pistol_detection/Tensorflow/work/imagenes/dataset_pistolas/pistol/train/armas (24).xml\n",
      "Pistol_detection/Tensorflow/work/imagenes/dataset_pistolas/pistol/train/armas (49).jpg\n",
      "Pistol_detection/Tensorflow/work/imagenes/dataset_pistolas/pistol/train/armas (49).xml\n",
      "Pistol_detection/Tensorflow/work/imagenes/dataset_pistolas/pistol/train/armas (48).xml\n",
      "Pistol_detection/Tensorflow/work/imagenes/dataset_pistolas/pistol/train/armas (48).jpg\n",
      "Pistol_detection/Tensorflow/work/imagenes/dataset_pistolas/pistol/train/armas (25).xml\n",
      "Pistol_detection/Tensorflow/work/imagenes/dataset_pistolas/pistol/train/armas (25).jpg\n",
      "Pistol_detection/Tensorflow/work/imagenes/dataset_pistolas/pistol/train/armas (72).xml\n",
      "Pistol_detection/Tensorflow/work/imagenes/dataset_pistolas/pistol/train/armas (72).jpg\n",
      "Pistol_detection/Tensorflow/work/imagenes/dataset_pistolas/pistol/train/armas (64).xml\n",
      "Pistol_detection/Tensorflow/work/imagenes/dataset_pistolas/pistol/train/armas (64).jpg\n",
      "Pistol_detection/Tensorflow/work/imagenes/dataset_pistolas/pistol/train/armas (33).xml\n",
      "Pistol_detection/Tensorflow/work/imagenes/dataset_pistolas/pistol/train/armas (5).jpg\n",
      "Pistol_detection/Tensorflow/work/imagenes/dataset_pistolas/pistol/train/armas (5).xml\n",
      "Pistol_detection/Tensorflow/work/imagenes/dataset_pistolas/pistol/train/armas (33).jpg\n",
      "Pistol_detection/Tensorflow/work/imagenes/dataset_pistolas/pistol/train/armas (44).jpg\n",
      "Pistol_detection/Tensorflow/work/imagenes/dataset_pistolas/pistol/train/armas (44).xml\n",
      "Pistol_detection/Tensorflow/work/imagenes/dataset_pistolas/pistol/train/armas (13).jpg\n",
      "Pistol_detection/Tensorflow/work/imagenes/dataset_pistolas/pistol/train/armas (13).xml\n",
      "Pistol_detection/Tensorflow/work/imagenes/dataset_pistolas/pistol/train/armas (52).jpg\n",
      "Pistol_detection/Tensorflow/work/imagenes/dataset_pistolas/pistol/train/armas (52).xml\n",
      "Pistol_detection/Tensorflow/work/imagenes/dataset_pistolas/pistol/train/armas (29).jpg\n",
      "Pistol_detection/Tensorflow/work/imagenes/dataset_pistolas/pistol/train/armas (29).xml\n",
      "Pistol_detection/Tensorflow/work/imagenes/dataset_pistolas/pistol/train/armas (87).jpg\n",
      "Pistol_detection/Tensorflow/work/imagenes/dataset_pistolas/pistol/train/armas (68).jpg\n",
      "Pistol_detection/Tensorflow/work/imagenes/dataset_pistolas/pistol/train/armas (68).xml\n",
      "Pistol_detection/Tensorflow/work/imagenes/dataset_pistolas/pistol/train/armas (87).xml\n",
      "Pistol_detection/Tensorflow/work/imagenes/dataset_pistolas/pistol/train/armas (9).xml\n",
      "Pistol_detection/Tensorflow/work/imagenes/dataset_pistolas/pistol/train/armas (9).jpg\n",
      "Pistol_detection/Tensorflow/work/imagenes/dataset_pistolas/pistol/train/armas (47).jpg\n",
      "Pistol_detection/Tensorflow/work/imagenes/dataset_pistolas/pistol/train/armas (47).xml\n",
      "Pistol_detection/Tensorflow/work/imagenes/dataset_pistolas/pistol/train/armas (10).jpg\n",
      "Pistol_detection/Tensorflow/work/imagenes/dataset_pistolas/pistol/train/armas (10).xml\n",
      "Pistol_detection/Tensorflow/work/imagenes/dataset_pistolas/pistol/train/armas (51).jpg\n",
      "Pistol_detection/Tensorflow/work/imagenes/dataset_pistolas/pistol/train/armas (51).xml\n",
      "Pistol_detection/Tensorflow/work/imagenes/dataset_pistolas/pistol/train/armas (84).jpg\n",
      "Pistol_detection/Tensorflow/work/imagenes/dataset_pistolas/pistol/train/armas (84).xml\n",
      "Pistol_detection/Tensorflow/work/imagenes/dataset_pistolas/pistol/train/armas (26).xml\n",
      "Pistol_detection/Tensorflow/work/imagenes/dataset_pistolas/pistol/train/armas (26).jpg\n",
      "Pistol_detection/Tensorflow/work/imagenes/dataset_pistolas/pistol/train/armas (71).xml\n",
      "Pistol_detection/Tensorflow/work/imagenes/dataset_pistolas/pistol/train/armas (71).jpg\n",
      "Pistol_detection/Tensorflow/work/imagenes/dataset_pistolas/pistol/train/armas (88).xml\n",
      "Pistol_detection/Tensorflow/work/imagenes/dataset_pistolas/pistol/train/armas (67).xml\n",
      "Pistol_detection/Tensorflow/work/imagenes/dataset_pistolas/pistol/train/armas (67).jpg\n",
      "Pistol_detection/Tensorflow/work/imagenes/dataset_pistolas/pistol/train/armas (88).jpg\n",
      "Pistol_detection/Tensorflow/work/imagenes/dataset_pistolas/pistol/train/armas (30).xml\n",
      "Pistol_detection/Tensorflow/work/imagenes/dataset_pistolas/pistol/train/armas (6).jpg\n",
      "Pistol_detection/Tensorflow/work/imagenes/dataset_pistolas/pistol/train/armas (6).xml\n",
      "Pistol_detection/Tensorflow/work/imagenes/dataset_pistolas/pistol/train/armas (30).jpg\n",
      "Pistol_detection/Tensorflow/work/imagenes/dataset_pistolas/pistol/train/armas (7).xml\n",
      "Pistol_detection/Tensorflow/work/imagenes/dataset_pistolas/pistol/train/armas (31).jpg\n",
      "Pistol_detection/Tensorflow/work/imagenes/dataset_pistolas/pistol/train/armas (31).xml\n",
      "Pistol_detection/Tensorflow/work/imagenes/dataset_pistolas/pistol/train/armas (7).jpg\n",
      "Pistol_detection/Tensorflow/work/imagenes/dataset_pistolas/pistol/train/armas (66).jpg\n",
      "Pistol_detection/Tensorflow/work/imagenes/dataset_pistolas/pistol/train/armas (89).jpg\n",
      "Pistol_detection/Tensorflow/work/imagenes/dataset_pistolas/pistol/train/armas (89).xml\n",
      "Pistol_detection/Tensorflow/work/imagenes/dataset_pistolas/pistol/train/armas (66).xml\n",
      "Pistol_detection/Tensorflow/work/imagenes/dataset_pistolas/pistol/train/armas (70).jpg\n",
      "Pistol_detection/Tensorflow/work/imagenes/dataset_pistolas/pistol/train/armas (70).xml\n",
      "Pistol_detection/Tensorflow/work/imagenes/dataset_pistolas/pistol/train/armas (27).jpg\n",
      "Pistol_detection/Tensorflow/work/imagenes/dataset_pistolas/pistol/train/armas (27).xml\n",
      "Pistol_detection/Tensorflow/work/imagenes/dataset_pistolas/pistol/train/armas (85).xml\n",
      "Pistol_detection/Tensorflow/work/imagenes/dataset_pistolas/pistol/train/armas (85).jpg\n",
      "Pistol_detection/Tensorflow/work/imagenes/dataset_pistolas/pistol/train/armas (50).xml\n",
      "Pistol_detection/Tensorflow/work/imagenes/dataset_pistolas/pistol/train/armas (50).jpg\n",
      "Pistol_detection/Tensorflow/work/imagenes/dataset_pistolas/pistol/train/armas (11).xml\n",
      "Pistol_detection/Tensorflow/work/imagenes/dataset_pistolas/pistol/train/armas (11).jpg\n",
      "Pistol_detection/Tensorflow/work/imagenes/dataset_pistolas/pistol/train/armas (46).xml\n",
      "Pistol_detection/Tensorflow/work/imagenes/dataset_pistolas/pistol/train/armas (46).jpg\n",
      "Pistol_detection/Tensorflow/work/imagenes/dataset_pistolas/pistol/train/armas (20).xml\n",
      "Pistol_detection/Tensorflow/work/imagenes/dataset_pistolas/pistol/train/armas (20).jpg\n",
      "Pistol_detection/Tensorflow/work/imagenes/dataset_pistolas/pistol/train/armas (77).xml\n",
      "Pistol_detection/Tensorflow/work/imagenes/dataset_pistolas/pistol/train/armas (77).jpg\n",
      "Pistol_detection/Tensorflow/work/imagenes/dataset_pistolas/pistol/train/armas (61).xml\n",
      "Pistol_detection/Tensorflow/work/imagenes/dataset_pistolas/pistol/train/armas (61).jpg\n",
      "Pistol_detection/Tensorflow/work/imagenes/dataset_pistolas/pistol/train/armas (36).xml\n",
      "Pistol_detection/Tensorflow/work/imagenes/dataset_pistolas/pistol/train/armas (36).jpg\n",
      "Pistol_detection/Tensorflow/work/imagenes/dataset_pistolas/pistol/train/armas (41).jpg\n",
      "Pistol_detection/Tensorflow/work/imagenes/dataset_pistolas/pistol/train/armas (41).xml\n",
      "Pistol_detection/Tensorflow/work/imagenes/dataset_pistolas/pistol/train/armas (16).jpg\n",
      "Pistol_detection/Tensorflow/work/imagenes/dataset_pistolas/pistol/train/armas (16).xml\n",
      "Pistol_detection/Tensorflow/work/imagenes/dataset_pistolas/pistol/train/armas (57).jpg\n",
      "Pistol_detection/Tensorflow/work/imagenes/dataset_pistolas/pistol/train/armas (57).xml\n",
      "Pistol_detection/Tensorflow/work/imagenes/dataset_pistolas/pistol/train/armas (82).jpg\n",
      "Pistol_detection/Tensorflow/work/imagenes/dataset_pistolas/pistol/train/armas (82).xml\n",
      "Pistol_detection/Tensorflow/work/imagenes/dataset_pistolas/pistol/train/armas (83).xml\n",
      "Pistol_detection/Tensorflow/work/imagenes/dataset_pistolas/pistol/train/armas (83).jpg\n",
      "Pistol_detection/Tensorflow/work/imagenes/dataset_pistolas/pistol/train/armas (56).xml\n",
      "Pistol_detection/Tensorflow/work/imagenes/dataset_pistolas/pistol/train/armas (56).jpg\n",
      "Pistol_detection/Tensorflow/work/imagenes/dataset_pistolas/pistol/train/armas (17).xml\n",
      "Pistol_detection/Tensorflow/work/imagenes/dataset_pistolas/pistol/train/armas (17).jpg\n",
      "Pistol_detection/Tensorflow/work/imagenes/dataset_pistolas/pistol/train/armas (40).xml\n",
      "Pistol_detection/Tensorflow/work/imagenes/dataset_pistolas/pistol/train/armas (40).jpg\n",
      "Pistol_detection/Tensorflow/work/imagenes/dataset_pistolas/pistol/train/armas (1).xml\n",
      "Pistol_detection/Tensorflow/work/imagenes/dataset_pistolas/pistol/train/armas (37).jpg\n",
      "Pistol_detection/Tensorflow/work/imagenes/dataset_pistolas/pistol/train/armas (37).xml\n",
      "Pistol_detection/Tensorflow/work/imagenes/dataset_pistolas/pistol/train/armas (1).jpg\n",
      "Pistol_detection/Tensorflow/work/imagenes/dataset_pistolas/pistol/train/armas (60).jpg\n",
      "Pistol_detection/Tensorflow/work/imagenes/dataset_pistolas/pistol/train/armas (60).xml\n",
      "Pistol_detection/Tensorflow/work/imagenes/dataset_pistolas/pistol/train/armas (76).jpg\n",
      "Pistol_detection/Tensorflow/work/imagenes/dataset_pistolas/pistol/train/armas (76).xml\n",
      "Pistol_detection/Tensorflow/work/imagenes/dataset_pistolas/pistol/train/armas (21).jpg\n",
      "Pistol_detection/Tensorflow/work/imagenes/dataset_pistolas/pistol/train/armas (21).xml\n",
      "Pistol_detection/Tensorflow/work/imagenes/dataset_pistolas/pistol/test/\n",
      "Pistol_detection/Tensorflow/work/imagenes/dataset_pistolas/pistol/test/armas (96).xml\n",
      "Pistol_detection/Tensorflow/work/imagenes/dataset_pistolas/pistol/test/armas (96).jpg\n",
      "Pistol_detection/Tensorflow/work/imagenes/dataset_pistolas/pistol/test/armas (97).jpg\n",
      "Pistol_detection/Tensorflow/work/imagenes/dataset_pistolas/pistol/test/armas (97).xml\n",
      "Pistol_detection/Tensorflow/work/imagenes/dataset_pistolas/pistol/test/armas (91).jpg\n",
      "Pistol_detection/Tensorflow/work/imagenes/dataset_pistolas/pistol/test/armas (91).xml\n",
      "Pistol_detection/Tensorflow/work/imagenes/dataset_pistolas/pistol/test/armas (92).jpg\n",
      "Pistol_detection/Tensorflow/work/imagenes/dataset_pistolas/pistol/test/armas (92).xml\n",
      "Pistol_detection/Tensorflow/work/imagenes/dataset_pistolas/pistol/test/armas (93).xml\n",
      "Pistol_detection/Tensorflow/work/imagenes/dataset_pistolas/pistol/test/armas (93).jpg\n",
      "Pistol_detection/Tensorflow/work/imagenes/dataset_pistolas/pistol/test/armas (98).xml\n",
      "Pistol_detection/Tensorflow/work/imagenes/dataset_pistolas/pistol/test/armas (98).jpg\n",
      "Pistol_detection/Tensorflow/work/imagenes/dataset_pistolas/pistol/test/armas (94).jpg\n",
      "Pistol_detection/Tensorflow/work/imagenes/dataset_pistolas/pistol/test/armas (94).xml\n",
      "Pistol_detection/Tensorflow/work/imagenes/dataset_pistolas/pistol/test/armas (95).xml\n",
      "Pistol_detection/Tensorflow/work/imagenes/dataset_pistolas/pistol/test/armas (95).jpg\n",
      "Pistol_detection/Tensorflow/work/imagenes/dataset_pistolas/pistol/test/armas (100).xml\n",
      "Pistol_detection/Tensorflow/work/imagenes/dataset_pistolas/pistol/test/armas (100).jpg\n",
      "Pistol_detection/Tensorflow/work/imagenes/dataset_pistolas/pistol/test/armas (99).jpg\n",
      "Pistol_detection/Tensorflow/work/imagenes/dataset_pistolas/pistol/test/armas (99).xml\n"
     ]
    }
   ],
   "source": [
    "# OPTIONAL IF RUNNING ON COLAB\n",
    "# For macOS i had to download gnu-tar, the way you use it using gtar instead of tar\n",
    "ARCHIVE_FILES = os.path.join(paths['IMAGE_PATH'], 'archive.tar2.gz')\n",
    "if os.path.exists(ARCHIVE_FILES):\n",
    "  !tar -zxvf {ARCHIVE_FILES}"
   ]
  },
  {
   "cell_type": "code",
   "execution_count": 24,
   "metadata": {
    "colab": {
     "base_uri": "https://localhost:8080/"
    },
    "id": "KWpb_BVUpfDD",
    "outputId": "f4ea08fb-8ec1-4051-a54b-1584f3cc245e",
    "pycharm": {
     "name": "#%%\n"
    }
   },
   "outputs": [
    {
     "name": "stdout",
     "output_type": "stream",
     "text": [
      "Cloning into 'Tensorflow/scripts'...\n",
      "remote: Enumerating objects: 3, done.\u001B[K\n",
      "remote: Counting objects: 100% (3/3), done.\u001B[K\n",
      "remote: Compressing objects: 100% (2/2), done.\u001B[K\n",
      "remote: Total 3 (delta 0), reused 1 (delta 0), pack-reused 0\u001B[K\n",
      "Unpacking objects: 100% (3/3), done.\n"
     ]
    }
   ],
   "source": [
    "if not os.path.exists(files['TF_RECORD_SCRIPT']): #convierte las anotaciones que tenemos a un formato que puede ser utilizado\n",
    "    !git clone https://github.com/nicknochnack/GenerateTFRecord {paths['SCRIPTS_PATH']}"
   ]
  },
  {
   "cell_type": "code",
   "execution_count": 25,
   "metadata": {
    "colab": {
     "base_uri": "https://localhost:8080/"
    },
    "id": "UPFToGZqpfDD",
    "outputId": "a099caae-a779-4965-cd1c-7da402d07fb7",
    "pycharm": {
     "name": "#%%\n"
    }
   },
   "outputs": [
    {
     "name": "stdout",
     "output_type": "stream",
     "text": [
      "Successfully created the TFRecord file: Tensorflow/work/annotations/train.record\n",
      "Successfully created the TFRecord file: Tensorflow/work/annotations/test.record\n"
     ]
    }
   ],
   "source": [
    "!python {files['TF_RECORD_SCRIPT']} -x {os.path.join(paths['IMAGE_PATH'], 'train')} -l {files['LABELMAP']} -o {os.path.join(paths['ANNOTATION_PATH'], 'train.record')} \n",
    "!python {files['TF_RECORD_SCRIPT']} -x {os.path.join(paths['IMAGE_PATH'], 'test')} -l {files['LABELMAP']} -o {os.path.join(paths['ANNOTATION_PATH'], 'test.record')} \n",
    "# creamos nuestros records de imagenes para test y para train"
   ]
  },
  {
   "cell_type": "markdown",
   "metadata": {
    "id": "qT4QU7pLpfDE",
    "pycharm": {
     "name": "#%% md\n"
    }
   },
   "source": [
    "# 4. Copy Model Config to Training Folder"
   ]
  },
  {
   "cell_type": "code",
   "execution_count": 23,
   "metadata": {
    "id": "cOjuTFbwpfDF",
    "pycharm": {
     "name": "#%%\n"
    }
   },
   "outputs": [],
   "source": [
    "if os.name =='posix':\n",
    "    !cp {os.path.join(paths['PRETRAINED_MODEL_PATH'], PRETRAINED_MODEL_NAME, 'pipeline.config')} {os.path.join(paths['CHECKPOINT_PATH'])}\n",
    "if os.name == 'nt':\n",
    "    !copy {os.path.join(paths['PRETRAINED_MODEL_PATH'], PRETRAINED_MODEL_NAME, 'pipeline.config')} {os.path.join(paths['CHECKPOINT_PATH'])}"
   ]
  },
  {
   "cell_type": "markdown",
   "metadata": {
    "id": "Ga8gpNslpfDF",
    "pycharm": {
     "name": "#%% md\n"
    }
   },
   "source": [
    "# 5. Update Config For Transfer Learning"
   ]
  },
  {
   "cell_type": "code",
   "execution_count": 24,
   "metadata": {
    "id": "Z9hRrO_ppfDF",
    "pycharm": {
     "name": "#%%\n"
    }
   },
   "outputs": [],
   "source": [
    "import tensorflow as tf\n",
    "from object_detection.utils import config_util\n",
    "from object_detection.protos import pipeline_pb2\n",
    "from google.protobuf import text_format"
   ]
  },
  {
   "cell_type": "code",
   "execution_count": 25,
   "metadata": {
    "id": "c2A0mn4ipfDF",
    "pycharm": {
     "name": "#%%\n"
    }
   },
   "outputs": [],
   "source": [
    "config = config_util.get_configs_from_pipeline_file(files['PIPELINE_CONFIG'])"
   ]
  },
  {
   "cell_type": "code",
   "execution_count": 26,
   "metadata": {
    "colab": {
     "base_uri": "https://localhost:8080/"
    },
    "id": "uQA13-afpfDF",
    "outputId": "59963bf2-55e1-4a10-8ab5-4eeebf973741",
    "pycharm": {
     "name": "#%%\n"
    }
   },
   "outputs": [
    {
     "data": {
      "text/plain": [
       "{'model': ssd {\n",
       "   num_classes: 90\n",
       "   image_resizer {\n",
       "     fixed_shape_resizer {\n",
       "       height: 320\n",
       "       width: 320\n",
       "     }\n",
       "   }\n",
       "   feature_extractor {\n",
       "     type: \"ssd_mobilenet_v2_fpn_keras\"\n",
       "     depth_multiplier: 1.0\n",
       "     min_depth: 16\n",
       "     conv_hyperparams {\n",
       "       regularizer {\n",
       "         l2_regularizer {\n",
       "           weight: 3.9999998989515007e-05\n",
       "         }\n",
       "       }\n",
       "       initializer {\n",
       "         random_normal_initializer {\n",
       "           mean: 0.0\n",
       "           stddev: 0.009999999776482582\n",
       "         }\n",
       "       }\n",
       "       activation: RELU_6\n",
       "       batch_norm {\n",
       "         decay: 0.996999979019165\n",
       "         scale: true\n",
       "         epsilon: 0.0010000000474974513\n",
       "       }\n",
       "     }\n",
       "     use_depthwise: true\n",
       "     override_base_feature_extractor_hyperparams: true\n",
       "     fpn {\n",
       "       min_level: 3\n",
       "       max_level: 7\n",
       "       additional_layer_depth: 128\n",
       "     }\n",
       "   }\n",
       "   box_coder {\n",
       "     faster_rcnn_box_coder {\n",
       "       y_scale: 10.0\n",
       "       x_scale: 10.0\n",
       "       height_scale: 5.0\n",
       "       width_scale: 5.0\n",
       "     }\n",
       "   }\n",
       "   matcher {\n",
       "     argmax_matcher {\n",
       "       matched_threshold: 0.5\n",
       "       unmatched_threshold: 0.5\n",
       "       ignore_thresholds: false\n",
       "       negatives_lower_than_unmatched: true\n",
       "       force_match_for_each_row: true\n",
       "       use_matmul_gather: true\n",
       "     }\n",
       "   }\n",
       "   similarity_calculator {\n",
       "     iou_similarity {\n",
       "     }\n",
       "   }\n",
       "   box_predictor {\n",
       "     weight_shared_convolutional_box_predictor {\n",
       "       conv_hyperparams {\n",
       "         regularizer {\n",
       "           l2_regularizer {\n",
       "             weight: 3.9999998989515007e-05\n",
       "           }\n",
       "         }\n",
       "         initializer {\n",
       "           random_normal_initializer {\n",
       "             mean: 0.0\n",
       "             stddev: 0.009999999776482582\n",
       "           }\n",
       "         }\n",
       "         activation: RELU_6\n",
       "         batch_norm {\n",
       "           decay: 0.996999979019165\n",
       "           scale: true\n",
       "           epsilon: 0.0010000000474974513\n",
       "         }\n",
       "       }\n",
       "       depth: 128\n",
       "       num_layers_before_predictor: 4\n",
       "       kernel_size: 3\n",
       "       class_prediction_bias_init: -4.599999904632568\n",
       "       share_prediction_tower: true\n",
       "       use_depthwise: true\n",
       "     }\n",
       "   }\n",
       "   anchor_generator {\n",
       "     multiscale_anchor_generator {\n",
       "       min_level: 3\n",
       "       max_level: 7\n",
       "       anchor_scale: 4.0\n",
       "       aspect_ratios: 1.0\n",
       "       aspect_ratios: 2.0\n",
       "       aspect_ratios: 0.5\n",
       "       scales_per_octave: 2\n",
       "     }\n",
       "   }\n",
       "   post_processing {\n",
       "     batch_non_max_suppression {\n",
       "       score_threshold: 9.99999993922529e-09\n",
       "       iou_threshold: 0.6000000238418579\n",
       "       max_detections_per_class: 100\n",
       "       max_total_detections: 100\n",
       "       use_static_shapes: false\n",
       "     }\n",
       "     score_converter: SIGMOID\n",
       "   }\n",
       "   normalize_loss_by_num_matches: true\n",
       "   loss {\n",
       "     localization_loss {\n",
       "       weighted_smooth_l1 {\n",
       "       }\n",
       "     }\n",
       "     classification_loss {\n",
       "       weighted_sigmoid_focal {\n",
       "         gamma: 2.0\n",
       "         alpha: 0.25\n",
       "       }\n",
       "     }\n",
       "     classification_weight: 1.0\n",
       "     localization_weight: 1.0\n",
       "   }\n",
       "   encode_background_as_zeros: true\n",
       "   normalize_loc_loss_by_codesize: true\n",
       "   inplace_batchnorm_update: true\n",
       "   freeze_batchnorm: false\n",
       " },\n",
       " 'train_config': batch_size: 128\n",
       " data_augmentation_options {\n",
       "   random_horizontal_flip {\n",
       "   }\n",
       " }\n",
       " data_augmentation_options {\n",
       "   random_crop_image {\n",
       "     min_object_covered: 0.0\n",
       "     min_aspect_ratio: 0.75\n",
       "     max_aspect_ratio: 3.0\n",
       "     min_area: 0.75\n",
       "     max_area: 1.0\n",
       "     overlap_thresh: 0.0\n",
       "   }\n",
       " }\n",
       " sync_replicas: true\n",
       " optimizer {\n",
       "   momentum_optimizer {\n",
       "     learning_rate {\n",
       "       cosine_decay_learning_rate {\n",
       "         learning_rate_base: 0.07999999821186066\n",
       "         total_steps: 50000\n",
       "         warmup_learning_rate: 0.026666000485420227\n",
       "         warmup_steps: 1000\n",
       "       }\n",
       "     }\n",
       "     momentum_optimizer_value: 0.8999999761581421\n",
       "   }\n",
       "   use_moving_average: false\n",
       " }\n",
       " fine_tune_checkpoint: \"PATH_TO_BE_CONFIGURED\"\n",
       " num_steps: 50000\n",
       " startup_delay_steps: 0.0\n",
       " replicas_to_aggregate: 8\n",
       " max_number_of_boxes: 100\n",
       " unpad_groundtruth_tensors: false\n",
       " fine_tune_checkpoint_type: \"classification\"\n",
       " fine_tune_checkpoint_version: V2,\n",
       " 'train_input_config': label_map_path: \"PATH_TO_BE_CONFIGURED\"\n",
       " tf_record_input_reader {\n",
       "   input_path: \"PATH_TO_BE_CONFIGURED\"\n",
       " },\n",
       " 'eval_config': metrics_set: \"coco_detection_metrics\"\n",
       " use_moving_averages: false,\n",
       " 'eval_input_configs': [label_map_path: \"PATH_TO_BE_CONFIGURED\"\n",
       " shuffle: false\n",
       " num_epochs: 1\n",
       " tf_record_input_reader {\n",
       "   input_path: \"PATH_TO_BE_CONFIGURED\"\n",
       " }\n",
       " ],\n",
       " 'eval_input_config': label_map_path: \"PATH_TO_BE_CONFIGURED\"\n",
       " shuffle: false\n",
       " num_epochs: 1\n",
       " tf_record_input_reader {\n",
       "   input_path: \"PATH_TO_BE_CONFIGURED\"\n",
       " }}"
      ]
     },
     "execution_count": 26,
     "metadata": {},
     "output_type": "execute_result"
    }
   ],
   "source": [
    "config"
   ]
  },
  {
   "cell_type": "code",
   "execution_count": 27,
   "metadata": {
    "id": "9vK5lotDpfDF",
    "pycharm": {
     "name": "#%%\n"
    }
   },
   "outputs": [],
   "source": [
    "pipeline_config = pipeline_pb2.TrainEvalPipelineConfig()\n",
    "with tf.io.gfile.GFile(files['PIPELINE_CONFIG'], \"r\") as f:                                                                                                                                                                                                                     \n",
    "    proto_str = f.read()                                                                                                                                                                                                                                          \n",
    "    text_format.Merge(proto_str, pipeline_config)  "
   ]
  },
  {
   "cell_type": "code",
   "execution_count": 31,
   "metadata": {
    "id": "rP43Ph0JpfDG",
    "pycharm": {
     "name": "#%%\n"
    }
   },
   "outputs": [],
   "source": [
    "pipeline_config.model.ssd.num_classes = len(labels)\n",
    "pipeline_config.train_config.batch_size = 4\n",
    "pipeline_config.train_config.fine_tune_checkpoint = os.path.join(paths['PRETRAINED_MODEL_PATH'], PRETRAINED_MODEL_NAME, 'checkpoint', 'ckpt-0')\n",
    "pipeline_config.train_config.fine_tune_checkpoint_type = \"detection\"\n",
    "pipeline_config.train_input_reader.label_map_path= files['LABELMAP']\n",
    "pipeline_config.train_input_reader.tf_record_input_reader.input_path[:] = [os.path.join(paths['ANNOTATION_PATH'], 'train.record')]\n",
    "pipeline_config.eval_input_reader[0].label_map_path = files['LABELMAP']\n",
    "pipeline_config.eval_input_reader[0].tf_record_input_reader.input_path[:] = [os.path.join(paths['ANNOTATION_PATH'], 'test.record')]"
   ]
  },
  {
   "cell_type": "code",
   "execution_count": 32,
   "metadata": {
    "id": "oJvfgwWqpfDG",
    "pycharm": {
     "name": "#%%\n"
    }
   },
   "outputs": [],
   "source": [
    "config_text = text_format.MessageToString(pipeline_config)                                                                                                                                                                                                        \n",
    "with tf.io.gfile.GFile(files['PIPELINE_CONFIG'], \"wb\") as f:                                                                                                                                                                                                                     \n",
    "    f.write(config_text)   "
   ]
  },
  {
   "cell_type": "code",
   "execution_count": 33,
   "metadata": {
    "colab": {
     "base_uri": "https://localhost:8080/"
    },
    "id": "D-9o8lXlSp-k",
    "outputId": "9435f4eb-c6ce-4931-e19a-4508de19a863",
    "pycharm": {
     "name": "#%%\n"
    }
   },
   "outputs": [
    {
     "data": {
      "text/plain": [
       "model {\n",
       "  ssd {\n",
       "    num_classes: 1\n",
       "    image_resizer {\n",
       "      fixed_shape_resizer {\n",
       "        height: 320\n",
       "        width: 320\n",
       "      }\n",
       "    }\n",
       "    feature_extractor {\n",
       "      type: \"ssd_mobilenet_v2_fpn_keras\"\n",
       "      depth_multiplier: 1.0\n",
       "      min_depth: 16\n",
       "      conv_hyperparams {\n",
       "        regularizer {\n",
       "          l2_regularizer {\n",
       "            weight: 3.9999998989515007e-05\n",
       "          }\n",
       "        }\n",
       "        initializer {\n",
       "          random_normal_initializer {\n",
       "            mean: 0.0\n",
       "            stddev: 0.009999999776482582\n",
       "          }\n",
       "        }\n",
       "        activation: RELU_6\n",
       "        batch_norm {\n",
       "          decay: 0.996999979019165\n",
       "          scale: true\n",
       "          epsilon: 0.0010000000474974513\n",
       "        }\n",
       "      }\n",
       "      use_depthwise: true\n",
       "      override_base_feature_extractor_hyperparams: true\n",
       "      fpn {\n",
       "        min_level: 3\n",
       "        max_level: 7\n",
       "        additional_layer_depth: 128\n",
       "      }\n",
       "    }\n",
       "    box_coder {\n",
       "      faster_rcnn_box_coder {\n",
       "        y_scale: 10.0\n",
       "        x_scale: 10.0\n",
       "        height_scale: 5.0\n",
       "        width_scale: 5.0\n",
       "      }\n",
       "    }\n",
       "    matcher {\n",
       "      argmax_matcher {\n",
       "        matched_threshold: 0.5\n",
       "        unmatched_threshold: 0.5\n",
       "        ignore_thresholds: false\n",
       "        negatives_lower_than_unmatched: true\n",
       "        force_match_for_each_row: true\n",
       "        use_matmul_gather: true\n",
       "      }\n",
       "    }\n",
       "    similarity_calculator {\n",
       "      iou_similarity {\n",
       "      }\n",
       "    }\n",
       "    box_predictor {\n",
       "      weight_shared_convolutional_box_predictor {\n",
       "        conv_hyperparams {\n",
       "          regularizer {\n",
       "            l2_regularizer {\n",
       "              weight: 3.9999998989515007e-05\n",
       "            }\n",
       "          }\n",
       "          initializer {\n",
       "            random_normal_initializer {\n",
       "              mean: 0.0\n",
       "              stddev: 0.009999999776482582\n",
       "            }\n",
       "          }\n",
       "          activation: RELU_6\n",
       "          batch_norm {\n",
       "            decay: 0.996999979019165\n",
       "            scale: true\n",
       "            epsilon: 0.0010000000474974513\n",
       "          }\n",
       "        }\n",
       "        depth: 128\n",
       "        num_layers_before_predictor: 4\n",
       "        kernel_size: 3\n",
       "        class_prediction_bias_init: -4.599999904632568\n",
       "        share_prediction_tower: true\n",
       "        use_depthwise: true\n",
       "      }\n",
       "    }\n",
       "    anchor_generator {\n",
       "      multiscale_anchor_generator {\n",
       "        min_level: 3\n",
       "        max_level: 7\n",
       "        anchor_scale: 4.0\n",
       "        aspect_ratios: 1.0\n",
       "        aspect_ratios: 2.0\n",
       "        aspect_ratios: 0.5\n",
       "        scales_per_octave: 2\n",
       "      }\n",
       "    }\n",
       "    post_processing {\n",
       "      batch_non_max_suppression {\n",
       "        score_threshold: 9.99999993922529e-09\n",
       "        iou_threshold: 0.6000000238418579\n",
       "        max_detections_per_class: 100\n",
       "        max_total_detections: 100\n",
       "        use_static_shapes: false\n",
       "      }\n",
       "      score_converter: SIGMOID\n",
       "    }\n",
       "    normalize_loss_by_num_matches: true\n",
       "    loss {\n",
       "      localization_loss {\n",
       "        weighted_smooth_l1 {\n",
       "        }\n",
       "      }\n",
       "      classification_loss {\n",
       "        weighted_sigmoid_focal {\n",
       "          gamma: 2.0\n",
       "          alpha: 0.25\n",
       "        }\n",
       "      }\n",
       "      classification_weight: 1.0\n",
       "      localization_weight: 1.0\n",
       "    }\n",
       "    encode_background_as_zeros: true\n",
       "    normalize_loc_loss_by_codesize: true\n",
       "    inplace_batchnorm_update: true\n",
       "    freeze_batchnorm: false\n",
       "  }\n",
       "}\n",
       "train_config {\n",
       "  batch_size: 4\n",
       "  data_augmentation_options {\n",
       "    random_horizontal_flip {\n",
       "    }\n",
       "  }\n",
       "  data_augmentation_options {\n",
       "    random_crop_image {\n",
       "      min_object_covered: 0.0\n",
       "      min_aspect_ratio: 0.75\n",
       "      max_aspect_ratio: 3.0\n",
       "      min_area: 0.75\n",
       "      max_area: 1.0\n",
       "      overlap_thresh: 0.0\n",
       "    }\n",
       "  }\n",
       "  sync_replicas: true\n",
       "  optimizer {\n",
       "    momentum_optimizer {\n",
       "      learning_rate {\n",
       "        cosine_decay_learning_rate {\n",
       "          learning_rate_base: 0.07999999821186066\n",
       "          total_steps: 50000\n",
       "          warmup_learning_rate: 0.026666000485420227\n",
       "          warmup_steps: 1000\n",
       "        }\n",
       "      }\n",
       "      momentum_optimizer_value: 0.8999999761581421\n",
       "    }\n",
       "    use_moving_average: false\n",
       "  }\n",
       "  fine_tune_checkpoint: \"Tensorflow/work/pre-trained-models/ssd_mobilenet_v2_fpnlite_320x320_coco17_tpu-8/checkpoint/ckpt-0\"\n",
       "  num_steps: 50000\n",
       "  startup_delay_steps: 0.0\n",
       "  replicas_to_aggregate: 8\n",
       "  max_number_of_boxes: 100\n",
       "  unpad_groundtruth_tensors: false\n",
       "  fine_tune_checkpoint_type: \"detection\"\n",
       "  fine_tune_checkpoint_version: V2\n",
       "}\n",
       "train_input_reader {\n",
       "  label_map_path: \"Tensorflow/work/annotations/label_map.pbtxt\"\n",
       "  tf_record_input_reader {\n",
       "    input_path: \"Tensorflow/work/annotations/train.record\"\n",
       "  }\n",
       "}\n",
       "eval_config {\n",
       "  metrics_set: \"coco_detection_metrics\"\n",
       "  use_moving_averages: false\n",
       "}\n",
       "eval_input_reader {\n",
       "  label_map_path: \"Tensorflow/work/annotations/label_map.pbtxt\"\n",
       "  shuffle: false\n",
       "  num_epochs: 1\n",
       "  tf_record_input_reader {\n",
       "    input_path: \"Tensorflow/work/annotations/test.record\"\n",
       "  }\n",
       "}"
      ]
     },
     "execution_count": 33,
     "metadata": {},
     "output_type": "execute_result"
    }
   ],
   "source": [
    "pipeline_config"
   ]
  },
  {
   "cell_type": "markdown",
   "metadata": {
    "id": "Zr3ON7xMpfDG",
    "pycharm": {
     "name": "#%% md\n"
    }
   },
   "source": [
    "# 6. Train the model"
   ]
  },
  {
   "cell_type": "code",
   "execution_count": 34,
   "metadata": {
    "id": "B-Y2UQmQpfDG",
    "pycharm": {
     "name": "#%%\n"
    }
   },
   "outputs": [],
   "source": [
    "TRAINING_SCRIPT = os.path.join(paths['APIMODEL_PATH'], 'research', 'object_detection', 'model_main_tf2.py')"
   ]
  },
  {
   "cell_type": "code",
   "execution_count": 35,
   "metadata": {
    "id": "jMP2XDfQpfDH",
    "pycharm": {
     "name": "#%%\n"
    }
   },
   "outputs": [],
   "source": [
    "command = \"python {} --model_dir={} --pipeline_config_path={} --num_train_steps=2000\".format(TRAINING_SCRIPT, paths['CHECKPOINT_PATH'],files['PIPELINE_CONFIG'])"
   ]
  },
  {
   "cell_type": "code",
   "execution_count": 36,
   "metadata": {
    "colab": {
     "base_uri": "https://localhost:8080/"
    },
    "id": "A4OXXi-ApfDH",
    "outputId": "13b77200-112a-475b-d532-eda6caf9babc",
    "pycharm": {
     "name": "#%%\n"
    }
   },
   "outputs": [
    {
     "name": "stdout",
     "output_type": "stream",
     "text": [
      "python Tensorflow/api_models/research/object_detection/model_main_tf2.py --model_dir=Tensorflow/work/models/my_ssd_mobnet --pipeline_config_path=Tensorflow/work/models/my_ssd_mobnet/pipeline.config --num_train_steps=2000\n"
     ]
    }
   ],
   "source": [
    "print(command)"
   ]
  },
  {
   "cell_type": "code",
   "execution_count": 37,
   "metadata": {
    "colab": {
     "base_uri": "https://localhost:8080/"
    },
    "id": "Jc2XlI5cRuYK",
    "outputId": "73be1ab8-3833-419d-9f16-891329c26a50",
    "pycharm": {
     "name": "#%%\n"
    }
   },
   "outputs": [
    {
     "name": "stdout",
     "output_type": "stream",
     "text": [
      "Found existing installation: opencv-python-headless 4.5.5.64\n",
      "Uninstalling opencv-python-headless-4.5.5.64:\n",
      "  Successfully uninstalled opencv-python-headless-4.5.5.64\n",
      "Looking in indexes: https://pypi.org/simple, https://us-python.pkg.dev/colab-wheels/public/simple/\n",
      "Collecting opencv-python-headless==4.1.2.30\n",
      "  Downloading opencv_python_headless-4.1.2.30-cp37-cp37m-manylinux1_x86_64.whl (21.8 MB)\n",
      "\u001B[K     |████████████████████████████████| 21.8 MB 1.4 MB/s \n",
      "\u001B[?25hRequirement already satisfied: numpy>=1.14.5 in /usr/local/lib/python3.7/dist-packages (from opencv-python-headless==4.1.2.30) (1.21.6)\n",
      "Installing collected packages: opencv-python-headless\n",
      "Successfully installed opencv-python-headless-4.1.2.30\n"
     ]
    }
   ],
   "source": [
    "# This was done because there was an error when running the following cell\n",
    "#!pip uninstall opencv-python-headless==4.5.5.64 -y\n",
    "#!pip install opencv-python-headless==4.1.2.30 "
   ]
  },
  {
   "cell_type": "code",
   "execution_count": 37,
   "metadata": {
    "colab": {
     "base_uri": "https://localhost:8080/"
    },
    "id": "i3ZsJR-qpfDH",
    "outputId": "3300eb8d-d56f-46b1-c123-170a67d1d27a",
    "pycharm": {
     "name": "#%%\n"
    }
   },
   "outputs": [
    {
     "name": "stdout",
     "output_type": "stream",
     "text": [
      "2022-05-31 10:38:57.150381: I tensorflow/stream_executor/cuda/cuda_gpu_executor.cc:975] successful NUMA node read from SysFS had negative value (-1), but there must be at least one NUMA node, so returning NUMA node zero\n",
      "2022-05-31 10:38:57.155110: W tensorflow/stream_executor/platform/default/dso_loader.cc:64] Could not load dynamic library 'libcudnn.so.8'; dlerror: libcudnn.so.8: cannot open shared object file: No such file or directory; LD_LIBRARY_PATH: /home/posgrado/Documentos/Proyecto_Aaron/Pistol_detection/tfod/lib/python3.8/site-packages/cv2/../../lib64::/usr/local/cuda/extras/CUPTI/lib64\n",
      "2022-05-31 10:38:57.155127: W tensorflow/core/common_runtime/gpu/gpu_device.cc:1850] Cannot dlopen some GPU libraries. Please make sure the missing libraries mentioned above are installed properly if you would like to use GPU. Follow the guide at https://www.tensorflow.org/install/gpu for how to download and setup the required libraries for your platform.\n",
      "Skipping registering GPU devices...\n",
      "2022-05-31 10:38:57.155521: I tensorflow/core/platform/cpu_feature_guard.cc:193] This TensorFlow binary is optimized with oneAPI Deep Neural Network Library (oneDNN) to use the following CPU instructions in performance-critical operations:  AVX2 FMA\n",
      "To enable them in other operations, rebuild TensorFlow with the appropriate compiler flags.\n",
      "WARNING:tensorflow:There are non-GPU devices in `tf.distribute.Strategy`, not using nccl allreduce.\n",
      "W0531 10:38:57.156715 140378394015488 cross_device_ops.py:1386] There are non-GPU devices in `tf.distribute.Strategy`, not using nccl allreduce.\n",
      "INFO:tensorflow:Using MirroredStrategy with devices ('/job:localhost/replica:0/task:0/device:CPU:0',)\n",
      "I0531 10:38:57.159365 140378394015488 mirrored_strategy.py:374] Using MirroredStrategy with devices ('/job:localhost/replica:0/task:0/device:CPU:0',)\n",
      "INFO:tensorflow:Maybe overwriting train_steps: 2000\n",
      "I0531 10:38:57.162110 140378394015488 config_util.py:552] Maybe overwriting train_steps: 2000\n",
      "INFO:tensorflow:Maybe overwriting use_bfloat16: False\n",
      "I0531 10:38:57.162195 140378394015488 config_util.py:552] Maybe overwriting use_bfloat16: False\n",
      "WARNING:tensorflow:From /home/posgrado/Documentos/Proyecto_Aaron/Pistol_detection/tfod/lib/python3.8/site-packages/object_detection/model_lib_v2.py:563: StrategyBase.experimental_distribute_datasets_from_function (from tensorflow.python.distribute.distribute_lib) is deprecated and will be removed in a future version.\n",
      "Instructions for updating:\n",
      "rename to distribute_datasets_from_function\n",
      "W0531 10:38:57.181326 140378394015488 deprecation.py:350] From /home/posgrado/Documentos/Proyecto_Aaron/Pistol_detection/tfod/lib/python3.8/site-packages/object_detection/model_lib_v2.py:563: StrategyBase.experimental_distribute_datasets_from_function (from tensorflow.python.distribute.distribute_lib) is deprecated and will be removed in a future version.\n",
      "Instructions for updating:\n",
      "rename to distribute_datasets_from_function\n",
      "INFO:tensorflow:Reading unweighted datasets: ['Tensorflow/work/annotations/train.record']\n",
      "I0531 10:38:57.186768 140378394015488 dataset_builder.py:162] Reading unweighted datasets: ['Tensorflow/work/annotations/train.record']\n",
      "INFO:tensorflow:Reading record datasets for input file: ['Tensorflow/work/annotations/train.record']\n",
      "I0531 10:38:57.187513 140378394015488 dataset_builder.py:79] Reading record datasets for input file: ['Tensorflow/work/annotations/train.record']\n",
      "INFO:tensorflow:Number of filenames to read: 1\n",
      "I0531 10:38:57.187605 140378394015488 dataset_builder.py:80] Number of filenames to read: 1\n",
      "WARNING:tensorflow:num_readers has been reduced to 1 to match input file shards.\n",
      "W0531 10:38:57.187669 140378394015488 dataset_builder.py:86] num_readers has been reduced to 1 to match input file shards.\n",
      "WARNING:tensorflow:From /home/posgrado/Documentos/Proyecto_Aaron/Pistol_detection/tfod/lib/python3.8/site-packages/object_detection/builders/dataset_builder.py:100: parallel_interleave (from tensorflow.python.data.experimental.ops.interleave_ops) is deprecated and will be removed in a future version.\n",
      "Instructions for updating:\n",
      "Use `tf.data.Dataset.interleave(map_func, cycle_length, block_length, num_parallel_calls=tf.data.AUTOTUNE)` instead. If sloppy execution is desired, use `tf.data.Options.deterministic`.\n",
      "W0531 10:38:57.191394 140378394015488 deprecation.py:350] From /home/posgrado/Documentos/Proyecto_Aaron/Pistol_detection/tfod/lib/python3.8/site-packages/object_detection/builders/dataset_builder.py:100: parallel_interleave (from tensorflow.python.data.experimental.ops.interleave_ops) is deprecated and will be removed in a future version.\n",
      "Instructions for updating:\n",
      "Use `tf.data.Dataset.interleave(map_func, cycle_length, block_length, num_parallel_calls=tf.data.AUTOTUNE)` instead. If sloppy execution is desired, use `tf.data.Options.deterministic`.\n",
      "WARNING:tensorflow:From /home/posgrado/Documentos/Proyecto_Aaron/Pistol_detection/tfod/lib/python3.8/site-packages/object_detection/builders/dataset_builder.py:235: DatasetV1.map_with_legacy_function (from tensorflow.python.data.ops.dataset_ops) is deprecated and will be removed in a future version.\n",
      "Instructions for updating:\n",
      "Use `tf.data.Dataset.map()\n",
      "W0531 10:38:57.213868 140378394015488 deprecation.py:350] From /home/posgrado/Documentos/Proyecto_Aaron/Pistol_detection/tfod/lib/python3.8/site-packages/object_detection/builders/dataset_builder.py:235: DatasetV1.map_with_legacy_function (from tensorflow.python.data.ops.dataset_ops) is deprecated and will be removed in a future version.\n",
      "Instructions for updating:\n",
      "Use `tf.data.Dataset.map()\n",
      "WARNING:tensorflow:From /home/posgrado/Documentos/Proyecto_Aaron/Pistol_detection/tfod/lib/python3.8/site-packages/tensorflow/python/util/dispatch.py:1082: sparse_to_dense (from tensorflow.python.ops.sparse_ops) is deprecated and will be removed in a future version.\n",
      "Instructions for updating:\n",
      "Create a `tf.sparse.SparseTensor` and use `tf.sparse.to_dense` instead.\n",
      "W0531 10:39:02.126242 140378394015488 deprecation.py:350] From /home/posgrado/Documentos/Proyecto_Aaron/Pistol_detection/tfod/lib/python3.8/site-packages/tensorflow/python/util/dispatch.py:1082: sparse_to_dense (from tensorflow.python.ops.sparse_ops) is deprecated and will be removed in a future version.\n",
      "Instructions for updating:\n",
      "Create a `tf.sparse.SparseTensor` and use `tf.sparse.to_dense` instead.\n",
      "WARNING:tensorflow:From /home/posgrado/Documentos/Proyecto_Aaron/Pistol_detection/tfod/lib/python3.8/site-packages/tensorflow/python/util/dispatch.py:1082: sample_distorted_bounding_box (from tensorflow.python.ops.image_ops_impl) is deprecated and will be removed in a future version.\n",
      "Instructions for updating:\n",
      "`seed2` arg is deprecated.Use sample_distorted_bounding_box_v2 instead.\n",
      "W0531 10:39:04.340689 140378394015488 deprecation.py:350] From /home/posgrado/Documentos/Proyecto_Aaron/Pistol_detection/tfod/lib/python3.8/site-packages/tensorflow/python/util/dispatch.py:1082: sample_distorted_bounding_box (from tensorflow.python.ops.image_ops_impl) is deprecated and will be removed in a future version.\n",
      "Instructions for updating:\n",
      "`seed2` arg is deprecated.Use sample_distorted_bounding_box_v2 instead.\n",
      "WARNING:tensorflow:From /home/posgrado/Documentos/Proyecto_Aaron/Pistol_detection/tfod/lib/python3.8/site-packages/tensorflow/python/util/dispatch.py:1082: to_float (from tensorflow.python.ops.math_ops) is deprecated and will be removed in a future version.\n",
      "Instructions for updating:\n",
      "Use `tf.cast` instead.\n",
      "W0531 10:39:05.517270 140378394015488 deprecation.py:350] From /home/posgrado/Documentos/Proyecto_Aaron/Pistol_detection/tfod/lib/python3.8/site-packages/tensorflow/python/util/dispatch.py:1082: to_float (from tensorflow.python.ops.math_ops) is deprecated and will be removed in a future version.\n",
      "Instructions for updating:\n",
      "Use `tf.cast` instead.\n",
      "2022-05-31 10:39:07.390534: W tensorflow/core/framework/dataset.cc:768] Input of GeneratorDatasetOp::Dataset will not be optimized because the dataset does not implement the AsGraphDefInternal() method needed to apply optimizations.\n",
      "/home/posgrado/Documentos/Proyecto_Aaron/Pistol_detection/tfod/lib/python3.8/site-packages/keras/backend.py:450: UserWarning: `tf.keras.backend.set_learning_phase` is deprecated and will be removed after 2020-10-11. To update it, simply pass a True/False value to the `training` argument of the `__call__` method of your layer or model.\n",
      "  warnings.warn('`tf.keras.backend.set_learning_phase` is deprecated and '\n"
     ]
    },
    {
     "name": "stdout",
     "output_type": "stream",
     "text": [
      "WARNING:tensorflow:From /home/posgrado/Documentos/Proyecto_Aaron/Pistol_detection/tfod/lib/python3.8/site-packages/tensorflow/python/util/deprecation.py:629: calling map_fn_v2 (from tensorflow.python.ops.map_fn) with dtype is deprecated and will be removed in a future version.\n",
      "Instructions for updating:\n",
      "Use fn_output_signature instead\n",
      "W0531 10:39:24.096028 140372323845888 deprecation.py:554] From /home/posgrado/Documentos/Proyecto_Aaron/Pistol_detection/tfod/lib/python3.8/site-packages/tensorflow/python/util/deprecation.py:629: calling map_fn_v2 (from tensorflow.python.ops.map_fn) with dtype is deprecated and will be removed in a future version.\n",
      "Instructions for updating:\n",
      "Use fn_output_signature instead\n",
      "INFO:tensorflow:Step 100 per-step time 0.845s\n",
      "I0531 10:40:48.372639 140378394015488 model_lib_v2.py:705] Step 100 per-step time 0.845s\n",
      "INFO:tensorflow:{'Loss/classification_loss': 0.5773613,\n",
      " 'Loss/localization_loss': 0.5295212,\n",
      " 'Loss/regularization_loss': 0.15498155,\n",
      " 'Loss/total_loss': 1.2618641,\n",
      " 'learning_rate': 0.0319994}\n",
      "I0531 10:40:48.372874 140378394015488 model_lib_v2.py:708] {'Loss/classification_loss': 0.5773613,\n",
      " 'Loss/localization_loss': 0.5295212,\n",
      " 'Loss/regularization_loss': 0.15498155,\n",
      " 'Loss/total_loss': 1.2618641,\n",
      " 'learning_rate': 0.0319994}\n",
      "INFO:tensorflow:Step 200 per-step time 0.587s\n",
      "I0531 10:41:47.022754 140378394015488 model_lib_v2.py:705] Step 200 per-step time 0.587s\n",
      "INFO:tensorflow:{'Loss/classification_loss': 0.25655538,\n",
      " 'Loss/localization_loss': 0.36943164,\n",
      " 'Loss/regularization_loss': 0.15537813,\n",
      " 'Loss/total_loss': 0.78136516,\n",
      " 'learning_rate': 0.0373328}\n",
      "I0531 10:41:47.022958 140378394015488 model_lib_v2.py:708] {'Loss/classification_loss': 0.25655538,\n",
      " 'Loss/localization_loss': 0.36943164,\n",
      " 'Loss/regularization_loss': 0.15537813,\n",
      " 'Loss/total_loss': 0.78136516,\n",
      " 'learning_rate': 0.0373328}\n",
      "INFO:tensorflow:Step 300 per-step time 0.589s\n",
      "I0531 10:42:45.902915 140378394015488 model_lib_v2.py:705] Step 300 per-step time 0.589s\n",
      "INFO:tensorflow:{'Loss/classification_loss': 0.2929819,\n",
      " 'Loss/localization_loss': 0.30771738,\n",
      " 'Loss/regularization_loss': 0.15579091,\n",
      " 'Loss/total_loss': 0.7564902,\n",
      " 'learning_rate': 0.0426662}\n",
      "I0531 10:42:45.903132 140378394015488 model_lib_v2.py:708] {'Loss/classification_loss': 0.2929819,\n",
      " 'Loss/localization_loss': 0.30771738,\n",
      " 'Loss/regularization_loss': 0.15579091,\n",
      " 'Loss/total_loss': 0.7564902,\n",
      " 'learning_rate': 0.0426662}\n",
      "INFO:tensorflow:Step 400 per-step time 0.585s\n",
      "I0531 10:43:44.356987 140378394015488 model_lib_v2.py:705] Step 400 per-step time 0.585s\n",
      "INFO:tensorflow:{'Loss/classification_loss': 0.36671945,\n",
      " 'Loss/localization_loss': 0.25681612,\n",
      " 'Loss/regularization_loss': 0.15630707,\n",
      " 'Loss/total_loss': 0.7798426,\n",
      " 'learning_rate': 0.047999598}\n",
      "I0531 10:43:44.357258 140378394015488 model_lib_v2.py:708] {'Loss/classification_loss': 0.36671945,\n",
      " 'Loss/localization_loss': 0.25681612,\n",
      " 'Loss/regularization_loss': 0.15630707,\n",
      " 'Loss/total_loss': 0.7798426,\n",
      " 'learning_rate': 0.047999598}\n",
      "INFO:tensorflow:Step 500 per-step time 0.596s\n",
      "I0531 10:44:43.922106 140378394015488 model_lib_v2.py:705] Step 500 per-step time 0.596s\n",
      "INFO:tensorflow:{'Loss/classification_loss': 0.21682478,\n",
      " 'Loss/localization_loss': 0.2410119,\n",
      " 'Loss/regularization_loss': 0.15693453,\n",
      " 'Loss/total_loss': 0.61477125,\n",
      " 'learning_rate': 0.053333}\n",
      "I0531 10:44:43.922300 140378394015488 model_lib_v2.py:708] {'Loss/classification_loss': 0.21682478,\n",
      " 'Loss/localization_loss': 0.2410119,\n",
      " 'Loss/regularization_loss': 0.15693453,\n",
      " 'Loss/total_loss': 0.61477125,\n",
      " 'learning_rate': 0.053333}\n",
      "INFO:tensorflow:Step 600 per-step time 0.600s\n",
      "I0531 10:45:43.874311 140378394015488 model_lib_v2.py:705] Step 600 per-step time 0.600s\n",
      "INFO:tensorflow:{'Loss/classification_loss': 0.34479445,\n",
      " 'Loss/localization_loss': 0.23583911,\n",
      " 'Loss/regularization_loss': 0.15800405,\n",
      " 'Loss/total_loss': 0.7386376,\n",
      " 'learning_rate': 0.0586664}\n",
      "I0531 10:45:43.874521 140378394015488 model_lib_v2.py:708] {'Loss/classification_loss': 0.34479445,\n",
      " 'Loss/localization_loss': 0.23583911,\n",
      " 'Loss/regularization_loss': 0.15800405,\n",
      " 'Loss/total_loss': 0.7386376,\n",
      " 'learning_rate': 0.0586664}\n",
      "INFO:tensorflow:Step 700 per-step time 0.585s\n",
      "I0531 10:46:42.346839 140378394015488 model_lib_v2.py:705] Step 700 per-step time 0.585s\n",
      "INFO:tensorflow:{'Loss/classification_loss': 0.20146805,\n",
      " 'Loss/localization_loss': 0.15260707,\n",
      " 'Loss/regularization_loss': 0.15879552,\n",
      " 'Loss/total_loss': 0.51287067,\n",
      " 'learning_rate': 0.0639998}\n",
      "I0531 10:46:42.347048 140378394015488 model_lib_v2.py:708] {'Loss/classification_loss': 0.20146805,\n",
      " 'Loss/localization_loss': 0.15260707,\n",
      " 'Loss/regularization_loss': 0.15879552,\n",
      " 'Loss/total_loss': 0.51287067,\n",
      " 'learning_rate': 0.0639998}\n",
      "INFO:tensorflow:Step 800 per-step time 0.585s\n",
      "I0531 10:47:40.864281 140378394015488 model_lib_v2.py:705] Step 800 per-step time 0.585s\n",
      "INFO:tensorflow:{'Loss/classification_loss': 0.20617476,\n",
      " 'Loss/localization_loss': 0.14158957,\n",
      " 'Loss/regularization_loss': 0.15961659,\n",
      " 'Loss/total_loss': 0.5073809,\n",
      " 'learning_rate': 0.069333196}\n",
      "I0531 10:47:40.864479 140378394015488 model_lib_v2.py:708] {'Loss/classification_loss': 0.20617476,\n",
      " 'Loss/localization_loss': 0.14158957,\n",
      " 'Loss/regularization_loss': 0.15961659,\n",
      " 'Loss/total_loss': 0.5073809,\n",
      " 'learning_rate': 0.069333196}\n",
      "INFO:tensorflow:Step 900 per-step time 0.589s\n",
      "I0531 10:48:39.787518 140378394015488 model_lib_v2.py:705] Step 900 per-step time 0.589s\n",
      "INFO:tensorflow:{'Loss/classification_loss': 0.2632014,\n",
      " 'Loss/localization_loss': 0.22945097,\n",
      " 'Loss/regularization_loss': 0.16048965,\n",
      " 'Loss/total_loss': 0.653142,\n",
      " 'learning_rate': 0.074666604}\n",
      "I0531 10:48:39.787742 140378394015488 model_lib_v2.py:708] {'Loss/classification_loss': 0.2632014,\n",
      " 'Loss/localization_loss': 0.22945097,\n",
      " 'Loss/regularization_loss': 0.16048965,\n",
      " 'Loss/total_loss': 0.653142,\n",
      " 'learning_rate': 0.074666604}\n",
      "INFO:tensorflow:Step 1000 per-step time 0.586s\n",
      "I0531 10:49:38.413270 140378394015488 model_lib_v2.py:705] Step 1000 per-step time 0.586s\n",
      "INFO:tensorflow:{'Loss/classification_loss': 0.16704386,\n",
      " 'Loss/localization_loss': 0.13648757,\n",
      " 'Loss/regularization_loss': 0.16147962,\n",
      " 'Loss/total_loss': 0.46501106,\n",
      " 'learning_rate': 0.08}\n",
      "I0531 10:49:38.413481 140378394015488 model_lib_v2.py:708] {'Loss/classification_loss': 0.16704386,\n",
      " 'Loss/localization_loss': 0.13648757,\n",
      " 'Loss/regularization_loss': 0.16147962,\n",
      " 'Loss/total_loss': 0.46501106,\n",
      " 'learning_rate': 0.08}\n",
      "INFO:tensorflow:Step 1100 per-step time 0.586s\n",
      "I0531 10:50:37.056080 140378394015488 model_lib_v2.py:705] Step 1100 per-step time 0.586s\n",
      "INFO:tensorflow:{'Loss/classification_loss': 0.1669243,\n",
      " 'Loss/localization_loss': 0.17712049,\n",
      " 'Loss/regularization_loss': 0.16203837,\n",
      " 'Loss/total_loss': 0.5060832,\n",
      " 'learning_rate': 0.07999918}\n",
      "I0531 10:50:37.056279 140378394015488 model_lib_v2.py:708] {'Loss/classification_loss': 0.1669243,\n",
      " 'Loss/localization_loss': 0.17712049,\n",
      " 'Loss/regularization_loss': 0.16203837,\n",
      " 'Loss/total_loss': 0.5060832,\n",
      " 'learning_rate': 0.07999918}\n",
      "INFO:tensorflow:Step 1200 per-step time 0.582s\n",
      "I0531 10:51:35.215844 140378394015488 model_lib_v2.py:705] Step 1200 per-step time 0.582s\n",
      "INFO:tensorflow:{'Loss/classification_loss': 0.1495779,\n",
      " 'Loss/localization_loss': 0.12361436,\n",
      " 'Loss/regularization_loss': 0.16264595,\n",
      " 'Loss/total_loss': 0.43583822,\n",
      " 'learning_rate': 0.079996705}\n",
      "I0531 10:51:35.216052 140378394015488 model_lib_v2.py:708] {'Loss/classification_loss': 0.1495779,\n",
      " 'Loss/localization_loss': 0.12361436,\n",
      " 'Loss/regularization_loss': 0.16264595,\n",
      " 'Loss/total_loss': 0.43583822,\n",
      " 'learning_rate': 0.079996705}\n",
      "INFO:tensorflow:Step 1300 per-step time 0.584s\n",
      "I0531 10:52:33.602046 140378394015488 model_lib_v2.py:705] Step 1300 per-step time 0.584s\n",
      "INFO:tensorflow:{'Loss/classification_loss': 0.21420035,\n",
      " 'Loss/localization_loss': 0.13929485,\n",
      " 'Loss/regularization_loss': 0.16262145,\n",
      " 'Loss/total_loss': 0.5161167,\n",
      " 'learning_rate': 0.0799926}\n",
      "I0531 10:52:33.602246 140378394015488 model_lib_v2.py:708] {'Loss/classification_loss': 0.21420035,\n",
      " 'Loss/localization_loss': 0.13929485,\n",
      " 'Loss/regularization_loss': 0.16262145,\n",
      " 'Loss/total_loss': 0.5161167,\n",
      " 'learning_rate': 0.0799926}\n",
      "INFO:tensorflow:Step 1400 per-step time 0.582s\n",
      "I0531 10:53:31.780588 140378394015488 model_lib_v2.py:705] Step 1400 per-step time 0.582s\n",
      "INFO:tensorflow:{'Loss/classification_loss': 0.123729505,\n",
      " 'Loss/localization_loss': 0.08345611,\n",
      " 'Loss/regularization_loss': 0.16269524,\n",
      " 'Loss/total_loss': 0.36988086,\n",
      " 'learning_rate': 0.07998685}\n",
      "I0531 10:53:31.780781 140378394015488 model_lib_v2.py:708] {'Loss/classification_loss': 0.123729505,\n",
      " 'Loss/localization_loss': 0.08345611,\n",
      " 'Loss/regularization_loss': 0.16269524,\n",
      " 'Loss/total_loss': 0.36988086,\n",
      " 'learning_rate': 0.07998685}\n"
     ]
    },
    {
     "name": "stdout",
     "output_type": "stream",
     "text": [
      "INFO:tensorflow:Step 1500 per-step time 0.581s\n",
      "I0531 10:54:29.926737 140378394015488 model_lib_v2.py:705] Step 1500 per-step time 0.581s\n",
      "INFO:tensorflow:{'Loss/classification_loss': 0.12276001,\n",
      " 'Loss/localization_loss': 0.115034185,\n",
      " 'Loss/regularization_loss': 0.16296898,\n",
      " 'Loss/total_loss': 0.40076318,\n",
      " 'learning_rate': 0.07997945}\n",
      "I0531 10:54:29.926937 140378394015488 model_lib_v2.py:708] {'Loss/classification_loss': 0.12276001,\n",
      " 'Loss/localization_loss': 0.115034185,\n",
      " 'Loss/regularization_loss': 0.16296898,\n",
      " 'Loss/total_loss': 0.40076318,\n",
      " 'learning_rate': 0.07997945}\n",
      "INFO:tensorflow:Step 1600 per-step time 0.580s\n",
      "I0531 10:55:27.900993 140378394015488 model_lib_v2.py:705] Step 1600 per-step time 0.580s\n",
      "INFO:tensorflow:{'Loss/classification_loss': 0.18030477,\n",
      " 'Loss/localization_loss': 0.0936547,\n",
      " 'Loss/regularization_loss': 0.16279227,\n",
      " 'Loss/total_loss': 0.43675172,\n",
      " 'learning_rate': 0.079970405}\n",
      "I0531 10:55:27.901191 140378394015488 model_lib_v2.py:708] {'Loss/classification_loss': 0.18030477,\n",
      " 'Loss/localization_loss': 0.0936547,\n",
      " 'Loss/regularization_loss': 0.16279227,\n",
      " 'Loss/total_loss': 0.43675172,\n",
      " 'learning_rate': 0.079970405}\n",
      "INFO:tensorflow:Step 1700 per-step time 0.582s\n",
      "I0531 10:56:26.088888 140378394015488 model_lib_v2.py:705] Step 1700 per-step time 0.582s\n",
      "INFO:tensorflow:{'Loss/classification_loss': 0.14022666,\n",
      " 'Loss/localization_loss': 0.14191738,\n",
      " 'Loss/regularization_loss': 0.16248488,\n",
      " 'Loss/total_loss': 0.44462892,\n",
      " 'learning_rate': 0.07995972}\n",
      "I0531 10:56:26.089107 140378394015488 model_lib_v2.py:708] {'Loss/classification_loss': 0.14022666,\n",
      " 'Loss/localization_loss': 0.14191738,\n",
      " 'Loss/regularization_loss': 0.16248488,\n",
      " 'Loss/total_loss': 0.44462892,\n",
      " 'learning_rate': 0.07995972}\n",
      "INFO:tensorflow:Step 1800 per-step time 0.581s\n",
      "I0531 10:57:24.156451 140378394015488 model_lib_v2.py:705] Step 1800 per-step time 0.581s\n",
      "INFO:tensorflow:{'Loss/classification_loss': 0.14549452,\n",
      " 'Loss/localization_loss': 0.08082285,\n",
      " 'Loss/regularization_loss': 0.16194116,\n",
      " 'Loss/total_loss': 0.38825855,\n",
      " 'learning_rate': 0.0799474}\n",
      "I0531 10:57:24.156636 140378394015488 model_lib_v2.py:708] {'Loss/classification_loss': 0.14549452,\n",
      " 'Loss/localization_loss': 0.08082285,\n",
      " 'Loss/regularization_loss': 0.16194116,\n",
      " 'Loss/total_loss': 0.38825855,\n",
      " 'learning_rate': 0.0799474}\n",
      "INFO:tensorflow:Step 1900 per-step time 0.587s\n",
      "I0531 10:58:22.839113 140378394015488 model_lib_v2.py:705] Step 1900 per-step time 0.587s\n",
      "INFO:tensorflow:{'Loss/classification_loss': 0.13101241,\n",
      " 'Loss/localization_loss': 0.047376066,\n",
      " 'Loss/regularization_loss': 0.16148582,\n",
      " 'Loss/total_loss': 0.3398743,\n",
      " 'learning_rate': 0.07993342}\n",
      "I0531 10:58:22.839331 140378394015488 model_lib_v2.py:708] {'Loss/classification_loss': 0.13101241,\n",
      " 'Loss/localization_loss': 0.047376066,\n",
      " 'Loss/regularization_loss': 0.16148582,\n",
      " 'Loss/total_loss': 0.3398743,\n",
      " 'learning_rate': 0.07993342}\n",
      "INFO:tensorflow:Step 2000 per-step time 0.589s\n",
      "I0531 10:59:21.787034 140378394015488 model_lib_v2.py:705] Step 2000 per-step time 0.589s\n",
      "INFO:tensorflow:{'Loss/classification_loss': 0.08929347,\n",
      " 'Loss/localization_loss': 0.0648924,\n",
      " 'Loss/regularization_loss': 0.16112605,\n",
      " 'Loss/total_loss': 0.3153119,\n",
      " 'learning_rate': 0.07991781}\n",
      "I0531 10:59:21.787272 140378394015488 model_lib_v2.py:708] {'Loss/classification_loss': 0.08929347,\n",
      " 'Loss/localization_loss': 0.0648924,\n",
      " 'Loss/regularization_loss': 0.16112605,\n",
      " 'Loss/total_loss': 0.3153119,\n",
      " 'learning_rate': 0.07991781}\n"
     ]
    }
   ],
   "source": [
    "!{command}"
   ]
  },
  {
   "cell_type": "markdown",
   "metadata": {
    "id": "4_YRZu7npfDH",
    "pycharm": {
     "name": "#%% md\n"
    }
   },
   "source": [
    "# 7. Evaluate the Model"
   ]
  },
  {
   "cell_type": "code",
   "execution_count": 38,
   "metadata": {
    "id": "80L7-fdPpfDH",
    "pycharm": {
     "name": "#%%\n"
    }
   },
   "outputs": [],
   "source": [
    "command = \"python {} --model_dir={} --pipeline_config_path={} --checkpoint_dir={}\".format(TRAINING_SCRIPT, paths['CHECKPOINT_PATH'],files['PIPELINE_CONFIG'], paths['CHECKPOINT_PATH'])"
   ]
  },
  {
   "cell_type": "code",
   "execution_count": 39,
   "metadata": {
    "id": "lYsgEPx9pfDH",
    "pycharm": {
     "name": "#%%\n"
    }
   },
   "outputs": [
    {
     "name": "stdout",
     "output_type": "stream",
     "text": [
      "python Tensorflow/api_models/research/object_detection/model_main_tf2.py --model_dir=Tensorflow/work/models/my_ssd_mobnet --pipeline_config_path=Tensorflow/work/models/my_ssd_mobnet/pipeline.config --checkpoint_dir=Tensorflow/work/models/my_ssd_mobnet\n"
     ]
    }
   ],
   "source": [
    "print(command)"
   ]
  },
  {
   "cell_type": "code",
   "execution_count": 40,
   "metadata": {
    "id": "lqTV2jGBpfDH",
    "pycharm": {
     "name": "#%%\n"
    }
   },
   "outputs": [
    {
     "name": "stdout",
     "output_type": "stream",
     "text": [
      "2022-05-31 11:07:41.265760: I tensorflow/stream_executor/cuda/cuda_gpu_executor.cc:975] successful NUMA node read from SysFS had negative value (-1), but there must be at least one NUMA node, so returning NUMA node zero\n",
      "2022-05-31 11:07:41.270571: W tensorflow/stream_executor/platform/default/dso_loader.cc:64] Could not load dynamic library 'libcudnn.so.8'; dlerror: libcudnn.so.8: cannot open shared object file: No such file or directory; LD_LIBRARY_PATH: /home/posgrado/Documentos/Proyecto_Aaron/Pistol_detection/tfod/lib/python3.8/site-packages/cv2/../../lib64::/usr/local/cuda/extras/CUPTI/lib64\n",
      "2022-05-31 11:07:41.270588: W tensorflow/core/common_runtime/gpu/gpu_device.cc:1850] Cannot dlopen some GPU libraries. Please make sure the missing libraries mentioned above are installed properly if you would like to use GPU. Follow the guide at https://www.tensorflow.org/install/gpu for how to download and setup the required libraries for your platform.\n",
      "Skipping registering GPU devices...\n",
      "WARNING:tensorflow:Forced number of epochs for all eval validations to be 1.\n",
      "W0531 11:07:41.273102 139960861964032 model_lib_v2.py:1089] Forced number of epochs for all eval validations to be 1.\n",
      "INFO:tensorflow:Maybe overwriting sample_1_of_n_eval_examples: None\n",
      "I0531 11:07:41.273229 139960861964032 config_util.py:552] Maybe overwriting sample_1_of_n_eval_examples: None\n",
      "INFO:tensorflow:Maybe overwriting use_bfloat16: False\n",
      "I0531 11:07:41.273284 139960861964032 config_util.py:552] Maybe overwriting use_bfloat16: False\n",
      "INFO:tensorflow:Maybe overwriting eval_num_epochs: 1\n",
      "I0531 11:07:41.273334 139960861964032 config_util.py:552] Maybe overwriting eval_num_epochs: 1\n",
      "WARNING:tensorflow:Expected number of evaluation epochs is 1, but instead encountered `eval_on_train_input_config.num_epochs` = 0. Overwriting `num_epochs` to 1.\n",
      "W0531 11:07:41.273398 139960861964032 model_lib_v2.py:1106] Expected number of evaluation epochs is 1, but instead encountered `eval_on_train_input_config.num_epochs` = 0. Overwriting `num_epochs` to 1.\n",
      "2022-05-31 11:07:41.275224: I tensorflow/core/platform/cpu_feature_guard.cc:193] This TensorFlow binary is optimized with oneAPI Deep Neural Network Library (oneDNN) to use the following CPU instructions in performance-critical operations:  AVX2 FMA\n",
      "To enable them in other operations, rebuild TensorFlow with the appropriate compiler flags.\n",
      "INFO:tensorflow:Reading unweighted datasets: ['Tensorflow/work/annotations/test.record']\n",
      "I0531 11:07:41.296970 139960861964032 dataset_builder.py:162] Reading unweighted datasets: ['Tensorflow/work/annotations/test.record']\n",
      "INFO:tensorflow:Reading record datasets for input file: ['Tensorflow/work/annotations/test.record']\n",
      "I0531 11:07:41.297148 139960861964032 dataset_builder.py:79] Reading record datasets for input file: ['Tensorflow/work/annotations/test.record']\n",
      "INFO:tensorflow:Number of filenames to read: 1\n",
      "I0531 11:07:41.297214 139960861964032 dataset_builder.py:80] Number of filenames to read: 1\n",
      "WARNING:tensorflow:num_readers has been reduced to 1 to match input file shards.\n",
      "W0531 11:07:41.297262 139960861964032 dataset_builder.py:86] num_readers has been reduced to 1 to match input file shards.\n",
      "WARNING:tensorflow:From /home/posgrado/Documentos/Proyecto_Aaron/Pistol_detection/tfod/lib/python3.8/site-packages/object_detection/builders/dataset_builder.py:100: parallel_interleave (from tensorflow.python.data.experimental.ops.interleave_ops) is deprecated and will be removed in a future version.\n",
      "Instructions for updating:\n",
      "Use `tf.data.Dataset.interleave(map_func, cycle_length, block_length, num_parallel_calls=tf.data.AUTOTUNE)` instead. If sloppy execution is desired, use `tf.data.Options.deterministic`.\n",
      "W0531 11:07:41.298514 139960861964032 deprecation.py:350] From /home/posgrado/Documentos/Proyecto_Aaron/Pistol_detection/tfod/lib/python3.8/site-packages/object_detection/builders/dataset_builder.py:100: parallel_interleave (from tensorflow.python.data.experimental.ops.interleave_ops) is deprecated and will be removed in a future version.\n",
      "Instructions for updating:\n",
      "Use `tf.data.Dataset.interleave(map_func, cycle_length, block_length, num_parallel_calls=tf.data.AUTOTUNE)` instead. If sloppy execution is desired, use `tf.data.Options.deterministic`.\n",
      "WARNING:tensorflow:From /home/posgrado/Documentos/Proyecto_Aaron/Pistol_detection/tfod/lib/python3.8/site-packages/object_detection/builders/dataset_builder.py:235: DatasetV1.map_with_legacy_function (from tensorflow.python.data.ops.dataset_ops) is deprecated and will be removed in a future version.\n",
      "Instructions for updating:\n",
      "Use `tf.data.Dataset.map()\n",
      "W0531 11:07:41.321605 139960861964032 deprecation.py:350] From /home/posgrado/Documentos/Proyecto_Aaron/Pistol_detection/tfod/lib/python3.8/site-packages/object_detection/builders/dataset_builder.py:235: DatasetV1.map_with_legacy_function (from tensorflow.python.data.ops.dataset_ops) is deprecated and will be removed in a future version.\n",
      "Instructions for updating:\n",
      "Use `tf.data.Dataset.map()\n",
      "WARNING:tensorflow:From /home/posgrado/Documentos/Proyecto_Aaron/Pistol_detection/tfod/lib/python3.8/site-packages/tensorflow/python/util/dispatch.py:1082: sparse_to_dense (from tensorflow.python.ops.sparse_ops) is deprecated and will be removed in a future version.\n",
      "Instructions for updating:\n",
      "Create a `tf.sparse.SparseTensor` and use `tf.sparse.to_dense` instead.\n",
      "W0531 11:07:44.188439 139960861964032 deprecation.py:350] From /home/posgrado/Documentos/Proyecto_Aaron/Pistol_detection/tfod/lib/python3.8/site-packages/tensorflow/python/util/dispatch.py:1082: sparse_to_dense (from tensorflow.python.ops.sparse_ops) is deprecated and will be removed in a future version.\n",
      "Instructions for updating:\n",
      "Create a `tf.sparse.SparseTensor` and use `tf.sparse.to_dense` instead.\n",
      "WARNING:tensorflow:From /home/posgrado/Documentos/Proyecto_Aaron/Pistol_detection/tfod/lib/python3.8/site-packages/tensorflow/python/util/dispatch.py:1082: to_float (from tensorflow.python.ops.math_ops) is deprecated and will be removed in a future version.\n",
      "Instructions for updating:\n",
      "Use `tf.cast` instead.\n",
      "W0531 11:07:44.978742 139960861964032 deprecation.py:350] From /home/posgrado/Documentos/Proyecto_Aaron/Pistol_detection/tfod/lib/python3.8/site-packages/tensorflow/python/util/dispatch.py:1082: to_float (from tensorflow.python.ops.math_ops) is deprecated and will be removed in a future version.\n",
      "Instructions for updating:\n",
      "Use `tf.cast` instead.\n",
      "INFO:tensorflow:Waiting for new checkpoint at Tensorflow/work/models/my_ssd_mobnet\n",
      "I0531 11:07:46.751650 139960861964032 checkpoint_utils.py:136] Waiting for new checkpoint at Tensorflow/work/models/my_ssd_mobnet\n",
      "INFO:tensorflow:Found new checkpoint at Tensorflow/work/models/my_ssd_mobnet/ckpt-6\n",
      "I0531 11:07:46.752199 139960861964032 checkpoint_utils.py:145] Found new checkpoint at Tensorflow/work/models/my_ssd_mobnet/ckpt-6\n",
      "/home/posgrado/Documentos/Proyecto_Aaron/Pistol_detection/tfod/lib/python3.8/site-packages/keras/backend.py:450: UserWarning: `tf.keras.backend.set_learning_phase` is deprecated and will be removed after 2020-10-11. To update it, simply pass a True/False value to the `training` argument of the `__call__` method of your layer or model.\n",
      "  warnings.warn('`tf.keras.backend.set_learning_phase` is deprecated and '\n",
      "WARNING:tensorflow:From /home/posgrado/Documentos/Proyecto_Aaron/Pistol_detection/tfod/lib/python3.8/site-packages/tensorflow/python/util/dispatch.py:1082: to_int64 (from tensorflow.python.ops.math_ops) is deprecated and will be removed in a future version.\n",
      "Instructions for updating:\n",
      "Use `tf.cast` instead.\n",
      "W0531 11:08:02.268255 139960861964032 deprecation.py:350] From /home/posgrado/Documentos/Proyecto_Aaron/Pistol_detection/tfod/lib/python3.8/site-packages/tensorflow/python/util/dispatch.py:1082: to_int64 (from tensorflow.python.ops.math_ops) is deprecated and will be removed in a future version.\n",
      "Instructions for updating:\n",
      "Use `tf.cast` instead.\n",
      "INFO:tensorflow:Finished eval step 0\n",
      "I0531 11:08:02.274069 139960861964032 model_lib_v2.py:966] Finished eval step 0\n",
      "WARNING:tensorflow:From /home/posgrado/Documentos/Proyecto_Aaron/Pistol_detection/tfod/lib/python3.8/site-packages/tensorflow/python/autograph/impl/api.py:459: py_func (from tensorflow.python.ops.script_ops) is deprecated and will be removed in a future version.\n",
      "Instructions for updating:\n",
      "tf.py_func is deprecated in TF V2. Instead, there are two\n",
      "    options available in V2.\n",
      "    - tf.py_function takes a python function which manipulates tf eager\n",
      "    tensors instead of numpy arrays. It's easy to convert a tf eager tensor to\n",
      "    an ndarray (just call tensor.numpy()) but having access to eager tensors\n",
      "    means `tf.py_function`s can use accelerators such as GPUs as well as\n",
      "    being differentiable using a gradient tape.\n",
      "    - tf.numpy_function maintains the semantics of the deprecated tf.py_func\n",
      "    (it is not differentiable, and manipulates numpy arrays). It drops the\n",
      "    stateful argument making all functions stateful.\n",
      "    \n",
      "W0531 11:08:02.363013 139960861964032 deprecation.py:350] From /home/posgrado/Documentos/Proyecto_Aaron/Pistol_detection/tfod/lib/python3.8/site-packages/tensorflow/python/autograph/impl/api.py:459: py_func (from tensorflow.python.ops.script_ops) is deprecated and will be removed in a future version.\n",
      "Instructions for updating:\n",
      "tf.py_func is deprecated in TF V2. Instead, there are two\n",
      "    options available in V2.\n",
      "    - tf.py_function takes a python function which manipulates tf eager\n",
      "    tensors instead of numpy arrays. It's easy to convert a tf eager tensor to\n",
      "    an ndarray (just call tensor.numpy()) but having access to eager tensors\n",
      "    means `tf.py_function`s can use accelerators such as GPUs as well as\n",
      "    being differentiable using a gradient tape.\n",
      "    - tf.numpy_function maintains the semantics of the deprecated tf.py_func\n",
      "    (it is not differentiable, and manipulates numpy arrays). It drops the\n",
      "    stateful argument making all functions stateful.\n",
      "    \n"
     ]
    },
    {
     "name": "stdout",
     "output_type": "stream",
     "text": [
      "INFO:tensorflow:Performing evaluation on 10 images.\n",
      "I0531 11:08:03.612757 139960861964032 coco_evaluation.py:293] Performing evaluation on 10 images.\n",
      "creating index...\n",
      "index created!\n",
      "INFO:tensorflow:Loading and preparing annotation results...\n",
      "I0531 11:08:03.612948 139960861964032 coco_tools.py:116] Loading and preparing annotation results...\n",
      "INFO:tensorflow:DONE (t=0.00s)\n",
      "I0531 11:08:03.614652 139960861964032 coco_tools.py:138] DONE (t=0.00s)\n",
      "creating index...\n",
      "index created!\n",
      "Running per image evaluation...\n",
      "Evaluate annotation type *bbox*\n",
      "DONE (t=0.04s).\n",
      "Accumulating evaluation results...\n",
      "DONE (t=0.01s).\n",
      " Average Precision  (AP) @[ IoU=0.50:0.95 | area=   all | maxDets=100 ] = 0.068\n",
      " Average Precision  (AP) @[ IoU=0.50      | area=   all | maxDets=100 ] = 0.147\n",
      " Average Precision  (AP) @[ IoU=0.75      | area=   all | maxDets=100 ] = 0.002\n",
      " Average Precision  (AP) @[ IoU=0.50:0.95 | area= small | maxDets=100 ] = 0.003\n",
      " Average Precision  (AP) @[ IoU=0.50:0.95 | area=medium | maxDets=100 ] = 0.001\n",
      " Average Precision  (AP) @[ IoU=0.50:0.95 | area= large | maxDets=100 ] = 0.133\n",
      " Average Recall     (AR) @[ IoU=0.50:0.95 | area=   all | maxDets=  1 ] = 0.075\n",
      " Average Recall     (AR) @[ IoU=0.50:0.95 | area=   all | maxDets= 10 ] = 0.167\n",
      " Average Recall     (AR) @[ IoU=0.50:0.95 | area=   all | maxDets=100 ] = 0.267\n",
      " Average Recall     (AR) @[ IoU=0.50:0.95 | area= small | maxDets=100 ] = 0.233\n",
      " Average Recall     (AR) @[ IoU=0.50:0.95 | area=medium | maxDets=100 ] = 0.133\n",
      " Average Recall     (AR) @[ IoU=0.50:0.95 | area= large | maxDets=100 ] = 0.350\n",
      "INFO:tensorflow:Eval metrics at step 2000\n",
      "I0531 11:08:03.673009 139960861964032 model_lib_v2.py:1015] Eval metrics at step 2000\n",
      "INFO:tensorflow:\t+ DetectionBoxes_Precision/mAP: 0.067591\n",
      "I0531 11:08:03.674769 139960861964032 model_lib_v2.py:1018] \t+ DetectionBoxes_Precision/mAP: 0.067591\n",
      "INFO:tensorflow:\t+ DetectionBoxes_Precision/mAP@.50IOU: 0.147125\n",
      "I0531 11:08:03.675307 139960861964032 model_lib_v2.py:1018] \t+ DetectionBoxes_Precision/mAP@.50IOU: 0.147125\n",
      "INFO:tensorflow:\t+ DetectionBoxes_Precision/mAP@.75IOU: 0.001714\n",
      "I0531 11:08:03.675784 139960861964032 model_lib_v2.py:1018] \t+ DetectionBoxes_Precision/mAP@.75IOU: 0.001714\n",
      "INFO:tensorflow:\t+ DetectionBoxes_Precision/mAP (small): 0.003319\n",
      "I0531 11:08:03.676256 139960861964032 model_lib_v2.py:1018] \t+ DetectionBoxes_Precision/mAP (small): 0.003319\n",
      "INFO:tensorflow:\t+ DetectionBoxes_Precision/mAP (medium): 0.001225\n",
      "I0531 11:08:03.676717 139960861964032 model_lib_v2.py:1018] \t+ DetectionBoxes_Precision/mAP (medium): 0.001225\n",
      "INFO:tensorflow:\t+ DetectionBoxes_Precision/mAP (large): 0.132842\n",
      "I0531 11:08:03.677179 139960861964032 model_lib_v2.py:1018] \t+ DetectionBoxes_Precision/mAP (large): 0.132842\n",
      "INFO:tensorflow:\t+ DetectionBoxes_Recall/AR@1: 0.075000\n",
      "I0531 11:08:03.677640 139960861964032 model_lib_v2.py:1018] \t+ DetectionBoxes_Recall/AR@1: 0.075000\n",
      "INFO:tensorflow:\t+ DetectionBoxes_Recall/AR@10: 0.166667\n",
      "I0531 11:08:03.678097 139960861964032 model_lib_v2.py:1018] \t+ DetectionBoxes_Recall/AR@10: 0.166667\n",
      "INFO:tensorflow:\t+ DetectionBoxes_Recall/AR@100: 0.266667\n",
      "I0531 11:08:03.678581 139960861964032 model_lib_v2.py:1018] \t+ DetectionBoxes_Recall/AR@100: 0.266667\n",
      "INFO:tensorflow:\t+ DetectionBoxes_Recall/AR@100 (small): 0.233333\n",
      "I0531 11:08:03.679065 139960861964032 model_lib_v2.py:1018] \t+ DetectionBoxes_Recall/AR@100 (small): 0.233333\n",
      "INFO:tensorflow:\t+ DetectionBoxes_Recall/AR@100 (medium): 0.133333\n",
      "I0531 11:08:03.679563 139960861964032 model_lib_v2.py:1018] \t+ DetectionBoxes_Recall/AR@100 (medium): 0.133333\n",
      "INFO:tensorflow:\t+ DetectionBoxes_Recall/AR@100 (large): 0.350000\n",
      "I0531 11:08:03.680112 139960861964032 model_lib_v2.py:1018] \t+ DetectionBoxes_Recall/AR@100 (large): 0.350000\n",
      "INFO:tensorflow:\t+ Loss/localization_loss: 0.791413\n",
      "I0531 11:08:03.680540 139960861964032 model_lib_v2.py:1018] \t+ Loss/localization_loss: 0.791413\n",
      "INFO:tensorflow:\t+ Loss/classification_loss: 1.040777\n",
      "I0531 11:08:03.681031 139960861964032 model_lib_v2.py:1018] \t+ Loss/classification_loss: 1.040777\n",
      "INFO:tensorflow:\t+ Loss/regularization_loss: 0.161124\n",
      "I0531 11:08:03.681458 139960861964032 model_lib_v2.py:1018] \t+ Loss/regularization_loss: 0.161124\n",
      "INFO:tensorflow:\t+ Loss/total_loss: 1.993314\n",
      "I0531 11:08:03.681903 139960861964032 model_lib_v2.py:1018] \t+ Loss/total_loss: 1.993314\n",
      "INFO:tensorflow:Waiting for new checkpoint at Tensorflow/work/models/my_ssd_mobnet\n",
      "I0531 11:12:46.852342 139960861964032 checkpoint_utils.py:136] Waiting for new checkpoint at Tensorflow/work/models/my_ssd_mobnet\n",
      "^C\n",
      "Traceback (most recent call last):\n",
      "  File \"Tensorflow/api_models/research/object_detection/model_main_tf2.py\", line 114, in <module>\n",
      "    tf.compat.v1.app.run()\n",
      "  File \"/home/posgrado/Documentos/Proyecto_Aaron/Pistol_detection/tfod/lib/python3.8/site-packages/tensorflow/python/platform/app.py\", line 36, in run\n",
      "    _run(main=main, argv=argv, flags_parser=_parse_flags_tolerate_undef)\n",
      "  File \"/home/posgrado/Documentos/Proyecto_Aaron/Pistol_detection/tfod/lib/python3.8/site-packages/absl/app.py\", line 312, in run\n",
      "    _run_main(main, args)\n",
      "  File \"/home/posgrado/Documentos/Proyecto_Aaron/Pistol_detection/tfod/lib/python3.8/site-packages/absl/app.py\", line 258, in _run_main\n",
      "    sys.exit(main(argv))\n",
      "  File \"Tensorflow/api_models/research/object_detection/model_main_tf2.py\", line 81, in main\n",
      "    model_lib_v2.eval_continuously(\n",
      "  File \"/home/posgrado/Documentos/Proyecto_Aaron/Pistol_detection/tfod/lib/python3.8/site-packages/object_detection/model_lib_v2.py\", line 1135, in eval_continuously\n",
      "    for latest_checkpoint in tf.train.checkpoints_iterator(\n",
      "  File \"/home/posgrado/Documentos/Proyecto_Aaron/Pistol_detection/tfod/lib/python3.8/site-packages/tensorflow/python/training/checkpoint_utils.py\", line 194, in checkpoints_iterator\n",
      "    new_checkpoint_path = wait_for_new_checkpoint(\n",
      "  File \"/home/posgrado/Documentos/Proyecto_Aaron/Pistol_detection/tfod/lib/python3.8/site-packages/tensorflow/python/training/checkpoint_utils.py\", line 143, in wait_for_new_checkpoint\n",
      "    time.sleep(seconds_to_sleep)\n",
      "KeyboardInterrupt\n"
     ]
    }
   ],
   "source": [
    "!{command}"
   ]
  },
  {
   "cell_type": "markdown",
   "metadata": {
    "id": "orvRk02UpfDI",
    "pycharm": {
     "name": "#%% md\n"
    }
   },
   "source": [
    "# 8. Load Train Model From Checkpoint"
   ]
  },
  {
   "cell_type": "code",
   "execution_count": 51,
   "metadata": {
    "id": "8TYk4_oIpfDI",
    "pycharm": {
     "name": "#%%\n"
    }
   },
   "outputs": [],
   "source": [
    "import os\n",
    "import tensorflow as tf\n",
    "from object_detection.utils import label_map_util\n",
    "from object_detection.utils import visualization_utils as viz_utils\n",
    "from object_detection.builders import model_builder\n",
    "from object_detection.utils import config_util"
   ]
  },
  {
   "cell_type": "code",
   "execution_count": 107,
   "metadata": {
    "id": "tDnQg-cYpfDI",
    "pycharm": {
     "name": "#%%\n"
    }
   },
   "outputs": [],
   "source": [
    "# Load pipeline config and build a detection model\n",
    "configs = config_util.get_configs_from_pipeline_file(files['PIPELINE_CONFIG'])\n",
    "detection_model = model_builder.build(model_config=configs['model'], is_training=False)\n",
    "\n",
    "# Restore checkpoint\n",
    "ckpt = tf.compat.v2.train.Checkpoint(model=detection_model)\n",
    "ckpt.restore(os.path.join(paths['CHECKPOINT_PATH'], 'ckpt-6')).expect_partial()\n",
    "\n",
    "@tf.function\n",
    "def detect_fn(image):\n",
    "    image, shapes = detection_model.preprocess(image)\n",
    "    prediction_dict = detection_model.predict(image, shapes)\n",
    "    detections = detection_model.postprocess(prediction_dict, shapes)\n",
    "    return detections"
   ]
  },
  {
   "cell_type": "markdown",
   "metadata": {
    "id": "0EmsmbBZpfDI",
    "pycharm": {
     "name": "#%% md\n"
    }
   },
   "source": [
    "# 9. Detect from an Image"
   ]
  },
  {
   "cell_type": "code",
   "execution_count": 108,
   "metadata": {
    "id": "Y_MKiuZ4pfDI",
    "pycharm": {
     "name": "#%%\n"
    }
   },
   "outputs": [],
   "source": [
    "import cv2 \n",
    "import numpy as np\n",
    "from matplotlib import pyplot as plt\n",
    "%matplotlib inline"
   ]
  },
  {
   "cell_type": "code",
   "execution_count": 113,
   "metadata": {
    "id": "cBDbIhNapfDI",
    "pycharm": {
     "name": "#%%\n"
    }
   },
   "outputs": [],
   "source": [
    "category_index = label_map_util.create_category_index_from_labelmap(files['LABELMAP'])"
   ]
  },
  {
   "cell_type": "code",
   "execution_count": 114,
   "metadata": {
    "id": "Lx3crOhOzITB",
    "pycharm": {
     "name": "#%%\n"
    }
   },
   "outputs": [],
   "source": [
    "IMAGE_PATH = os.path.join(paths['IMAGE_PATH'], 'test', 'armas (95).jpg')"
   ]
  },
  {
   "cell_type": "code",
   "execution_count": 115,
   "metadata": {
    "pycharm": {
     "name": "#%%\n"
    }
   },
   "outputs": [
    {
     "data": {
      "text/plain": [
       "'Tensorflow/work/imagenes/test/armas (95).jpg'"
      ]
     },
     "execution_count": 115,
     "metadata": {},
     "output_type": "execute_result"
    }
   ],
   "source": [
    "IMAGE_PATH"
   ]
  },
  {
   "cell_type": "code",
   "execution_count": 116,
   "metadata": {
    "id": "Tpzn1SMry1yK",
    "pycharm": {
     "name": "#%%\n"
    }
   },
   "outputs": [
    {
     "data": {
      "image/png": "[encoded data removed]",
      "text/plain": [
       "<Figure size 432x288 with 1 Axes>"
      ]
     },
     "metadata": {
      "needs_background": "light"
     },
     "output_type": "display_data"
    }
   ],
   "source": [
    "img = cv2.imread(IMAGE_PATH)\n",
    "image_np = np.array(img)\n",
    "\n",
    "input_tensor = tf.convert_to_tensor(np.expand_dims(image_np, 0), dtype=tf.float32)\n",
    "detections = detect_fn(input_tensor)\n",
    "\n",
    "num_detections = int(detections.pop('num_detections'))\n",
    "detections = {key: value[0, :num_detections].numpy()\n",
    "              for key, value in detections.items()}\n",
    "detections['num_detections'] = num_detections\n",
    "\n",
    "# detection_classes should be ints.\n",
    "detections['detection_classes'] = detections['detection_classes'].astype(np.int64)\n",
    "\n",
    "label_id_offset = 1\n",
    "image_np_with_detections = image_np.copy()\n",
    "\n",
    "viz_utils.visualize_boxes_and_labels_on_image_array(\n",
    "            image_np_with_detections,\n",
    "            detections['detection_boxes'],\n",
    "            detections['detection_classes']+label_id_offset,\n",
    "            detections['detection_scores'],\n",
    "            category_index,\n",
    "            use_normalized_coordinates=True,\n",
    "            max_boxes_to_draw=5,\n",
    "            min_score_thresh=.8,\n",
    "            agnostic_mode=False)\n",
    "\n",
    "plt.imshow(cv2.cvtColor(image_np_with_detections, cv2.COLOR_BGR2RGB))\n",
    "plt.show()"
   ]
  },
  {
   "cell_type": "markdown",
   "metadata": {
    "id": "IsNAaYAo0WVL",
    "pycharm": {
     "name": "#%% md\n"
    }
   },
   "source": [
    "# 10. Real Time Detections from your Webcam"
   ]
  },
  {
   "cell_type": "code",
   "execution_count": null,
   "metadata": {
    "id": "RQdflw94CFyZ",
    "pycharm": {
     "name": "#%%\n"
    }
   },
   "outputs": [],
   "source": [
    "!pip uninstall opencv-python-headless -y"
   ]
  },
  {
   "cell_type": "code",
   "execution_count": null,
   "metadata": {
    "id": "o_grs6OGpfDJ",
    "pycharm": {
     "name": "#%%\n"
    }
   },
   "outputs": [],
   "source": [
    "cap = cv2.VideoCapture(0)\n",
    "width = int(cap.get(cv2.CAP_PROP_FRAME_WIDTH))\n",
    "height = int(cap.get(cv2.CAP_PROP_FRAME_HEIGHT))\n",
    "\n",
    "while cap.isOpened(): \n",
    "    ret, frame = cap.read()\n",
    "    image_np = np.array(frame)\n",
    "    \n",
    "    input_tensor = tf.convert_to_tensor(np.expand_dims(image_np, 0), dtype=tf.float32)\n",
    "    detections = detect_fn(input_tensor)\n",
    "    \n",
    "    num_detections = int(detections.pop('num_detections'))\n",
    "    detections = {key: value[0, :num_detections].numpy()\n",
    "                  for key, value in detections.items()}\n",
    "    detections['num_detections'] = num_detections\n",
    "\n",
    "    # detection_classes should be ints.\n",
    "    detections['detection_classes'] = detections['detection_classes'].astype(np.int64)\n",
    "\n",
    "    label_id_offset = 1\n",
    "    image_np_with_detections = image_np.copy()\n",
    "\n",
    "    viz_utils.visualize_boxes_and_labels_on_image_array(\n",
    "                image_np_with_detections,\n",
    "                detections['detection_boxes'],\n",
    "                detections['detection_classes']+label_id_offset,\n",
    "                detections['detection_scores'],\n",
    "                category_index,\n",
    "                use_normalized_coordinates=True,\n",
    "                max_boxes_to_draw=5,\n",
    "                min_score_thresh=.8,\n",
    "                agnostic_mode=False)\n",
    "\n",
    "    cv2.imshow('object detection',  cv2.resize(image_np_with_detections, (800, 600)))\n",
    "    \n",
    "    if cv2.waitKey(10) & 0xFF == ord('q'):\n",
    "        cap.release()\n",
    "        cv2.destroyAllWindows()\n",
    "        break"
   ]
  },
  {
   "cell_type": "markdown",
   "metadata": {
    "id": "rzlM4jt0pfDJ",
    "pycharm": {
     "name": "#%% md\n"
    }
   },
   "source": [
    "# 10. Freezing the Graph"
   ]
  },
  {
   "cell_type": "code",
   "execution_count": null,
   "metadata": {
    "id": "n4olHB2npfDJ",
    "pycharm": {
     "name": "#%%\n"
    }
   },
   "outputs": [],
   "source": [
    "FREEZE_SCRIPT = os.path.join(paths['APIMODEL_PATH'], 'research', 'object_detection', 'exporter_main_v2.py ')"
   ]
  },
  {
   "cell_type": "code",
   "execution_count": null,
   "metadata": {
    "id": "0AjO93QDpfDJ",
    "pycharm": {
     "name": "#%%\n"
    }
   },
   "outputs": [],
   "source": [
    "command = \"python {} --input_type=image_tensor --pipeline_config_path={} --trained_checkpoint_dir={} --output_directory={}\".format(FREEZE_SCRIPT ,files['PIPELINE_CONFIG'], paths['CHECKPOINT_PATH'], paths['OUTPUT_PATH'])"
   ]
  },
  {
   "cell_type": "code",
   "execution_count": null,
   "metadata": {
    "id": "F6Lsp3tCpfDJ",
    "pycharm": {
     "name": "#%%\n"
    }
   },
   "outputs": [],
   "source": [
    "print(command)"
   ]
  },
  {
   "cell_type": "code",
   "execution_count": null,
   "metadata": {
    "id": "1Sw1ULgHpfDJ",
    "pycharm": {
     "name": "#%%\n"
    }
   },
   "outputs": [],
   "source": [
    "!{command}"
   ]
  },
  {
   "cell_type": "markdown",
   "metadata": {
    "id": "wTPmdqaXpfDK",
    "pycharm": {
     "name": "#%% md\n"
    }
   },
   "source": [
    "# 11. Conversion to TFJS"
   ]
  },
  {
   "cell_type": "code",
   "execution_count": null,
   "metadata": {
    "id": "gZ6UzY_fpfDK",
    "scrolled": true,
    "pycharm": {
     "name": "#%%\n"
    }
   },
   "outputs": [],
   "source": [
    "!pip install tensorflowjs"
   ]
  },
  {
   "cell_type": "code",
   "execution_count": null,
   "metadata": {
    "id": "0oxbVynHpfDK",
    "pycharm": {
     "name": "#%%\n"
    }
   },
   "outputs": [],
   "source": [
    "command = \"tensorflowjs_converter --input_format=tf_saved_model --output_node_names='detection_boxes,detection_classes,detection_features,detection_multiclass_scores,detection_scores,num_detections,raw_detection_boxes,raw_detection_scores' --output_format=tfjs_graph_model --signature_name=serving_default {} {}\".format(os.path.join(paths['OUTPUT_PATH'], 'saved_model'), paths['TFJS_PATH'])"
   ]
  },
  {
   "cell_type": "code",
   "execution_count": null,
   "metadata": {
    "id": "DB2AGNmJpfDK",
    "pycharm": {
     "name": "#%%\n"
    }
   },
   "outputs": [],
   "source": [
    "print(command)"
   ]
  },
  {
   "cell_type": "code",
   "execution_count": null,
   "metadata": {
    "id": "K7rfT4-hpfDK",
    "pycharm": {
     "name": "#%%\n"
    }
   },
   "outputs": [],
   "source": [
    "!{command}"
   ]
  },
  {
   "cell_type": "code",
   "execution_count": null,
   "metadata": {
    "id": "o8_hm-itpfDK",
    "pycharm": {
     "name": "#%%\n"
    }
   },
   "outputs": [],
   "source": [
    "# Test Code: https://github.com/nicknochnack/RealTimeSignLanguageDetectionwithTFJS"
   ]
  },
  {
   "cell_type": "markdown",
   "metadata": {
    "id": "VtUw73FHpfDK",
    "pycharm": {
     "name": "#%% md\n"
    }
   },
   "source": [
    "# 12. Conversion to TFLite"
   ]
  },
  {
   "cell_type": "code",
   "execution_count": null,
   "metadata": {
    "id": "XviMtewLpfDK",
    "pycharm": {
     "name": "#%%\n"
    }
   },
   "outputs": [],
   "source": [
    "TFLITE_SCRIPT = os.path.join(paths['APIMODEL_PATH'], 'research', 'object_detection', 'export_tflite_graph_tf2.py ')"
   ]
  },
  {
   "cell_type": "code",
   "execution_count": null,
   "metadata": {
    "id": "us86cjC4pfDL",
    "pycharm": {
     "name": "#%%\n"
    }
   },
   "outputs": [],
   "source": [
    "command = \"python {} --pipeline_config_path={} --trained_checkpoint_dir={} --output_directory={}\".format(TFLITE_SCRIPT ,files['PIPELINE_CONFIG'], paths['CHECKPOINT_PATH'], paths['TFLITE_PATH'])"
   ]
  },
  {
   "cell_type": "code",
   "execution_count": null,
   "metadata": {
    "id": "n1r5YO3rpfDL",
    "pycharm": {
     "name": "#%%\n"
    }
   },
   "outputs": [],
   "source": [
    "print(command)"
   ]
  },
  {
   "cell_type": "code",
   "execution_count": null,
   "metadata": {
    "id": "I-xWpHN8pfDL",
    "pycharm": {
     "name": "#%%\n"
    }
   },
   "outputs": [],
   "source": [
    "!{command}"
   ]
  },
  {
   "cell_type": "code",
   "execution_count": null,
   "metadata": {
    "id": "iJfYMbN6pfDL",
    "pycharm": {
     "name": "#%%\n"
    }
   },
   "outputs": [],
   "source": [
    "FROZEN_TFLITE_PATH = os.path.join(paths['TFLITE_PATH'], 'saved_model')\n",
    "TFLITE_MODEL = os.path.join(paths['TFLITE_PATH'], 'saved_model', 'detect.tflite')"
   ]
  },
  {
   "cell_type": "code",
   "execution_count": null,
   "metadata": {
    "id": "6y8Sr_-_CFyd",
    "pycharm": {
     "name": "#%%\n"
    }
   },
   "outputs": [],
   "source": [
    "command = \"tflite_convert \\\n",
    "--saved_model_dir={} \\\n",
    "--output_file={} \\\n",
    "--input_shapes=1,300,300,3 \\\n",
    "--input_arrays=normalized_input_image_tensor \\\n",
    "--output_arrays='TFLite_Detection_PostProcess','TFLite_Detection_PostProcess:1','TFLite_Detection_PostProcess:2','TFLite_Detection_PostProcess:3' \\\n",
    "--inference_type=FLOAT \\\n",
    "--allow_custom_ops\".format(FROZEN_TFLITE_PATH, TFLITE_MODEL, )"
   ]
  },
  {
   "cell_type": "code",
   "execution_count": null,
   "metadata": {
    "id": "E8GwUeoFpfDL",
    "pycharm": {
     "name": "#%%\n"
    }
   },
   "outputs": [],
   "source": [
    "print(command)"
   ]
  },
  {
   "cell_type": "code",
   "execution_count": null,
   "metadata": {
    "id": "Nbd7gqHMpfDL",
    "pycharm": {
     "name": "#%%\n"
    }
   },
   "outputs": [],
   "source": [
    "!{command}"
   ]
  },
  {
   "cell_type": "markdown",
   "metadata": {
    "id": "5NQqZRdA21Uc",
    "pycharm": {
     "name": "#%% md\n"
    }
   },
   "source": [
    "# 13. Zip and Export Models "
   ]
  },
  {
   "cell_type": "code",
   "execution_count": null,
   "metadata": {
    "id": "tTVTGCQp2ZJJ",
    "pycharm": {
     "name": "#%%\n"
    }
   },
   "outputs": [],
   "source": [
    "!tar -czf models.tar.gz {paths['CHECKPOINT_PATH']}"
   ]
  },
  {
   "cell_type": "code",
   "execution_count": null,
   "metadata": {
    "id": "whShhB0x3PYJ",
    "pycharm": {
     "name": "#%%\n"
    }
   },
   "outputs": [],
   "source": [
    "from google.colab import drive\n",
    "drive.mount('/content/drive')"
   ]
  }
 ],
 "metadata": {
  "accelerator": "GPU",
  "colab": {
   "collapsed_sections": [
    "OLU-rs_ipfDE",
    "M5KJTnkfpfDC",
    "qT4QU7pLpfDE",
    "4_YRZu7npfDH",
    "orvRk02UpfDI",
    "0EmsmbBZpfDI",
    "IsNAaYAo0WVL",
    "rzlM4jt0pfDJ",
    "wTPmdqaXpfDK",
    "VtUw73FHpfDK",
    "5NQqZRdA21Uc"
   ],
   "name": "2. Training and Detection.ipynb",
   "provenance": []
  },
  "kernelspec": {
   "display_name": "tfodj",
   "language": "python",
   "name": "tfodj"
  },
  "language_info": {
   "codemirror_mode": {
    "name": "ipython",
    "version": 3
   },
   "file_extension": ".py",
   "mimetype": "text/x-python",
   "name": "python",
   "nbconvert_exporter": "python",
   "pygments_lexer": "ipython3",
   "version": "3.8.13"
  }
 },
 "nbformat": 4,
 "nbformat_minor": 1
}